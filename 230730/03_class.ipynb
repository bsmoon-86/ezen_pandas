{
 "cells": [
  {
   "cell_type": "markdown",
   "metadata": {},
   "source": [
    "## class 생성\n",
    "1. class 이름은 Test1\n",
    "2. 생성자 함수 (```__init__```) 생성 인자값을 2개\n",
    "3. 간단한 일반함수를 이용하여 변수 값들은 리턴"
   ]
  },
  {
   "cell_type": "code",
   "execution_count": 1,
   "metadata": {},
   "outputs": [],
   "source": [
    "# class 선언\n",
    "class Test:\n",
    "    # 생성자 함수 \n",
    "    def __init__(self, input_x, input_y):\n",
    "        self.x = input_x\n",
    "        self.y = input_y\n",
    "\n",
    "    # 일반 함수 \n",
    "    def var_call(self):\n",
    "        return (self.x, self.y)"
   ]
  },
  {
   "cell_type": "code",
   "execution_count": 2,
   "metadata": {},
   "outputs": [],
   "source": [
    "# class 생성\n",
    "class_1 = Test(10, 'test')"
   ]
  },
  {
   "cell_type": "code",
   "execution_count": 3,
   "metadata": {},
   "outputs": [
    {
     "name": "stdout",
     "output_type": "stream",
     "text": [
      "10\n",
      "test\n",
      "(10, 'test')\n"
     ]
    }
   ],
   "source": [
    "# class 내부에 있는 변수와 함수 호출\n",
    "print(class_1.x)\n",
    "print(class_1.y)\n",
    "print(class_1.var_call())"
   ]
  },
  {
   "cell_type": "code",
   "execution_count": 4,
   "metadata": {},
   "outputs": [],
   "source": [
    "class_2 = Test(20, 'test2')"
   ]
  },
  {
   "cell_type": "code",
   "execution_count": 5,
   "metadata": {},
   "outputs": [
    {
     "name": "stdout",
     "output_type": "stream",
     "text": [
      "10\n",
      "20\n"
     ]
    }
   ],
   "source": [
    "print(class_1.x)\n",
    "print(class_2.x)"
   ]
  },
  {
   "cell_type": "markdown",
   "metadata": {},
   "source": [
    "## Class 선언\n",
    "1. class 이름은 User\n",
    "2. 생성자 함수에서 유저의 이름, 생년월일, 휴대폰번호라는 매개변수를 이용해서 self.변수에 해당 값들을 저장\n",
    "3. info() 함수를 이용하여 유저의 정보를 출력"
   ]
  },
  {
   "cell_type": "code",
   "execution_count": 45,
   "metadata": {},
   "outputs": [],
   "source": [
    "# class 선언\n",
    "class User:\n",
    "\n",
    "    # 클래스 변수 선언\n",
    "    # 등록된 유저의 수를 뜻한다.\n",
    "    user_count = []\n",
    "\n",
    "    # 생성자 함수를 이용하여 유저의 정보를 입력받는다. \n",
    "    def __init__(self, input_name, input_birth, input_phone):\n",
    "        self.name = input_name\n",
    "        self.birth = input_birth\n",
    "        self.phone = input_phone\n",
    "        # 유저 등록시 user_count 값을 1 증가시킨다. \n",
    "        self.user_count.append(input_name)\n",
    "        # return \"Class Call\"\n",
    "    \n",
    "    # info() 함수를 생성하여 유저의 정보를 되돌려준다. \n",
    "    def info(self):\n",
    "        result = 'name :'+ self.name+ ' birth :'+ self.birth+ ' phone : '+ self.phone\n",
    "        return result"
   ]
  },
  {
   "cell_type": "code",
   "execution_count": 46,
   "metadata": {},
   "outputs": [],
   "source": [
    "# class 생성\n",
    "user1 = User('test', '900101', '01012345678')"
   ]
  },
  {
   "cell_type": "code",
   "execution_count": 47,
   "metadata": {},
   "outputs": [
    {
     "data": {
      "text/plain": [
       "'name :test birth :900101 phone : 01012345678'"
      ]
     },
     "execution_count": 47,
     "metadata": {},
     "output_type": "execute_result"
    }
   ],
   "source": [
    "user1.info()"
   ]
  },
  {
   "cell_type": "code",
   "execution_count": 48,
   "metadata": {},
   "outputs": [],
   "source": [
    "# class 생성\n",
    "user2 = User('test2', '950101', '01078945612')"
   ]
  },
  {
   "cell_type": "code",
   "execution_count": 49,
   "metadata": {},
   "outputs": [
    {
     "data": {
      "text/plain": [
       "'name :test2 birth :950101 phone : 01078945612'"
      ]
     },
     "execution_count": 49,
     "metadata": {},
     "output_type": "execute_result"
    }
   ],
   "source": [
    "user2.info()"
   ]
  },
  {
   "cell_type": "code",
   "execution_count": 50,
   "metadata": {},
   "outputs": [
    {
     "name": "stdout",
     "output_type": "stream",
     "text": [
      "['test', 'test2']\n",
      "['test', 'test2']\n"
     ]
    }
   ],
   "source": [
    "print(user1.user_count)\n",
    "print(user2.user_count)"
   ]
  },
  {
   "cell_type": "markdown",
   "metadata": {},
   "source": [
    "## 지갑 클래스를 선언\n",
    "1. 클래스의 이름은 Wallet(User 클래스를 상속 받는다.)\n",
    "2. 생성자 함수에는 소유자의 정보, 지갑의 브랜드, 지갑의 잔액\n",
    "3. 잔액이라는 변수는 기본값이 0\n",
    "4. work() 함수를 생성 : 매개변수에는 일의 종류 \n",
    "    - 일의 종류에 따라 지갑의 잔액이 변경\n",
    "5. info() 함수를 생성 : 지갑에 대한 정보를 출력"
   ]
  },
  {
   "cell_type": "code",
   "execution_count": 63,
   "metadata": {},
   "outputs": [],
   "source": [
    "## 상속\n",
    "class Wallet(User):\n",
    "    # 생성자 함수 \n",
    "    def __init__(self, input_name, input_birth, input_phone, input_brand, input_balance = 0):\n",
    "        # 부모 클래스에 있는 생성자 함수 호출\n",
    "        #super() : 부모클래스\n",
    "        super().__init__(input_name, input_birth, input_phone)\n",
    "        self.brand = input_brand\n",
    "        self.balance = input_balance\n",
    "\n",
    "    # work(self, input_type) 함수 생성\n",
    "    def work(self, input_type):\n",
    "        # type에 따라 지갑의 잔액이 변경\n",
    "        if (input_type == 'serving'):\n",
    "            self.balance += 500\n",
    "        elif (input_type == 'hunt'):\n",
    "            self.balance += 1000\n",
    "        else:\n",
    "            return \"일의 타입이 맞지 않는다.\"\n",
    "        return f'{input_type}의 일을 완료하였습니다. 현재 잔액은 {self.balance}입니다.'\n",
    "    \n",
    "    # info() 함수 생성\n",
    "    def info(self):\n",
    "        return (self.name, self.brand, self.balance)"
   ]
  },
  {
   "cell_type": "code",
   "execution_count": 64,
   "metadata": {},
   "outputs": [],
   "source": [
    "wallet1 = Wallet(\"test\", \"900101\", \"01012345678\", \"chanel\")"
   ]
  },
  {
   "cell_type": "code",
   "execution_count": 65,
   "metadata": {},
   "outputs": [
    {
     "data": {
      "text/plain": [
       "('test', 'chanel', 0)"
      ]
     },
     "execution_count": 65,
     "metadata": {},
     "output_type": "execute_result"
    }
   ],
   "source": [
    "wallet1.info()"
   ]
  },
  {
   "cell_type": "code",
   "execution_count": 59,
   "metadata": {},
   "outputs": [],
   "source": [
    "user1 = User('test', '950101', \"01012345678\")"
   ]
  },
  {
   "cell_type": "code",
   "execution_count": 60,
   "metadata": {},
   "outputs": [
    {
     "data": {
      "text/plain": [
       "'name :test birth :950101 phone : 01012345678'"
      ]
     },
     "execution_count": 60,
     "metadata": {},
     "output_type": "execute_result"
    }
   ],
   "source": [
    "user1.info()"
   ]
  },
  {
   "cell_type": "code",
   "execution_count": 66,
   "metadata": {},
   "outputs": [
    {
     "data": {
      "text/plain": [
       "'일의 타입이 맞지 않는다.'"
      ]
     },
     "execution_count": 66,
     "metadata": {},
     "output_type": "execute_result"
    }
   ],
   "source": [
    "wallet1.work('alba')"
   ]
  },
  {
   "cell_type": "code",
   "execution_count": 72,
   "metadata": {},
   "outputs": [
    {
     "data": {
      "text/plain": [
       "'serving의 일을 완료하였습니다. 현재 잔액은 3000입니다.'"
      ]
     },
     "execution_count": 72,
     "metadata": {},
     "output_type": "execute_result"
    }
   ],
   "source": [
    "wallet1.work('serving')"
   ]
  },
  {
   "cell_type": "code",
   "execution_count": 76,
   "metadata": {},
   "outputs": [
    {
     "data": {
      "text/plain": [
       "'hunt의 일을 완료하였습니다. 현재 잔액은 7000입니다.'"
      ]
     },
     "execution_count": 76,
     "metadata": {},
     "output_type": "execute_result"
    }
   ],
   "source": [
    "wallet1.work('hunt')"
   ]
  },
  {
   "cell_type": "code",
   "execution_count": 77,
   "metadata": {},
   "outputs": [],
   "source": [
    "wallet2 = Wallet('test2', '000202', '01078945612', 'Gucci')"
   ]
  },
  {
   "cell_type": "code",
   "execution_count": 78,
   "metadata": {},
   "outputs": [
    {
     "data": {
      "text/plain": [
       "('test2', 'Gucci', 0)"
      ]
     },
     "execution_count": 78,
     "metadata": {},
     "output_type": "execute_result"
    }
   ],
   "source": [
    "wallet2.info()"
   ]
  },
  {
   "cell_type": "code",
   "execution_count": 79,
   "metadata": {},
   "outputs": [
    {
     "data": {
      "text/plain": [
       "'serving의 일을 완료하였습니다. 현재 잔액은 500입니다.'"
      ]
     },
     "execution_count": 79,
     "metadata": {},
     "output_type": "execute_result"
    }
   ],
   "source": [
    "wallet2.work('serving')"
   ]
  },
  {
   "cell_type": "code",
   "execution_count": null,
   "metadata": {},
   "outputs": [],
   "source": []
  }
 ],
 "metadata": {
  "kernelspec": {
   "display_name": "Python 3",
   "language": "python",
   "name": "python3"
  },
  "language_info": {
   "codemirror_mode": {
    "name": "ipython",
    "version": 3
   },
   "file_extension": ".py",
   "mimetype": "text/x-python",
   "name": "python",
   "nbconvert_exporter": "python",
   "pygments_lexer": "ipython3",
   "version": "3.11.0"
  },
  "orig_nbformat": 4
 },
 "nbformat": 4,
 "nbformat_minor": 2
}
