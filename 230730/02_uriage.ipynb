{
 "cells": [
  {
   "cell_type": "code",
   "execution_count": null,
   "metadata": {},
   "outputs": [],
   "source": [
    "import pandas as pd"
   ]
  },
  {
   "cell_type": "code",
   "execution_count": null,
   "metadata": {},
   "outputs": [],
   "source": [
    "uriage = pd.read_csv(\"../csv/uriage.csv\")\n",
    "uriage.head()"
   ]
  },
  {
   "cell_type": "code",
   "execution_count": null,
   "metadata": {},
   "outputs": [],
   "source": [
    "## 결측치 확인 \n",
    "uriage.info()"
   ]
  },
  {
   "cell_type": "code",
   "execution_count": null,
   "metadata": {},
   "outputs": [],
   "source": [
    "uriage.isna().sum()"
   ]
  },
  {
   "cell_type": "markdown",
   "metadata": {},
   "source": [
    "1. purchase_date를 시계열데이터로 변경\n",
    "2. item_name의 데이터의 공백 제거 \n",
    "3. item_name의 데이터를 모두 대문자로 변경\n",
    "4. item_name을 기준으로 오름차순 정렬\n",
    "5. 인덱스를 초기화(기존의 인덱스는 삭제)"
   ]
  },
  {
   "cell_type": "code",
   "execution_count": null,
   "metadata": {},
   "outputs": [],
   "source": [
    "uriage['purchase_date'] = pd.to_datetime(\n",
    "    uriage['purchase_date'],\n",
    "    format = '%Y-%m-%d %H:%M')"
   ]
  },
  {
   "cell_type": "code",
   "execution_count": null,
   "metadata": {},
   "outputs": [],
   "source": [
    "uriage.info()"
   ]
  },
  {
   "cell_type": "code",
   "execution_count": null,
   "metadata": {},
   "outputs": [],
   "source": [
    "uriage_2 = uriage.copy()"
   ]
  },
  {
   "cell_type": "code",
   "execution_count": null,
   "metadata": {},
   "outputs": [],
   "source": [
    "## item_name의 데이터의 공백을 모두 제거 \n",
    "\n",
    "## case1\n",
    "uriage['item_name'].str.upper()\n"
   ]
  },
  {
   "cell_type": "code",
   "execution_count": null,
   "metadata": {},
   "outputs": [],
   "source": [
    "\n",
    "## case2\n",
    "# apply() + 일반 함수 \n",
    "# apply() : 스리즈 형태의 데이터를 항목 하나하나 씩 함수에 대입하여 출력 값을 스리즈의 형태로 변경하여 출력\n",
    "\n",
    "# 일반 함수 생성\n",
    "def change(x):\n",
    "    # x의 데이터의 형태는? -> 문자열\n",
    "    result = x.upper()\n",
    "    return result\n",
    "\n",
    "uriage['item_name'].apply(change)"
   ]
  },
  {
   "cell_type": "code",
   "execution_count": null,
   "metadata": {},
   "outputs": [],
   "source": [
    "## case3\n",
    "# apply() + lambda함수\n",
    "uriage['item_name'] = uriage['item_name'].apply(lambda x : x.upper())"
   ]
  },
  {
   "cell_type": "code",
   "execution_count": null,
   "metadata": {},
   "outputs": [],
   "source": [
    "uriage.head()"
   ]
  },
  {
   "cell_type": "code",
   "execution_count": null,
   "metadata": {},
   "outputs": [],
   "source": [
    "## 공백 제거 \n",
    "a = \"  Hello  World  \""
   ]
  },
  {
   "cell_type": "code",
   "execution_count": null,
   "metadata": {},
   "outputs": [],
   "source": [
    "a.strip()"
   ]
  },
  {
   "cell_type": "code",
   "execution_count": null,
   "metadata": {},
   "outputs": [],
   "source": [
    "a.replace(\" \", \"\")"
   ]
  },
  {
   "cell_type": "code",
   "execution_count": null,
   "metadata": {},
   "outputs": [],
   "source": [
    "## item_name의 문자열 사이의 공백을 제거 \n",
    "\n",
    "# case1\n",
    "uriage['item_name'].str.replace(\" \", \"\")"
   ]
  },
  {
   "cell_type": "code",
   "execution_count": null,
   "metadata": {},
   "outputs": [],
   "source": [
    "# case2\n",
    "def change(x):\n",
    "    result = x.replace(\" \", \"\")\n",
    "    return result\n",
    "\n",
    "uriage['item_name'].apply(change)"
   ]
  },
  {
   "cell_type": "code",
   "execution_count": null,
   "metadata": {},
   "outputs": [],
   "source": [
    "# case3\n",
    "uriage['item_name'] = uriage['item_name'].apply(lambda x : x.replace(\" \", \"\"))"
   ]
  },
  {
   "cell_type": "code",
   "execution_count": null,
   "metadata": {},
   "outputs": [],
   "source": [
    "uriage.head()"
   ]
  },
  {
   "cell_type": "code",
   "execution_count": null,
   "metadata": {},
   "outputs": [],
   "source": [
    "uriage['item_name'].value_counts()"
   ]
  },
  {
   "cell_type": "code",
   "execution_count": null,
   "metadata": {},
   "outputs": [],
   "source": [
    "uriage['item_name'].unique()"
   ]
  },
  {
   "cell_type": "code",
   "execution_count": null,
   "metadata": {},
   "outputs": [],
   "source": [
    "uriage_2['item_name'].unique()"
   ]
  },
  {
   "cell_type": "code",
   "execution_count": null,
   "metadata": {},
   "outputs": [],
   "source": [
    "# item_name 데이터를 대문자로 변경하고 공백을 모두 제거 \n",
    "\n",
    "# case1\n",
    "uriage_2['item_name'].str.replace(\" \", \"\").str.upper()\n",
    "# uriage_2['item_name'].str.replace(\" \", \"\")"
   ]
  },
  {
   "cell_type": "code",
   "execution_count": null,
   "metadata": {},
   "outputs": [],
   "source": [
    "# case2\n",
    "# apply() + 일반함수\n",
    "\n",
    "def change(x):\n",
    "    result = x.upper().replace(\" \", \"\")\n",
    "    # result = result.replace(\" \", \"\")\n",
    "\n",
    "    return result\n",
    "\n",
    "uriage_2['item_name'].apply(change)"
   ]
  },
  {
   "cell_type": "code",
   "execution_count": null,
   "metadata": {},
   "outputs": [],
   "source": [
    "# case3\n",
    "# apply() + lambda\n",
    "uriage_2['item_name'].apply(lambda x : x.upper().replace(\" \", \"\"))"
   ]
  },
  {
   "cell_type": "code",
   "execution_count": null,
   "metadata": {},
   "outputs": [],
   "source": [
    "## item_name을 기준으로 오름차순 정렬\n",
    "# uriage = uriage.sort_values('item_name')\n",
    "# inpalce는 기준이 되는 데이터를 변경\n",
    "# ignore_index는 인덱스를 초기화\n",
    "uriage.sort_values('item_name', inplace=True, ignore_index=True)"
   ]
  },
  {
   "cell_type": "code",
   "execution_count": null,
   "metadata": {},
   "outputs": [],
   "source": [
    "# 인덱스를 초기화 기존의 인덱스 삭제\n",
    "# uriage = uriage.reset_index(drop=True)\n",
    "uriage.reset_index(drop=True, inplace = True)"
   ]
  },
  {
   "cell_type": "markdown",
   "metadata": {},
   "source": [
    "1. 결측치의 데이터를 치환\n",
    "    - 상품A의 item_price의 값의 평균을 상품A중 결측치인 값에 치환\n",
    "    - 나머지의 상품들도 같은 방법으로 치환"
   ]
  },
  {
   "cell_type": "code",
   "execution_count": null,
   "metadata": {},
   "outputs": [],
   "source": [
    "## 상품의 이름이 상품A 인 데이터만 추출\n",
    "## 필터링\n",
    "\n",
    "# case1\n",
    "fig = uriage['item_name'] == '상품A' \n",
    "uriage.loc[fig]"
   ]
  },
  {
   "cell_type": "code",
   "execution_count": null,
   "metadata": {},
   "outputs": [],
   "source": [
    "# case2\n",
    "uriage.query(\"item_name == '상품A'\")"
   ]
  },
  {
   "cell_type": "code",
   "execution_count": null,
   "metadata": {},
   "outputs": [],
   "source": [
    "# case3\n",
    "uriage.groupby('item_name').get_group('상품A')"
   ]
  },
  {
   "cell_type": "code",
   "execution_count": null,
   "metadata": {},
   "outputs": [],
   "source": [
    "## 상품A인 경우의 item_price의 평균값?\n",
    "uriage.loc[fig, 'item_price'].mean()"
   ]
  },
  {
   "cell_type": "code",
   "execution_count": null,
   "metadata": {},
   "outputs": [],
   "source": [
    "# item_name이 상품A이고 item_price가 결측치인 데이터에 \n",
    "# 상품A인 경우 item_price의 평균값을 대체\n",
    "\n",
    "# item_name이 상품A(fig)이고 item_price가 결측치인(fig2) 데이터 추출\n",
    "\n",
    "fig2 = uriage['item_price'].isna()\n",
    "\n",
    "uriage.loc[fig & fig2]\n",
    "\n"
   ]
  },
  {
   "cell_type": "code",
   "execution_count": null,
   "metadata": {},
   "outputs": [],
   "source": [
    "fig2"
   ]
  },
  {
   "cell_type": "code",
   "execution_count": null,
   "metadata": {},
   "outputs": [],
   "source": [
    "# 상품A이고 item_price가 결측치가 아닌 데이터 추출\n",
    "a_place = uriage.loc[fig & ~fig2, 'item_price'].mean()"
   ]
  },
  {
   "cell_type": "code",
   "execution_count": null,
   "metadata": {},
   "outputs": [],
   "source": [
    "uriage.loc[fig & fig2].fillna(a_place)"
   ]
  },
  {
   "cell_type": "code",
   "execution_count": null,
   "metadata": {},
   "outputs": [],
   "source": [
    "## 조건식\n",
    "# item_name을 기준으로 데이터 필터\n",
    "fig = uriage['item_name'] == '상품A'\n",
    "# item_price가 결측치인 데이터 필터\n",
    "fig2 = uriage['item_price'].isna()\n",
    "\n",
    "# item_name이 상품A이고 item_price가 결측치가 아닌 데이터 필터\n",
    "# item_price의 평균 \n",
    "a_place = uriage.loc[fig & ~fig2, 'item_price'].mean()\n",
    "\n",
    "# item_name이 상품A이고 item_price가 결측치인 데이터 필터\n",
    "# a_price의 값으로 결측치를 대체\n",
    "uriage.loc[fig & fig2].fillna(a_place)"
   ]
  },
  {
   "cell_type": "code",
   "execution_count": 70,
   "metadata": {},
   "outputs": [],
   "source": [
    "name_list = uriage['item_name'].unique()"
   ]
  },
  {
   "cell_type": "code",
   "execution_count": 69,
   "metadata": {},
   "outputs": [
    {
     "data": {
      "text/plain": [
       "Index(['상품S', '상품A', '상품R', '상품P', '상품V', '상품C', '상품F', '상품D', '상품Q', '상품O',\n",
       "       '상품W', '상품N', '상품T', '상품J', '상품X', '상품I', '상품M', '상품B', '상품L', '상품G',\n",
       "       '상품K', '상품H', '상품U', '상품E', '상품Y', '상품Z'],\n",
       "      dtype='object', name='item_name')"
      ]
     },
     "execution_count": 69,
     "metadata": {},
     "output_type": "execute_result"
    }
   ],
   "source": [
    "uriage['item_name'].value_counts().index"
   ]
  },
  {
   "cell_type": "code",
   "execution_count": 73,
   "metadata": {},
   "outputs": [],
   "source": [
    "for name in name_list:\n",
    "    fig  = uriage['item_name'] == name\n",
    "    fig2 = uriage['item_price'].isna()\n",
    "    mean_price = uriage.loc[fig & ~fig2, 'item_price'].mean()\n",
    "    \n",
    "    uriage.loc[fig & fig2] = uriage.loc[fig & fig2].fillna(mean_price)\n",
    "    # uriage.loc[fig & fig2, 'item_price'] = mean_price"
   ]
  },
  {
   "cell_type": "code",
   "execution_count": null,
   "metadata": {},
   "outputs": [],
   "source": [
    "uriage.isna().sum()"
   ]
  },
  {
   "cell_type": "code",
   "execution_count": null,
   "metadata": {},
   "outputs": [],
   "source": [
    "uriage.loc[uriage['item_name']=='상품B']"
   ]
  },
  {
   "cell_type": "code",
   "execution_count": 81,
   "metadata": {},
   "outputs": [],
   "source": [
    "fig = uriage_2['item_name'] == '상품A'\n",
    "fig2 = uriage_2['item_price'].isna()\n",
    "uriage_2.loc[fig & fig2, 'item_price'] = 100"
   ]
  },
  {
   "cell_type": "code",
   "execution_count": 82,
   "metadata": {},
   "outputs": [
    {
     "data": {
      "text/html": [
       "<div>\n",
       "<style scoped>\n",
       "    .dataframe tbody tr th:only-of-type {\n",
       "        vertical-align: middle;\n",
       "    }\n",
       "\n",
       "    .dataframe tbody tr th {\n",
       "        vertical-align: top;\n",
       "    }\n",
       "\n",
       "    .dataframe thead th {\n",
       "        text-align: right;\n",
       "    }\n",
       "</style>\n",
       "<table border=\"1\" class=\"dataframe\">\n",
       "  <thead>\n",
       "    <tr style=\"text-align: right;\">\n",
       "      <th></th>\n",
       "      <th>purchase_date</th>\n",
       "      <th>item_name</th>\n",
       "      <th>item_price</th>\n",
       "      <th>customer_name</th>\n",
       "    </tr>\n",
       "  </thead>\n",
       "  <tbody>\n",
       "    <tr>\n",
       "      <th>0</th>\n",
       "      <td>2019-06-13 18:02:00</td>\n",
       "      <td>상품A</td>\n",
       "      <td>100.0</td>\n",
       "      <td>김가온</td>\n",
       "    </tr>\n",
       "    <tr>\n",
       "      <th>9</th>\n",
       "      <td>2019-01-28 10:47:00</td>\n",
       "      <td>상품A</td>\n",
       "      <td>100.0</td>\n",
       "      <td>김태윤</td>\n",
       "    </tr>\n",
       "    <tr>\n",
       "      <th>14</th>\n",
       "      <td>2019-06-11 12:57:00</td>\n",
       "      <td>상품A</td>\n",
       "      <td>100.0</td>\n",
       "      <td>김재호</td>\n",
       "    </tr>\n",
       "    <tr>\n",
       "      <th>35</th>\n",
       "      <td>2019-01-12 03:26:00</td>\n",
       "      <td>상품A</td>\n",
       "      <td>100.0</td>\n",
       "      <td>김건희</td>\n",
       "    </tr>\n",
       "    <tr>\n",
       "      <th>61</th>\n",
       "      <td>2019-02-11 17:00:00</td>\n",
       "      <td>상품A</td>\n",
       "      <td>100.0</td>\n",
       "      <td>김성윤</td>\n",
       "    </tr>\n",
       "    <tr>\n",
       "      <th>...</th>\n",
       "      <td>...</td>\n",
       "      <td>...</td>\n",
       "      <td>...</td>\n",
       "      <td>...</td>\n",
       "    </tr>\n",
       "    <tr>\n",
       "      <th>2875</th>\n",
       "      <td>2019-06-03 17:33:00</td>\n",
       "      <td>상품A</td>\n",
       "      <td>100.0</td>\n",
       "      <td>김서진</td>\n",
       "    </tr>\n",
       "    <tr>\n",
       "      <th>2886</th>\n",
       "      <td>2019-04-25 17:15:00</td>\n",
       "      <td>상품A</td>\n",
       "      <td>100.0</td>\n",
       "      <td>김강현</td>\n",
       "    </tr>\n",
       "    <tr>\n",
       "      <th>2897</th>\n",
       "      <td>2019-05-20 14:05:00</td>\n",
       "      <td>상품A</td>\n",
       "      <td>100.0</td>\n",
       "      <td>김지안</td>\n",
       "    </tr>\n",
       "    <tr>\n",
       "      <th>2951</th>\n",
       "      <td>2019-05-06 02:24:00</td>\n",
       "      <td>상품A</td>\n",
       "      <td>100.0</td>\n",
       "      <td>김주혁</td>\n",
       "    </tr>\n",
       "    <tr>\n",
       "      <th>2973</th>\n",
       "      <td>2019-07-13 21:38:00</td>\n",
       "      <td>상품A</td>\n",
       "      <td>100.0</td>\n",
       "      <td>김태윤</td>\n",
       "    </tr>\n",
       "  </tbody>\n",
       "</table>\n",
       "<p>133 rows × 4 columns</p>\n",
       "</div>"
      ],
      "text/plain": [
       "           purchase_date item_name  item_price customer_name\n",
       "0    2019-06-13 18:02:00       상품A       100.0           김가온\n",
       "9    2019-01-28 10:47:00       상품A       100.0           김태윤\n",
       "14   2019-06-11 12:57:00       상품A       100.0           김재호\n",
       "35   2019-01-12 03:26:00       상품A       100.0           김건희\n",
       "61   2019-02-11 17:00:00       상품A       100.0           김성윤\n",
       "...                  ...       ...         ...           ...\n",
       "2875 2019-06-03 17:33:00       상품A       100.0           김서진\n",
       "2886 2019-04-25 17:15:00       상품A       100.0           김강현\n",
       "2897 2019-05-20 14:05:00       상품A       100.0           김지안\n",
       "2951 2019-05-06 02:24:00       상품A       100.0           김주혁\n",
       "2973 2019-07-13 21:38:00       상품A       100.0           김태윤\n",
       "\n",
       "[133 rows x 4 columns]"
      ]
     },
     "execution_count": 82,
     "metadata": {},
     "output_type": "execute_result"
    }
   ],
   "source": [
    "uriage_2.loc[fig]"
   ]
  },
  {
   "cell_type": "code",
   "execution_count": null,
   "metadata": {},
   "outputs": [],
   "source": []
  }
 ],
 "metadata": {
  "kernelspec": {
   "display_name": "Python 3",
   "language": "python",
   "name": "python3"
  },
  "language_info": {
   "codemirror_mode": {
    "name": "ipython",
    "version": 3
   },
   "file_extension": ".py",
   "mimetype": "text/x-python",
   "name": "python",
   "nbconvert_exporter": "python",
   "pygments_lexer": "ipython3",
   "version": "3.11.0"
  },
  "orig_nbformat": 4
 },
 "nbformat": 4,
 "nbformat_minor": 2
}
