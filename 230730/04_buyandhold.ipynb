{
 "cells": [
  {
   "cell_type": "markdown",
   "metadata": {},
   "source": [
    "# buy and hold 전략\n",
    "1. 구매 후 일정 기간이 지나면 판매"
   ]
  },
  {
   "cell_type": "code",
   "execution_count": null,
   "metadata": {},
   "outputs": [],
   "source": [
    "import pandas as pd\n",
    "import numpy as np"
   ]
  },
  {
   "cell_type": "code",
   "execution_count": null,
   "metadata": {},
   "outputs": [],
   "source": [
    "df = pd.read_csv('../csv/AAPL.csv', index_col='Date')\n",
    "df"
   ]
  },
  {
   "cell_type": "code",
   "execution_count": null,
   "metadata": {},
   "outputs": [],
   "source": [
    "# 결측치를 확인 \n",
    "df.info()"
   ]
  },
  {
   "cell_type": "code",
   "execution_count": null,
   "metadata": {},
   "outputs": [],
   "source": [
    "# Volume의 데이터가 결측치인 데이터를 출력\n",
    "df.loc[~df[\"Volume\"].isna()]"
   ]
  },
  {
   "cell_type": "code",
   "execution_count": null,
   "metadata": {},
   "outputs": [],
   "source": [
    "df.drop([\"1981-08-10\", \"1981-08-21\"], axis=0)"
   ]
  },
  {
   "cell_type": "code",
   "execution_count": null,
   "metadata": {},
   "outputs": [],
   "source": [
    "# 결측치와 양의 무한대, 음의 무한대의 값을 제외한 데이터만 출력\n",
    "df.loc[df['Open'] != -np.inf]\n",
    "df.loc[df['Open'] != np.inf]\n",
    "df.loc[~df['Open'].isna()]"
   ]
  },
  {
   "cell_type": "code",
   "execution_count": null,
   "metadata": {},
   "outputs": [],
   "source": [
    "df.loc[\n",
    "    (df['Open'] != -np.inf) & (df['Open'] != np.inf) & (~df['Open'].isna())\n",
    "]"
   ]
  },
  {
   "cell_type": "code",
   "execution_count": null,
   "metadata": {},
   "outputs": [],
   "source": [
    "flag = ~df.isin([np.nan, np.inf, -np.inf]).any(axis=1)"
   ]
  },
  {
   "cell_type": "code",
   "execution_count": null,
   "metadata": {},
   "outputs": [],
   "source": [
    "df = df.loc[flag]"
   ]
  },
  {
   "cell_type": "code",
   "execution_count": null,
   "metadata": {},
   "outputs": [],
   "source": [
    "# df의 종가를 제외한 데이터를 모두 삭제\n",
    "df[['Close']]"
   ]
  },
  {
   "cell_type": "code",
   "execution_count": null,
   "metadata": {},
   "outputs": [],
   "source": [
    "price_df = df.loc[:, ['Close']]"
   ]
  },
  {
   "cell_type": "code",
   "execution_count": null,
   "metadata": {},
   "outputs": [],
   "source": [
    "# 일별 수익율 = (오늘의 종가 - 전날의 종가) / 전날의 종가\n",
    "# 전 행의 데이터를 로드하려면? shift(n)\n",
    "# case1\n",
    "(price_df['Close'] - price_df['Close'].shift(1)) / price_df['Close'].shift(1)\n"
   ]
  },
  {
   "cell_type": "code",
   "execution_count": null,
   "metadata": {},
   "outputs": [],
   "source": [
    "# case2\n",
    "price_df['Close'].diff() / price_df['Close'].shift()\n"
   ]
  },
  {
   "cell_type": "code",
   "execution_count": null,
   "metadata": {},
   "outputs": [],
   "source": [
    "# case3\n",
    "price_df['daily_rtn'] = price_df['Close'].pct_change()"
   ]
  },
  {
   "cell_type": "code",
   "execution_count": null,
   "metadata": {},
   "outputs": [],
   "source": [
    "price_df"
   ]
  },
  {
   "cell_type": "code",
   "execution_count": null,
   "metadata": {},
   "outputs": [],
   "source": [
    "# 일별 수익율을 가지고 총 수익율 계산\n",
    "test_df = price_df.iloc[300:600]\n",
    "test_df"
   ]
  },
  {
   "cell_type": "code",
   "execution_count": null,
   "metadata": {},
   "outputs": [],
   "source": [
    "rtn = 1\n",
    "# rtn * (1 + daily_rtn)\n",
    "\n",
    "for i in test_df['daily_rtn'].tolist():\n",
    "    rtn = rtn * (1 + i)\n",
    "\n",
    "print(rtn)\n"
   ]
  },
  {
   "cell_type": "code",
   "execution_count": null,
   "metadata": {},
   "outputs": [],
   "source": [
    "(1 + test_df['daily_rtn']).cumprod()"
   ]
  },
  {
   "cell_type": "code",
   "execution_count": null,
   "metadata": {},
   "outputs": [],
   "source": [
    "# (매도한 날의 종가 - 매수한 날의 종가) / 매수한 날의 종가\n",
    "(test_df.iloc[-1]['Close'] - test_df.iloc[0]['Close']) / test_df.iloc[0]['Close']"
   ]
  },
  {
   "cell_type": "code",
   "execution_count": null,
   "metadata": {},
   "outputs": [],
   "source": [
    "## buyandhold 함수로 생성\n",
    "## 매개변수를 3개\n",
    "## 데이터프레임 , 구매한 날, 판매한 날\n",
    "def bnh(_df, _start, _end):\n",
    "    # index의 데이터를 시계열로 변경\n",
    "    _df.index = pd.to_datetime(_df.index, format='%Y-%m-%d')\n",
    "    # 결측치와 무한대의 값을 제외시키는 부분\n",
    "    _df = _df.loc[ ~_df.isin([np.nan, np.inf, -np.inf]).any(axis=1) ]\n",
    "    # 종가를 제외한 나머지 컬럼을 모두 삭제\n",
    "    _df = _df[['Close']]\n",
    "    # 일별 수익율 컬럼를 생성\n",
    "    _df['daily_rtn'] = _df['Close'].pct_change()\n",
    "    # 구매한 날짜와 판매한 날짜를 기준으로 데이터를 필퍼( 행의 조건으로 필터 )\n",
    "    _df = _df.loc[_start : _end]\n",
    "    # 누적 수익율 컬럼을 생성\n",
    "    _df['st_rtn'] = (1 + _df['daily_rtn']).cumprod()\n",
    "\n",
    "    return _df"
   ]
  },
  {
   "cell_type": "code",
   "execution_count": null,
   "metadata": {},
   "outputs": [],
   "source": [
    "# 문자열 데이터를 시계열 변경\n",
    "from datetime import datetime"
   ]
  },
  {
   "cell_type": "code",
   "execution_count": null,
   "metadata": {},
   "outputs": [],
   "source": [
    "df = pd.read_csv(\"../csv/AMZN.csv\", index_col='Date')\n",
    "df"
   ]
  },
  {
   "cell_type": "code",
   "execution_count": null,
   "metadata": {},
   "outputs": [],
   "source": [
    "start = '20000102'\n",
    "end = '20151231'\n",
    "# 문자열을 시계열 변경\n",
    "start = datetime.strptime(start, '%Y%m%d').isoformat()\n",
    "end = datetime.strptime(end, '%Y%m%d').isoformat()"
   ]
  },
  {
   "cell_type": "code",
   "execution_count": null,
   "metadata": {},
   "outputs": [],
   "source": [
    "bnh(df, start, end)"
   ]
  },
  {
   "cell_type": "code",
   "execution_count": null,
   "metadata": {},
   "outputs": [],
   "source": []
  }
 ],
 "metadata": {
  "kernelspec": {
   "display_name": "Python 3",
   "language": "python",
   "name": "python3"
  },
  "language_info": {
   "codemirror_mode": {
    "name": "ipython",
    "version": 3
   },
   "file_extension": ".py",
   "mimetype": "text/x-python",
   "name": "python",
   "nbconvert_exporter": "python",
   "pygments_lexer": "ipython3",
   "version": "3.11.0"
  },
  "orig_nbformat": 4
 },
 "nbformat": 4,
 "nbformat_minor": 2
}
