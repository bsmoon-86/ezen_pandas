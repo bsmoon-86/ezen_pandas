{
 "cells": [
  {
   "cell_type": "markdown",
   "metadata": {},
   "source": [
    "# buy and hold 전략\n",
    "1. 구매 후 일정 기간이 지나면 판매"
   ]
  },
  {
   "cell_type": "code",
   "execution_count": null,
   "metadata": {},
   "outputs": [],
   "source": [
    "import pandas as pd\n",
    "import numpy as np"
   ]
  },
  {
   "cell_type": "code",
   "execution_count": null,
   "metadata": {},
   "outputs": [],
   "source": [
    "df = pd.read_csv('../csv/AAPL.csv', index_col='Date')\n",
    "df"
   ]
  },
  {
   "cell_type": "code",
   "execution_count": null,
   "metadata": {},
   "outputs": [],
   "source": [
    "# 결측치를 확인 \n",
    "df.info()"
   ]
  },
  {
   "cell_type": "code",
   "execution_count": null,
   "metadata": {},
   "outputs": [],
   "source": [
    "# Volume의 데이터가 결측치인 데이터를 출력\n",
    "df.loc[~df[\"Volume\"].isna()]"
   ]
  },
  {
   "cell_type": "code",
   "execution_count": null,
   "metadata": {},
   "outputs": [],
   "source": [
    "df.drop([\"1981-08-10\", \"1981-08-21\"], axis=0)"
   ]
  },
  {
   "cell_type": "code",
   "execution_count": null,
   "metadata": {},
   "outputs": [],
   "source": [
    "# 결측치와 양의 무한대, 음의 무한대의 값을 제외한 데이터만 출력\n",
    "df.loc[df['Open'] != -np.inf]\n",
    "df.loc[df['Open'] != np.inf]\n",
    "df.loc[~df['Open'].isna()]"
   ]
  },
  {
   "cell_type": "code",
   "execution_count": null,
   "metadata": {},
   "outputs": [],
   "source": [
    "df.loc[\n",
    "    (df['Open'] != -np.inf) & (df['Open'] != np.inf) & (~df['Open'].isna())\n",
    "]"
   ]
  },
  {
   "cell_type": "code",
   "execution_count": null,
   "metadata": {},
   "outputs": [],
   "source": [
    "flag = ~df.isin([np.nan, np.inf, -np.inf]).any(axis=1)"
   ]
  },
  {
   "cell_type": "code",
   "execution_count": 34,
   "metadata": {},
   "outputs": [],
   "source": [
    "df = df.loc[flag]"
   ]
  },
  {
   "cell_type": "code",
   "execution_count": null,
   "metadata": {},
   "outputs": [],
   "source": [
    "# df의 종가를 제외한 데이터를 모두 삭제\n",
    "df[['Close']]"
   ]
  },
  {
   "cell_type": "code",
   "execution_count": 40,
   "metadata": {},
   "outputs": [],
   "source": [
    "price_df = df.loc[:, ['Close']]"
   ]
  },
  {
   "cell_type": "code",
   "execution_count": null,
   "metadata": {},
   "outputs": [],
   "source": [
    "# 일별 수익율 = (오늘의 종가 - 전날의 종가) / 전날의 종가\n",
    "# 전 행의 데이터를 로드하려면? shift(n)\n",
    "# case1\n",
    "(price_df['Close'] - price_df['Close'].shift(1)) / price_df['Close'].shift(1)\n"
   ]
  },
  {
   "cell_type": "code",
   "execution_count": null,
   "metadata": {},
   "outputs": [],
   "source": [
    "# case2\n",
    "price_df['Close'].diff() / price_df['Close'].shift()\n"
   ]
  },
  {
   "cell_type": "code",
   "execution_count": 49,
   "metadata": {},
   "outputs": [],
   "source": [
    "# case3\n",
    "price_df['daily_rtn'] = price_df['Close'].pct_change()"
   ]
  },
  {
   "cell_type": "code",
   "execution_count": 52,
   "metadata": {},
   "outputs": [
    {
     "data": {
      "text/html": [
       "<div>\n",
       "<style scoped>\n",
       "    .dataframe tbody tr th:only-of-type {\n",
       "        vertical-align: middle;\n",
       "    }\n",
       "\n",
       "    .dataframe tbody tr th {\n",
       "        vertical-align: top;\n",
       "    }\n",
       "\n",
       "    .dataframe thead th {\n",
       "        text-align: right;\n",
       "    }\n",
       "</style>\n",
       "<table border=\"1\" class=\"dataframe\">\n",
       "  <thead>\n",
       "    <tr style=\"text-align: right;\">\n",
       "      <th></th>\n",
       "      <th>Close</th>\n",
       "      <th>daily_rtn</th>\n",
       "    </tr>\n",
       "    <tr>\n",
       "      <th>Date</th>\n",
       "      <th></th>\n",
       "      <th></th>\n",
       "    </tr>\n",
       "  </thead>\n",
       "  <tbody>\n",
       "    <tr>\n",
       "      <th>1980-12-12</th>\n",
       "      <td>0.513393</td>\n",
       "      <td>NaN</td>\n",
       "    </tr>\n",
       "    <tr>\n",
       "      <th>1980-12-15</th>\n",
       "      <td>0.486607</td>\n",
       "      <td>-0.052174</td>\n",
       "    </tr>\n",
       "    <tr>\n",
       "      <th>1980-12-16</th>\n",
       "      <td>0.450893</td>\n",
       "      <td>-0.073394</td>\n",
       "    </tr>\n",
       "    <tr>\n",
       "      <th>1980-12-17</th>\n",
       "      <td>0.462054</td>\n",
       "      <td>0.024753</td>\n",
       "    </tr>\n",
       "    <tr>\n",
       "      <th>1980-12-18</th>\n",
       "      <td>0.475446</td>\n",
       "      <td>0.028984</td>\n",
       "    </tr>\n",
       "    <tr>\n",
       "      <th>...</th>\n",
       "      <td>...</td>\n",
       "      <td>...</td>\n",
       "    </tr>\n",
       "    <tr>\n",
       "      <th>2019-06-18</th>\n",
       "      <td>198.449997</td>\n",
       "      <td>0.023518</td>\n",
       "    </tr>\n",
       "    <tr>\n",
       "      <th>2019-06-19</th>\n",
       "      <td>197.869995</td>\n",
       "      <td>-0.002923</td>\n",
       "    </tr>\n",
       "    <tr>\n",
       "      <th>2019-06-20</th>\n",
       "      <td>199.460007</td>\n",
       "      <td>0.008036</td>\n",
       "    </tr>\n",
       "    <tr>\n",
       "      <th>2019-06-21</th>\n",
       "      <td>198.779999</td>\n",
       "      <td>-0.003409</td>\n",
       "    </tr>\n",
       "    <tr>\n",
       "      <th>2019-06-24</th>\n",
       "      <td>199.169998</td>\n",
       "      <td>0.001962</td>\n",
       "    </tr>\n",
       "  </tbody>\n",
       "</table>\n",
       "<p>9713 rows × 2 columns</p>\n",
       "</div>"
      ],
      "text/plain": [
       "                 Close  daily_rtn\n",
       "Date                             \n",
       "1980-12-12    0.513393        NaN\n",
       "1980-12-15    0.486607  -0.052174\n",
       "1980-12-16    0.450893  -0.073394\n",
       "1980-12-17    0.462054   0.024753\n",
       "1980-12-18    0.475446   0.028984\n",
       "...                ...        ...\n",
       "2019-06-18  198.449997   0.023518\n",
       "2019-06-19  197.869995  -0.002923\n",
       "2019-06-20  199.460007   0.008036\n",
       "2019-06-21  198.779999  -0.003409\n",
       "2019-06-24  199.169998   0.001962\n",
       "\n",
       "[9713 rows x 2 columns]"
      ]
     },
     "execution_count": 52,
     "metadata": {},
     "output_type": "execute_result"
    }
   ],
   "source": [
    "price_df"
   ]
  },
  {
   "cell_type": "code",
   "execution_count": 53,
   "metadata": {},
   "outputs": [
    {
     "data": {
      "text/html": [
       "<div>\n",
       "<style scoped>\n",
       "    .dataframe tbody tr th:only-of-type {\n",
       "        vertical-align: middle;\n",
       "    }\n",
       "\n",
       "    .dataframe tbody tr th {\n",
       "        vertical-align: top;\n",
       "    }\n",
       "\n",
       "    .dataframe thead th {\n",
       "        text-align: right;\n",
       "    }\n",
       "</style>\n",
       "<table border=\"1\" class=\"dataframe\">\n",
       "  <thead>\n",
       "    <tr style=\"text-align: right;\">\n",
       "      <th></th>\n",
       "      <th>Close</th>\n",
       "      <th>daily_rtn</th>\n",
       "    </tr>\n",
       "    <tr>\n",
       "      <th>Date</th>\n",
       "      <th></th>\n",
       "      <th></th>\n",
       "    </tr>\n",
       "  </thead>\n",
       "  <tbody>\n",
       "    <tr>\n",
       "      <th>1982-02-24</th>\n",
       "      <td>0.328125</td>\n",
       "      <td>0.006849</td>\n",
       "    </tr>\n",
       "    <tr>\n",
       "      <th>1982-02-25</th>\n",
       "      <td>0.325893</td>\n",
       "      <td>-0.006802</td>\n",
       "    </tr>\n",
       "    <tr>\n",
       "      <th>1982-02-26</th>\n",
       "      <td>0.325893</td>\n",
       "      <td>0.000000</td>\n",
       "    </tr>\n",
       "    <tr>\n",
       "      <th>1982-03-01</th>\n",
       "      <td>0.328125</td>\n",
       "      <td>0.006849</td>\n",
       "    </tr>\n",
       "    <tr>\n",
       "      <th>1982-03-02</th>\n",
       "      <td>0.328125</td>\n",
       "      <td>0.000000</td>\n",
       "    </tr>\n",
       "    <tr>\n",
       "      <th>...</th>\n",
       "      <td>...</td>\n",
       "      <td>...</td>\n",
       "    </tr>\n",
       "    <tr>\n",
       "      <th>1983-04-25</th>\n",
       "      <td>0.868304</td>\n",
       "      <td>-0.046568</td>\n",
       "    </tr>\n",
       "    <tr>\n",
       "      <th>1983-04-26</th>\n",
       "      <td>0.892857</td>\n",
       "      <td>0.028277</td>\n",
       "    </tr>\n",
       "    <tr>\n",
       "      <th>1983-04-27</th>\n",
       "      <td>0.883929</td>\n",
       "      <td>-0.009999</td>\n",
       "    </tr>\n",
       "    <tr>\n",
       "      <th>1983-04-28</th>\n",
       "      <td>0.892857</td>\n",
       "      <td>0.010100</td>\n",
       "    </tr>\n",
       "    <tr>\n",
       "      <th>1983-04-29</th>\n",
       "      <td>0.901786</td>\n",
       "      <td>0.010000</td>\n",
       "    </tr>\n",
       "  </tbody>\n",
       "</table>\n",
       "<p>300 rows × 2 columns</p>\n",
       "</div>"
      ],
      "text/plain": [
       "               Close  daily_rtn\n",
       "Date                           \n",
       "1982-02-24  0.328125   0.006849\n",
       "1982-02-25  0.325893  -0.006802\n",
       "1982-02-26  0.325893   0.000000\n",
       "1982-03-01  0.328125   0.006849\n",
       "1982-03-02  0.328125   0.000000\n",
       "...              ...        ...\n",
       "1983-04-25  0.868304  -0.046568\n",
       "1983-04-26  0.892857   0.028277\n",
       "1983-04-27  0.883929  -0.009999\n",
       "1983-04-28  0.892857   0.010100\n",
       "1983-04-29  0.901786   0.010000\n",
       "\n",
       "[300 rows x 2 columns]"
      ]
     },
     "execution_count": 53,
     "metadata": {},
     "output_type": "execute_result"
    }
   ],
   "source": [
    "# 일별 수익율을 가지고 총 수익율 계산\n",
    "test_df = price_df.iloc[300:600]\n",
    "test_df"
   ]
  },
  {
   "cell_type": "code",
   "execution_count": 55,
   "metadata": {},
   "outputs": [
    {
     "name": "stdout",
     "output_type": "stream",
     "text": [
      "2.767122951398157\n"
     ]
    }
   ],
   "source": [
    "rtn = 1\n",
    "# rtn * (1 + daily_rtn)\n",
    "\n",
    "for i in test_df['daily_rtn'].tolist():\n",
    "    rtn = rtn * (1 + i)\n",
    "\n",
    "print(rtn)\n"
   ]
  },
  {
   "cell_type": "code",
   "execution_count": 56,
   "metadata": {},
   "outputs": [
    {
     "data": {
      "text/plain": [
       "Date\n",
       "1982-02-24    1.006849\n",
       "1982-02-25    1.000000\n",
       "1982-02-26    1.000000\n",
       "1982-03-01    1.006849\n",
       "1982-03-02    1.006849\n",
       "                ...   \n",
       "1983-04-25    2.664384\n",
       "1983-04-26    2.739724\n",
       "1983-04-27    2.712329\n",
       "1983-04-28    2.739724\n",
       "1983-04-29    2.767123\n",
       "Name: daily_rtn, Length: 300, dtype: float64"
      ]
     },
     "execution_count": 56,
     "metadata": {},
     "output_type": "execute_result"
    }
   ],
   "source": [
    "(1 + test_df['daily_rtn']).cumprod()"
   ]
  },
  {
   "cell_type": "code",
   "execution_count": 64,
   "metadata": {},
   "outputs": [
    {
     "data": {
      "text/plain": [
       "1.7483001904761903"
      ]
     },
     "execution_count": 64,
     "metadata": {},
     "output_type": "execute_result"
    }
   ],
   "source": [
    "# (매도한 날의 종가 - 매수한 날의 종가) / 매수한 날의 종가\n",
    "(test_df.iloc[-1]['Close'] - test_df.iloc[0]['Close']) / test_df.iloc[0]['Close']"
   ]
  },
  {
   "cell_type": "code",
   "execution_count": 65,
   "metadata": {},
   "outputs": [],
   "source": [
    "## buyandhold 함수로 생성\n",
    "## 매개변수를 3개\n",
    "## 데이터프레임 , 구매한 날, 판매한 날\n",
    "def bnh(_df, _start, _end):\n",
    "    # index의 데이터를 시계열로 변경\n",
    "    _df.index = pd.to_datetime(_df.index, format='%Y-%m-%d')\n",
    "    # 결측치와 무한대의 값을 제외시키는 부분\n",
    "    _df = _df.loc[ ~_df.isin([np.nan, np.inf, -np.inf]).any(axis=1) ]\n",
    "    # 종가를 제외한 나머지 컬럼을 모두 삭제\n",
    "    _df = _df[['Close']]\n",
    "    # 일별 수익율 컬럼를 생성\n",
    "    _df['daily_rtn'] = _df['Close'].pct_change()\n",
    "    # 구매한 날짜와 판매한 날짜를 기준으로 데이터를 필퍼( 행의 조건으로 필터 )\n",
    "    _df = _df.loc[_start : _end]\n",
    "    # 누적 수익율 컬럼을 생성\n",
    "    _df['st_rtn'] = (1 + _df['daily_rtn']).cumprod()\n",
    "\n",
    "    return _df"
   ]
  },
  {
   "cell_type": "code",
   "execution_count": 66,
   "metadata": {},
   "outputs": [],
   "source": [
    "# 문자열 데이터를 시계열 변경\n",
    "from datetime import datetime"
   ]
  },
  {
   "cell_type": "code",
   "execution_count": null,
   "metadata": {},
   "outputs": [],
   "source": [
    "df = pd.read_csv(\"../csv/AMZN.csv\", index_col='Date')\n",
    "df"
   ]
  },
  {
   "cell_type": "code",
   "execution_count": 70,
   "metadata": {},
   "outputs": [],
   "source": [
    "start = '20000102'\n",
    "end = '20151231'\n",
    "# 문자열을 시계열 변경\n",
    "start = datetime.strptime(start, '%Y%m%d').isoformat()\n",
    "end = datetime.strptime(end, '%Y%m%d').isoformat()"
   ]
  },
  {
   "cell_type": "code",
   "execution_count": 71,
   "metadata": {},
   "outputs": [
    {
     "data": {
      "text/html": [
       "<div>\n",
       "<style scoped>\n",
       "    .dataframe tbody tr th:only-of-type {\n",
       "        vertical-align: middle;\n",
       "    }\n",
       "\n",
       "    .dataframe tbody tr th {\n",
       "        vertical-align: top;\n",
       "    }\n",
       "\n",
       "    .dataframe thead th {\n",
       "        text-align: right;\n",
       "    }\n",
       "</style>\n",
       "<table border=\"1\" class=\"dataframe\">\n",
       "  <thead>\n",
       "    <tr style=\"text-align: right;\">\n",
       "      <th></th>\n",
       "      <th>Close</th>\n",
       "      <th>daily_rtn</th>\n",
       "      <th>st_rtn</th>\n",
       "    </tr>\n",
       "    <tr>\n",
       "      <th>Date</th>\n",
       "      <th></th>\n",
       "      <th></th>\n",
       "      <th></th>\n",
       "    </tr>\n",
       "  </thead>\n",
       "  <tbody>\n",
       "    <tr>\n",
       "      <th>2000-01-03</th>\n",
       "      <td>89.375000</td>\n",
       "      <td>0.174056</td>\n",
       "      <td>1.174056</td>\n",
       "    </tr>\n",
       "    <tr>\n",
       "      <th>2000-01-04</th>\n",
       "      <td>81.937500</td>\n",
       "      <td>-0.083217</td>\n",
       "      <td>1.076355</td>\n",
       "    </tr>\n",
       "    <tr>\n",
       "      <th>2000-01-05</th>\n",
       "      <td>69.750000</td>\n",
       "      <td>-0.148741</td>\n",
       "      <td>0.916256</td>\n",
       "    </tr>\n",
       "    <tr>\n",
       "      <th>2000-01-06</th>\n",
       "      <td>65.562500</td>\n",
       "      <td>-0.060036</td>\n",
       "      <td>0.861248</td>\n",
       "    </tr>\n",
       "    <tr>\n",
       "      <th>2000-01-07</th>\n",
       "      <td>69.562500</td>\n",
       "      <td>0.061010</td>\n",
       "      <td>0.913793</td>\n",
       "    </tr>\n",
       "    <tr>\n",
       "      <th>...</th>\n",
       "      <td>...</td>\n",
       "      <td>...</td>\n",
       "      <td>...</td>\n",
       "    </tr>\n",
       "    <tr>\n",
       "      <th>2015-12-24</th>\n",
       "      <td>662.789978</td>\n",
       "      <td>-0.001371</td>\n",
       "      <td>8.706601</td>\n",
       "    </tr>\n",
       "    <tr>\n",
       "      <th>2015-12-28</th>\n",
       "      <td>675.200012</td>\n",
       "      <td>0.018724</td>\n",
       "      <td>8.869622</td>\n",
       "    </tr>\n",
       "    <tr>\n",
       "      <th>2015-12-29</th>\n",
       "      <td>693.969971</td>\n",
       "      <td>0.027799</td>\n",
       "      <td>9.116190</td>\n",
       "    </tr>\n",
       "    <tr>\n",
       "      <th>2015-12-30</th>\n",
       "      <td>689.070007</td>\n",
       "      <td>-0.007061</td>\n",
       "      <td>9.051823</td>\n",
       "    </tr>\n",
       "    <tr>\n",
       "      <th>2015-12-31</th>\n",
       "      <td>675.890015</td>\n",
       "      <td>-0.019127</td>\n",
       "      <td>8.878687</td>\n",
       "    </tr>\n",
       "  </tbody>\n",
       "</table>\n",
       "<p>4025 rows × 3 columns</p>\n",
       "</div>"
      ],
      "text/plain": [
       "                 Close  daily_rtn    st_rtn\n",
       "Date                                       \n",
       "2000-01-03   89.375000   0.174056  1.174056\n",
       "2000-01-04   81.937500  -0.083217  1.076355\n",
       "2000-01-05   69.750000  -0.148741  0.916256\n",
       "2000-01-06   65.562500  -0.060036  0.861248\n",
       "2000-01-07   69.562500   0.061010  0.913793\n",
       "...                ...        ...       ...\n",
       "2015-12-24  662.789978  -0.001371  8.706601\n",
       "2015-12-28  675.200012   0.018724  8.869622\n",
       "2015-12-29  693.969971   0.027799  9.116190\n",
       "2015-12-30  689.070007  -0.007061  9.051823\n",
       "2015-12-31  675.890015  -0.019127  8.878687\n",
       "\n",
       "[4025 rows x 3 columns]"
      ]
     },
     "execution_count": 71,
     "metadata": {},
     "output_type": "execute_result"
    }
   ],
   "source": [
    "bnh(df, start, end)"
   ]
  },
  {
   "cell_type": "code",
   "execution_count": null,
   "metadata": {},
   "outputs": [],
   "source": []
  }
 ],
 "metadata": {
  "kernelspec": {
   "display_name": "Python 3",
   "language": "python",
   "name": "python3"
  },
  "language_info": {
   "codemirror_mode": {
    "name": "ipython",
    "version": 3
   },
   "file_extension": ".py",
   "mimetype": "text/x-python",
   "name": "python",
   "nbconvert_exporter": "python",
   "pygments_lexer": "ipython3",
   "version": "3.11.0"
  },
  "orig_nbformat": 4
 },
 "nbformat": 4,
 "nbformat_minor": 2
}
