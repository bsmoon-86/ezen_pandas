{
 "cells": [
  {
   "cell_type": "code",
   "execution_count": null,
   "metadata": {},
   "outputs": [],
   "source": [
    "import olive\n",
    "import imp"
   ]
  },
  {
   "cell_type": "code",
   "execution_count": 25,
   "metadata": {},
   "outputs": [
    {
     "data": {
      "text/plain": [
       "<module 'olive' from 'C:\\\\Users\\\\EZEN\\\\Documents\\\\GitHub\\\\ezen_pandas\\\\reperence\\\\olive\\\\__init__.py'>"
      ]
     },
     "execution_count": 25,
     "metadata": {},
     "output_type": "execute_result"
    }
   ],
   "source": [
    "imp.reload(olive)"
   ]
  },
  {
   "cell_type": "code",
   "execution_count": 26,
   "metadata": {},
   "outputs": [],
   "source": [
    "# 클래스 생성\n",
    "test = olive.MacroOlive('https://www.oliveyoung.co.kr/store/goods/getGoodsDetail.do?goodsNo=A000000171417&dispCatNo=90000010009&trackingCd=Best_Sellingbest')"
   ]
  },
  {
   "cell_type": "code",
   "execution_count": 27,
   "metadata": {},
   "outputs": [
    {
     "data": {
      "text/plain": [
       "['https://image.oliveyoung.co.kr/uploads/images/editor/QuickUpload/C19431/image/20230824135432/qc19_20230824135432.jpg',\n",
       " 'https://image.oliveyoung.co.kr/uploads/images/editor/QuickUpload/C19431/image/20230509163503/qc19_20230509163503.gif',\n",
       " 'https://image.oliveyoung.co.kr/uploads/images/editor/QuickUpload/C19431/image/20230412101140/qc19_20230412101140.jpg',\n",
       " 'https://image.oliveyoung.co.kr/uploads/images/editor/QuickUpload/C19431/image/20230612143347/qc19_20230612143347.jpg',\n",
       " 'https://image.oliveyoung.co.kr/uploads/images/editor/QuickUpload/C19431/image/20230612143355/qc19_20230612143355.gif',\n",
       " 'https://image.oliveyoung.co.kr/uploads/images/editor/QuickUpload/C19431/image/20230412101154/qc19_20230412101154.jpg',\n",
       " 'https://image.oliveyoung.co.kr/uploads/images/editor/QuickUpload/C19431/image/20230412101202/qc19_20230412101202.jpg',\n",
       " 'https://image.oliveyoung.co.kr/uploads/images/editor/QuickUpload/C19431/image/20230412101222/qc19_20230412101222.gif',\n",
       " 'https://image.oliveyoung.co.kr/uploads/images/editor/QuickUpload/C19431/image/20230418151522/qc19_20230418151522.jpg',\n",
       " 'https://image.oliveyoung.co.kr/uploads/images/editor/QuickUpload/C19431/image/20230412101231/qc19_20230412101231.jpg',\n",
       " 'https://image.oliveyoung.co.kr/uploads/images/editor/QuickUpload/C19431/image/20230818144726/qc19_20230818144726.jpg']"
      ]
     },
     "execution_count": 27,
     "metadata": {},
     "output_type": "execute_result"
    }
   ],
   "source": [
    "test.return_img()"
   ]
  },
  {
   "cell_type": "code",
   "execution_count": 28,
   "metadata": {},
   "outputs": [
    {
     "name": "stdout",
     "output_type": "stream",
     "text": [
      "olive1.jpg 저장 완료\n",
      "olive2.jpg 저장 완료\n",
      "olive3.jpg 저장 완료\n",
      "olive4.jpg 저장 완료\n",
      "olive5.jpg 저장 완료\n",
      "olive6.jpg 저장 완료\n",
      "olive7.jpg 저장 완료\n",
      "olive8.jpg 저장 완료\n",
      "olive9.jpg 저장 완료\n",
      "olive10.jpg 저장 완료\n",
      "olive11.jpg 저장 완료\n"
     ]
    },
    {
     "data": {
      "text/plain": [
       "'이미지 저장 완료'"
      ]
     },
     "execution_count": 28,
     "metadata": {},
     "output_type": "execute_result"
    }
   ],
   "source": [
    "test.image_save('./test4')"
   ]
  },
  {
   "cell_type": "code",
   "execution_count": 29,
   "metadata": {},
   "outputs": [
    {
     "data": {
      "text/plain": [
       "'텍스트 추출 완료'"
      ]
     },
     "execution_count": 29,
     "metadata": {},
     "output_type": "execute_result"
    }
   ],
   "source": [
    "test.get_imagetext('./output3.txt')"
   ]
  }
 ],
 "metadata": {
  "kernelspec": {
   "display_name": "Python 3",
   "language": "python",
   "name": "python3"
  },
  "language_info": {
   "codemirror_mode": {
    "name": "ipython",
    "version": 3
   },
   "file_extension": ".py",
   "mimetype": "text/x-python",
   "name": "python",
   "nbconvert_exporter": "python",
   "pygments_lexer": "ipython3",
   "version": "3.11.4"
  },
  "orig_nbformat": 4
 },
 "nbformat": 4,
 "nbformat_minor": 2
}
