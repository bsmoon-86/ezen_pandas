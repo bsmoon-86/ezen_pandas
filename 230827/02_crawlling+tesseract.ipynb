{
 "cells": [
  {
   "cell_type": "code",
   "execution_count": 1,
   "metadata": {},
   "outputs": [],
   "source": [
    "import requests\n",
    "from bs4 import BeautifulSoup as bs\n",
    "import pytesseract\n",
    "from urllib import request\n",
    "from io import BytesIO\n",
    "from PIL import Image"
   ]
  },
  {
   "cell_type": "code",
   "execution_count": null,
   "metadata": {},
   "outputs": [],
   "source": [
    "# 특정 주소에 요청\n",
    "response = requests.get('https://www.oliveyoung.co.kr/store/goods/getGoodsDetail.do?goodsNo=A000000187781&dispCatNo=90000010009&trackingCd=Best_Sellingbest')\n",
    "\n",
    "print(response.text)"
   ]
  },
  {
   "cell_type": "code",
   "execution_count": 4,
   "metadata": {},
   "outputs": [],
   "source": [
    "# Beatifulsoup에서 사용할 수 있는 데이터의 형태로 변환\n",
    "soup = bs(response.text, 'html.parser')"
   ]
  },
  {
   "cell_type": "code",
   "execution_count": 8,
   "metadata": {},
   "outputs": [],
   "source": [
    "div_data = soup.find_all('div', attrs={\n",
    "    'class' : 'contEditor'\n",
    "})[1]"
   ]
  },
  {
   "cell_type": "code",
   "execution_count": 14,
   "metadata": {},
   "outputs": [],
   "source": [
    "img_list = div_data.find_all('img')"
   ]
  },
  {
   "cell_type": "code",
   "execution_count": 15,
   "metadata": {},
   "outputs": [
    {
     "data": {
      "text/plain": [
       "['https://www.clubclioimg.co.kr/images/OY/[구달] 청귤 비타C 잡티 케어 세럼 50ml 리필 파우치 증정 배너.jpg',\n",
       " 'https://www.clubclioimg.co.kr/images/OY/[구달] 1. 22AD 청귤 비타C 잡티 케어 세럼 상세페이지 리뉴얼(판매량업데이트)_2308.jpg',\n",
       " 'https://www.clubclioimg.co.kr/images/OY/[구달] 2. 22AD 청귤 비타C 잡티 케어 세럼 상세페이지 리뉴얼(판매량업데이트)_2308.gif',\n",
       " 'https://www.clubclioimg.co.kr/images/OY/[구달] 3. 22AD 청귤 비타C 잡티 케어 세럼 상세페이지 리뉴얼(판매량업데이트)_2308.jpg',\n",
       " 'https://www.clubclioimg.co.kr/images/OY/[구달] 4. 22AD 청귤 비타C 잡티 케어 세럼 상세페이지 리뉴얼(판매량업데이트)_2308.gif',\n",
       " 'https://www.clubclioimg.co.kr/images/OY/[구달] 5. 22AD 청귤 비타C 잡티 케어 세럼 상세페이지 리뉴얼(판매량업데이트)_2308.jpg']"
      ]
     },
     "execution_count": 15,
     "metadata": {},
     "output_type": "execute_result"
    }
   ],
   "source": [
    "# src속성에 있는 주소값들만이 존재하는 리스트 생성\n",
    "src_list = []\n",
    "\n",
    "for img in img_list:\n",
    "    src_data = img['src']\n",
    "    src_list.append(src_data)\n",
    "\n",
    "src_list"
   ]
  },
  {
   "cell_type": "code",
   "execution_count": 17,
   "metadata": {},
   "outputs": [
    {
     "data": {
      "text/plain": [
       "'https://www.clubclioimg.co.kr/images/OY/[구달] 청귤 비타C 잡티 케어 세럼 50ml 리필 파우치 증정 배너.jpg'"
      ]
     },
     "execution_count": 17,
     "metadata": {},
     "output_type": "execute_result"
    }
   ],
   "source": [
    "src_list[0]"
   ]
  },
  {
   "cell_type": "code",
   "execution_count": 19,
   "metadata": {},
   "outputs": [],
   "source": [
    "import os"
   ]
  },
  {
   "cell_type": "code",
   "execution_count": 20,
   "metadata": {},
   "outputs": [],
   "source": [
    "def image_save(img_path, save_path, file_name):\n",
    "    html_data = requests.get(img_path)\n",
    "\n",
    "    imageFile = open(\n",
    "        os.path.join(\n",
    "            save_path, \n",
    "            file_name\n",
    "        ), \n",
    "        'wb'\n",
    "    )\n",
    "    # 이미지 데이터의 크기 \n",
    "    chunk_size = 100000000\n",
    "    for chunk in html_data.iter_content(chunk_size):\n",
    "        imageFile.write(chunk)\n",
    "        imageFile.close()\n",
    "    print('파일 저장 완료')"
   ]
  },
  {
   "cell_type": "code",
   "execution_count": null,
   "metadata": {},
   "outputs": [],
   "source": [
    "i = 1\n",
    "for src in src_list:\n",
    "    file_name = 'test'+str(i)+\".jpg\"\n",
    "    save_path = \"C:\\\\Users\\\\EZEN\\\\Documents\\\\GitHub\\\\ezen_pandas\\\\230827\\\\test\"\n",
    "    image_save(src, save_path, file_name)\n",
    "    i += 1"
   ]
  },
  {
   "cell_type": "code",
   "execution_count": 30,
   "metadata": {},
   "outputs": [],
   "source": [
    "pytesseract.pytesseract.tesseract_cmd = r'c:/Program Files/tesseract-OCR/tesseract'\n",
    "\n",
    "result = open('./output.txt', 'w', encoding='utf-8')"
   ]
  },
  {
   "cell_type": "code",
   "execution_count": 28,
   "metadata": {},
   "outputs": [
    {
     "data": {
      "text/plain": [
       "['test1.jpg', 'test2.jpg', 'test3.jpg', 'test4.jpg', 'test5.jpg', 'test6.jpg']"
      ]
     },
     "execution_count": 28,
     "metadata": {},
     "output_type": "execute_result"
    }
   ],
   "source": [
    "path = \"./test/\"\n",
    "\n",
    "file_list = os.listdir(path)\n",
    "file_list"
   ]
  },
  {
   "cell_type": "code",
   "execution_count": 31,
   "metadata": {},
   "outputs": [
    {
     "name": "stdout",
     "output_type": "stream",
     "text": [
      "이미지에서 텍스트 추출 완료\n"
     ]
    }
   ],
   "source": [
    "for file in file_list:\n",
    "    text = pytesseract.image_to_string(\n",
    "        path + file, \n",
    "        lang = 'kor+eng', \n",
    "        config = '-c preserve_interword_spaces=1 --psm 4'\n",
    "    )\n",
    "    result.write(text)\n",
    "result.close()\n",
    "print('이미지에서 텍스트 추출 완료')"
   ]
  },
  {
   "cell_type": "code",
   "execution_count": null,
   "metadata": {},
   "outputs": [],
   "source": [
    "!pip install opencv-python"
   ]
  },
  {
   "cell_type": "code",
   "execution_count": 39,
   "metadata": {},
   "outputs": [],
   "source": [
    "import cv2\n",
    "import matplotlib.pyplot as plt"
   ]
  },
  {
   "cell_type": "code",
   "execution_count": 42,
   "metadata": {},
   "outputs": [],
   "source": [
    "image_gray = cv2.imread(\"./test/test1.jpg\", cv2.IMREAD_GRAYSCALE)\n",
    "\n",
    "image_binarized = cv2.adaptiveThreshold(\n",
    "    image_gray, \n",
    "    255, \n",
    "    cv2.ADAPTIVE_THRESH_GAUSSIAN_C, \n",
    "    cv2.THRESH_BINARY, \n",
    "    99, \n",
    "    10\n",
    ")\n",
    "\n"
   ]
  },
  {
   "cell_type": "code",
   "execution_count": null,
   "metadata": {},
   "outputs": [],
   "source": [
    "plt.imshow(image_binarized)\n",
    "plt.show()"
   ]
  },
  {
   "cell_type": "code",
   "execution_count": 46,
   "metadata": {},
   "outputs": [
    {
     "data": {
      "text/plain": [
       "'정품 용량 리필 파우치 증정\\n\\nOnly 올리브영\\nF = 5               ii     주\\n본품 용량 리필 기획\\n으로 피부에 Re(fresh)_fill!\\n\\n[|          |\\n\\n올리브영\\n\\n+ 본품 용량\\n\\n50m\\n\\n리필 증정\\n\\ngoodal\\n\\n올리브영 단독 구성 구달 Sz 비타씨 잡티 케어 세럼 50101 + 리필용 507!\\n'"
      ]
     },
     "execution_count": 46,
     "metadata": {},
     "output_type": "execute_result"
    }
   ],
   "source": [
    "pytesseract.image_to_string(\n",
    "    image_gray, \n",
    "    lang = 'kor+eng', \n",
    "    config = '-c preserve_interword_spaces=1 --psm 4'\n",
    ")"
   ]
  },
  {
   "cell_type": "code",
   "execution_count": 45,
   "metadata": {},
   "outputs": [
    {
     "data": {
      "text/plain": [
       "'정품 용량 리필 파우치 증정\\n\\nOnly 올리브영\\n=x            mi ㅎㅎ\\n본품 용량 리필 기획\\n으로 피부에 Re(fresh)_fill/\\n\\nial\\n\\n=\\n\\ngoodat\\n\\ngoodal         =\\n\\n올리브영 단독 구성 구달 청글 비타씨 잡티 케어 세럼 5001 + 리필용 507!\\n'"
      ]
     },
     "execution_count": 45,
     "metadata": {},
     "output_type": "execute_result"
    }
   ],
   "source": [
    "pytesseract.image_to_string(\n",
    "    \"./test/test1.jpg\", \n",
    "    lang = 'kor+eng', \n",
    "    config = '-c preserve_interword_spaces=1 --psm 4'\n",
    ")"
   ]
  }
 ],
 "metadata": {
  "kernelspec": {
   "display_name": "Python 3",
   "language": "python",
   "name": "python3"
  },
  "language_info": {
   "codemirror_mode": {
    "name": "ipython",
    "version": 3
   },
   "file_extension": ".py",
   "mimetype": "text/x-python",
   "name": "python",
   "nbconvert_exporter": "python",
   "pygments_lexer": "ipython3",
   "version": "3.11.4"
  },
  "orig_nbformat": 4
 },
 "nbformat": 4,
 "nbformat_minor": 2
}
