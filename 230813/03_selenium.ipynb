{
 "cells": [
  {
   "cell_type": "markdown",
   "metadata": {},
   "source": [
    "### selenium 라이브러리 \n",
    "1. 웹 어플리케이션 테스트를 위한 라이브러리 \n",
    "2. python에서 웹브라우저를 제어하기 위해 만들어진 라이브러리 \n",
    "3. 웹드라이버라는 별도의 소프트웨어가 필요"
   ]
  },
  {
   "cell_type": "code",
   "execution_count": null,
   "metadata": {},
   "outputs": [],
   "source": [
    "# 라이브러리 설치 \n",
    "!pip install selenium"
   ]
  },
  {
   "cell_type": "code",
   "execution_count": 2,
   "metadata": {},
   "outputs": [],
   "source": [
    "# 라이브러리 로드 \n",
    "from selenium import webdriver"
   ]
  },
  {
   "cell_type": "code",
   "execution_count": 5,
   "metadata": {},
   "outputs": [],
   "source": [
    "# 크롬드라이버의 위치를 지정 \n",
    "path = \"../chromedriver\""
   ]
  },
  {
   "cell_type": "code",
   "execution_count": 10,
   "metadata": {},
   "outputs": [],
   "source": [
    "driver = webdriver.Chrome()"
   ]
  },
  {
   "cell_type": "code",
   "execution_count": 11,
   "metadata": {},
   "outputs": [],
   "source": [
    "# 웹 주소창에 주소 값을 입력\n",
    "driver.get('https://www.naver.com')"
   ]
  },
  {
   "cell_type": "code",
   "execution_count": 12,
   "metadata": {},
   "outputs": [],
   "source": [
    "# By는 html 태그들의 속성 값들에 접근하기 위한 라이브러리 \n",
    "from selenium.webdriver.common.by import By\n",
    "# Keys 키보드에 접근하기 위한 라이브러리 \n",
    "from selenium.webdriver.common.keys import Keys"
   ]
  },
  {
   "cell_type": "code",
   "execution_count": 13,
   "metadata": {},
   "outputs": [],
   "source": [
    "# 네이버에 있는 검색창을 지정 \n",
    "element = driver.find_element(By.ID, 'query')"
   ]
  },
  {
   "cell_type": "code",
   "execution_count": 14,
   "metadata": {},
   "outputs": [],
   "source": [
    "# element에 텍스트를 입력\n",
    "element.send_keys('트립어드바이저')"
   ]
  },
  {
   "cell_type": "code",
   "execution_count": 15,
   "metadata": {},
   "outputs": [],
   "source": [
    "# element에 ENTER키를 입력\n",
    "element.send_keys(Keys.ENTER)"
   ]
  },
  {
   "cell_type": "code",
   "execution_count": 16,
   "metadata": {},
   "outputs": [],
   "source": [
    "element2 = driver.find_element(By.CLASS_NAME, 'link_name')"
   ]
  },
  {
   "cell_type": "code",
   "execution_count": 17,
   "metadata": {},
   "outputs": [],
   "source": [
    "element2.click()"
   ]
  },
  {
   "cell_type": "code",
   "execution_count": 26,
   "metadata": {},
   "outputs": [
    {
     "data": {
      "text/plain": [
       "'309D9E3D8C571ECD0F09AC6570ACCC11'"
      ]
     },
     "execution_count": 26,
     "metadata": {},
     "output_type": "execute_result"
    }
   ],
   "source": [
    "# 드라이버의 모든 창 확인\n",
    "all_window = driver.window_handles\n",
    "all_window[1]"
   ]
  },
  {
   "cell_type": "code",
   "execution_count": 31,
   "metadata": {},
   "outputs": [],
   "source": [
    "# 자식창으로 이동\n",
    "driver.switch_to.window(all_window[1])"
   ]
  },
  {
   "cell_type": "code",
   "execution_count": 39,
   "metadata": {},
   "outputs": [],
   "source": [
    "search = driver.find_element(By.XPATH, '//*[@id=\"lithium-root\"]/main/div[4]/div/div/div[2]/div/form/div/div/input')"
   ]
  },
  {
   "cell_type": "code",
   "execution_count": 40,
   "metadata": {},
   "outputs": [],
   "source": [
    "search.send_keys('도쿄')"
   ]
  },
  {
   "cell_type": "code",
   "execution_count": 41,
   "metadata": {},
   "outputs": [],
   "source": [
    "search.send_keys(Keys.ENTER)"
   ]
  },
  {
   "cell_type": "code",
   "execution_count": 18,
   "metadata": {},
   "outputs": [],
   "source": [
    "from bs4 import BeautifulSoup as bs"
   ]
  },
  {
   "cell_type": "code",
   "execution_count": 42,
   "metadata": {},
   "outputs": [],
   "source": [
    "# parser를 이용해서 html 문서의 데이터 변환\n",
    "soup = bs(driver.page_source, 'html.parser')"
   ]
  },
  {
   "cell_type": "code",
   "execution_count": null,
   "metadata": {},
   "outputs": [],
   "source": [
    "soup"
   ]
  },
  {
   "cell_type": "code",
   "execution_count": 50,
   "metadata": {},
   "outputs": [],
   "source": [
    "result = soup.find('div', attrs={\n",
    "    'class' : 'ui_columns is-multiline is-mobile'\n",
    "})"
   ]
  },
  {
   "cell_type": "code",
   "execution_count": 53,
   "metadata": {},
   "outputs": [],
   "source": [
    "div_list = result.find_all('div', attrs={\n",
    "    'class' : 'ui_columns is-mobile result-content-columns'\n",
    "})"
   ]
  },
  {
   "cell_type": "code",
   "execution_count": 61,
   "metadata": {},
   "outputs": [
    {
     "data": {
      "text/plain": [
       "<span>도쿄 디즈니시</span>"
      ]
     },
     "execution_count": 61,
     "metadata": {},
     "output_type": "execute_result"
    }
   ],
   "source": [
    "div_list[1].find('div', attrs={\n",
    "    'class' : 'location-meta-block'\n",
    "}).find('span')"
   ]
  },
  {
   "cell_type": "code",
   "execution_count": 63,
   "metadata": {},
   "outputs": [
    {
     "data": {
      "text/plain": [
       "<span class=\"review-snippet\"><span class=\"highlighted\">도쿄</span>에는 디즈니랜드 말고도 디즈니씨가 있죠. 어린이들은 랜드가 재밌겠지만 성인들이 즐길 어트랙션은 씨에 더 많습니다.</span>"
      ]
     },
     "execution_count": 63,
     "metadata": {},
     "output_type": "execute_result"
    }
   ],
   "source": [
    "div_list[1].find('div', attrs={\n",
    "    'class' : 'review-block'\n",
    "}).find('span', attrs={\n",
    "    'class' : 'review-snippet'\n",
    "})"
   ]
  },
  {
   "cell_type": "code",
   "execution_count": 64,
   "metadata": {},
   "outputs": [
    {
     "name": "stdout",
     "output_type": "stream",
     "text": [
      "['도쿄 디즈니시', '도쿄 타워', '오다이바', '에도-도쿄 박물관', '모리 타워', '도쿄 스카이 트리', '도쿄역', '힐튼 도쿄베이', '도쿄 도청', '도쿄 국립 박물관', '콘래드 도쿄', '리틀 도쿄', '시타딘 도쿄 신주쿠', '헌드레드 스테이 도쿄 신주쿠', '호텔 도쿄 팰리스 자이살메르', 'Tokyo Metropolitan Government Building Observation Decks', '게이오 플라자 도쿄', '도쿄등심 선릉점', '도쿄돔', '그랜드 하얏트 도쿄', '힐튼 도쿄', '도쿄 돔 시티', '샹그릴라 호텔 도쿄', '만다린 오리엔탈 도쿄', '페닌슐라 도쿄', '그랜드 닛코 도쿄 오다이바', '\\xa0아사쿠사', '아파 호텔 & 리조트 도쿄 베이 마쿠하리', '센소지사']\n",
      "['도쿄에는 디즈니랜드 말고도 디즈니씨가 있죠. 어린이들은 랜드가 재밌겠지만 성인들이 즐길 어트랙션은 씨에 더 많습니다.', '도쿄타워에 올라가진 않아도 시바우라 근처부터 걸으면서 산책하기 좋음! 그래도 도쿄 상징인데?? 여행왔으면 보는것도 좋을것 같음', '다시 도쿄에 가면 오다이바 에서만 있을거 같음', '우키요에 미술관에 가기 위해 근처에 있어서 들린 곳이었는데 생각보다 더 재미나고 도쿄의 역사를 볼 수 있어서 더 좋았습니다.', '도쿄타워 전망대에서는 볼수없는 도쿄타워가 보이는 도쿄전망을 즐길수있다 주말에는 심야시간까지 개장하여 관람시간이 길어서 편리하다', '도쿄 스카이 트리 타워', '도쿄의 중심 도쿄역입니다. 전반적인 도쿄 여행이 만족스러웠습니다.', '차라리 도쿄 시내에 방잡고 지하철 타고 다니세요...어차피 모노레일 타야해서...여튼 별로에요..수영장도 야외풀은 유료이고, 조식은', '보통 롯본기에 있는 도쿄타워에 돈을 내고 야경을 보지만 도청에서 보면 무료입니다.', '도쿄국립박물관 어플을 미리 다운 받아가서, 한국어 오디오 가이드는 빌리지 않았습니다.', '도쿄에서 콘래드도쿄는 언제나 정답인 호텔입니다', '도쿄를 가본사람으로써 도쿄라고 하기는 좀 그래요.ㅎㅎㅎㅎㅎ 그렇지만... 일본인 많이 볼 수 있고요.', '위치도 신주쿠역에서 도보 10~15분정도 걸렸던거 같구요 다음 도쿄 여행때도 이 호텔에서 머물고 싶을정도로 모든 점이 좋았습니다', '우선 도쿄에서는 여럿이서 한 방에 들어갈 수 있는 방을 찾기가 어려운데 여기는 매우 넓어서 좋았습니다.', '도쿄팰리스에 와서 투숙과 사막투어를 했는데, 최고였습니다. 사막투어는 내 인도 여행에서 최고였고, 숙박은 계속 매니저?', '도쿄의 전경이 훤히 360도 회전하며(물론 내가 걸어서) 볼수 있다.', '도쿄의 많은 호텔들이 3인의 경우 킹베드나 트윈베드만을 제공하고 있습니다.', '콜키지 프리여서 다녀온 도쿄등심 선릉점!!', '도쿄돔은 요미우리 홈구장이기도 하지만 WBC 추억도 떠올릴수 있는곳이죠 일단 야구장내 파는건 다 비쌉니다.', '도쿄 그랜드하얏트 투숙객 리뷰 : ________________________________ 1.', '도쿄에 자주 방문하고 있고 방문할때마다 가는 호텔. 이 호텔을 한번 방문하면 다른곳은 가기 싫어진다.', '야구의 중심인 도쿄돔을 왔는데 처음에 여길 간다고 했을때 뭔가 할게 없을 줄 알았는데 조그만한 놀이기구들도 있고 안에 쇼핑몰처럼', '도쿄역 근처라 기차를 이용해 타 도시로 이동하는 분들께 추천드립니다.', '도쿄 애프터눈티세트는 무조건 만다린입니다.', '여러번 머무를수록 더 좋은 호텔 도쿄에서 드물게 방이 넓고 서비스가 훌륭하다 시설이 조금 오래 되어가긴 하지만 관리를 잘 해서', '통해 도쿄 도심으로 가기도 좋고 걸어서 도쿄빅사이트까지 갈 수도 있는 교통편도 편리하고 주변에 쇼핑몰들이 많아 쇼핑하기도 좋은', '근데 바로 앞 상점들이 볼만함 인사동 길 생각하면 될듯 길거리 음식 맛있는 거 많이 팔아요 비싸지만 이쁜 기념품도 많고, 여튼 도쿄에서', '단점 - 비용 이상의 서비스 기대감은 없다 - 룸마다 비치된 극우서적 도쿄만 해변과 미하마엔(일본정원)은 꼭 둘러보자', '물론 교토 같은 곳의 고즈넉한 사찰은 아니지만 그래도 경치가 아름다워 도쿄에 온다면 꼭 가볼만한 곳.']\n"
     ]
    }
   ],
   "source": [
    "title_list = []\n",
    "review_list = []\n",
    "\n",
    "for index in range(1, len(div_list)):\n",
    "    title = div_list[index].find('div', attrs={\n",
    "        'class' : 'location-meta-block'\n",
    "    }).find('span').get_text()\n",
    "    review = div_list[index].find('div', attrs={\n",
    "        'class' : 'review-block'\n",
    "    }).find('span', attrs={\n",
    "        'class' : 'review-snippet'\n",
    "    }).get_text()\n",
    "    title_list.append(title)\n",
    "    review_list.append(review)\n",
    "\n",
    "print(title_list)\n",
    "print(review_list)"
   ]
  }
 ],
 "metadata": {
  "kernelspec": {
   "display_name": "Python 3",
   "language": "python",
   "name": "python3"
  },
  "language_info": {
   "codemirror_mode": {
    "name": "ipython",
    "version": 3
   },
   "file_extension": ".py",
   "mimetype": "text/x-python",
   "name": "python",
   "nbconvert_exporter": "python",
   "pygments_lexer": "ipython3",
   "version": "3.11.4"
  },
  "orig_nbformat": 4
 },
 "nbformat": 4,
 "nbformat_minor": 2
}
