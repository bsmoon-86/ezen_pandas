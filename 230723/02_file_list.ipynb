{
 "cells": [
  {
   "cell_type": "markdown",
   "metadata": {},
   "source": [
    "- 특정한 경로에 있는 파일들의 목록 출력"
   ]
  },
  {
   "cell_type": "code",
   "execution_count": null,
   "metadata": {},
   "outputs": [],
   "source": [
    "import os"
   ]
  },
  {
   "cell_type": "code",
   "execution_count": null,
   "metadata": {},
   "outputs": [],
   "source": [
    "os.listdir(\"../csv/2017/\")"
   ]
  },
  {
   "cell_type": "code",
   "execution_count": null,
   "metadata": {},
   "outputs": [],
   "source": [
    "# 반복문을 이용하여 파일 리스트를 하드코딩\n",
    "# [201701 to 201712] + \"_expense_list.csv\"\n",
    "file_list = []\n",
    "for i in range(201701, 201713, 1):\n",
    "    file = str(i) + \"_expense_list.csv\"\n",
    "    file_list.append(file)\n",
    "    # print(file)\n",
    "print(file_list)"
   ]
  },
  {
   "cell_type": "markdown",
   "metadata": {},
   "source": [
    "### 데이터프레임의 결합 \n",
    "- 단순하게 결합 (유니언 결합)\n",
    "    - 단순하게 행이나 열을 추가 \n",
    "    - concat() 함수를 이용하여 데이터프레임 결합\n",
    "    - 매개변수 axis : 행을 결합할것인가 열을 결합할것인가\n",
    "    - 매개변수 ignore_index : 데이터프레임을 결합한 뒤 인덱스를 초기화 할지 지정\n",
    "- 특정 조건에 맞게 데이터프레임을 결합 (조인 결합)\n",
    "    - 데이터프레임을 특정한 조건에 맞는 값들만 결합\n",
    "    - merge() 함수를 이용하여 데이터프레임 결합\n",
    "    - 매개변수 on : 특정한 조건 지정\n",
    "    - 매개변수 how : (left, right, inner, outer) 결합되는 데이터프레임의 기준을 지정"
   ]
  },
  {
   "cell_type": "code",
   "execution_count": null,
   "metadata": {},
   "outputs": [],
   "source": [
    "import pandas as pd"
   ]
  },
  {
   "cell_type": "code",
   "execution_count": null,
   "metadata": {},
   "outputs": [],
   "source": [
    "# 데이터프레임을 생성\n",
    "df = pd.DataFrame({\n",
    "    'S1' : [1,2,3,4], \n",
    "    'S2' : [5,6,7,8]\n",
    "})\n",
    "\n",
    "df2 = pd.DataFrame([1,2])\n",
    "\n",
    "df3 = pd.DataFrame({\n",
    "    'S1' : [1,2]\n",
    "})"
   ]
  },
  {
   "cell_type": "code",
   "execution_count": null,
   "metadata": {},
   "outputs": [],
   "source": [
    "df"
   ]
  },
  {
   "cell_type": "code",
   "execution_count": null,
   "metadata": {},
   "outputs": [],
   "source": [
    "df2"
   ]
  },
  {
   "cell_type": "code",
   "execution_count": null,
   "metadata": {},
   "outputs": [],
   "source": [
    "# 데이터프레임을 단순히 유니언 결합\n",
    "# 단순하게 행을 추가\n",
    "# pd.concat([df, df2], axis=0, ignore_index=True)\n",
    "# pd.concat([df, df2], axis='rows').reset_index(drop=True)\n",
    "pd.concat([df, df2], axis='rows').reset_index().drop('index', axis=1)"
   ]
  },
  {
   "cell_type": "code",
   "execution_count": null,
   "metadata": {},
   "outputs": [],
   "source": [
    "# 단순하게 열을 추가\n",
    "pd.concat([df, df2], axis=1)"
   ]
  },
  {
   "cell_type": "code",
   "execution_count": null,
   "metadata": {},
   "outputs": [],
   "source": [
    "# df2의 index를 변경\n",
    "df2.index = [6,7]"
   ]
  },
  {
   "cell_type": "code",
   "execution_count": null,
   "metadata": {},
   "outputs": [],
   "source": [
    "df2"
   ]
  },
  {
   "cell_type": "code",
   "execution_count": null,
   "metadata": {},
   "outputs": [],
   "source": [
    "pd.concat([df, df2], axis='columns')"
   ]
  },
  {
   "cell_type": "code",
   "execution_count": null,
   "metadata": {},
   "outputs": [],
   "source": [
    "# 컬럼이 이름이 같은 데이터프레임을 단순하게 행 추가 결합\n",
    "pd.concat([df, df3], axis=0)"
   ]
  },
  {
   "cell_type": "code",
   "execution_count": null,
   "metadata": {},
   "outputs": [],
   "source": [
    "pd.concat([df, df3], axis=1)"
   ]
  },
  {
   "cell_type": "code",
   "execution_count": null,
   "metadata": {},
   "outputs": [],
   "source": [
    "# concat를 사용하여 csv 폴더 안에 있는 12개의 csv 파일을 1개의 데이터프레임으로 결합\n",
    "\n",
    "file_path = \"../csv/2017/\"\n",
    "\n",
    "file_list = os.listdir(file_path)\n",
    "file_list\n",
    "\n",
    "# 비어있는 데이터프레임을 생성 \n",
    "df_2017 = pd.DataFrame()\n",
    "\n",
    "# 반복문을 이용하여 12개의 csv을 로드 \n",
    "# df_2017과 단순한 행 결합 (유니언 결합)\n",
    "\n",
    "for i in file_list:\n",
    "    # print(file_path + i)\n",
    "    df = pd.read_csv(file_path+i)\n",
    "    # df_2017과 df를 유니언 결합\n",
    "    df_2017 = pd.concat([df_2017, df], axis=0, ignore_index=True)\n",
    "\n",
    "df_2017.head(1)\n"
   ]
  },
  {
   "cell_type": "code",
   "execution_count": null,
   "metadata": {},
   "outputs": [],
   "source": [
    "df_2017.info()"
   ]
  },
  {
   "cell_type": "code",
   "execution_count": null,
   "metadata": {},
   "outputs": [],
   "source": [
    "file_path = '../csv/2018/'\n",
    "\n",
    "file_list = os.listdir(file_path)\n",
    "\n",
    "df_2018 = pd.DataFrame()\n",
    "\n",
    "for i in file_list:\n",
    "    df = pd.read_csv(file_path + i)\n",
    "    df_2018 = pd.concat([df_2018, df], axis=0, ignore_index=True)\n",
    "\n",
    "df_2018.info()"
   ]
  },
  {
   "cell_type": "code",
   "execution_count": null,
   "metadata": {},
   "outputs": [],
   "source": [
    "# json 파일의 경우\n",
    "file_path = '../csv/2019/'\n",
    "file_list = os.listdir(file_path)\n",
    "df_2019 = pd.DataFrame()\n",
    "\n",
    "for i in file_list:\n",
    "    df = pd.read_json(file_path + i)\n",
    "    df_2019 = pd.concat([df_2019, df], axis=0, ignore_index=True)\n",
    "\n",
    "df_2019.info()"
   ]
  },
  {
   "cell_type": "code",
   "execution_count": null,
   "metadata": {},
   "outputs": [],
   "source": [
    "# excel 파일인 경우\n",
    "file_path = '../csv/2020/'\n",
    "file_list = os.listdir(file_path)\n",
    "df_2020 = pd.DataFrame()\n",
    "\n",
    "for i in file_list:\n",
    "    df = pd.read_excel(file_path + i)\n",
    "    df_2020 = pd.concat([df_2020, df], axis=0, ignore_index=True)\n",
    "\n",
    "df_2020.info()"
   ]
  },
  {
   "cell_type": "code",
   "execution_count": 76,
   "metadata": {},
   "outputs": [],
   "source": [
    "# 위에서 작업한 특정 경로에서 파일을 로드하여 결합하는 함수를 생성 \n",
    "# 매개변수로 사용할 부분 : 파일의 경로, 확장자\n",
    "def list_data(_path, _end):\n",
    "    # _path의 마지막 문자열이 '/'가 아니라면?\n",
    "    if (_path[-1] != '/'):\n",
    "        # 문자열 마지막에 '/' 추가해준다. \n",
    "        _path = _path+'/'\n",
    "\n",
    "    # _end가 처음 문자가 '.'이 아니라면 '.'을 추가 \n",
    "    if ~(_end.startswith(\".\")):\n",
    "        _end = \".\"+_end\n",
    "\n",
    "    # 매개변수로 받아온 경로를 이용하여 해당 위치의 파일 리스트를 로드 \n",
    "    file_list = os.listdir(_path)\n",
    "    # print(file_list)\n",
    "\n",
    "    # _end와 같은 파일명만 새로운 리스트로 생성\n",
    "    end_list = []\n",
    "\n",
    "    for i in file_list:\n",
    "        if i.endswith(_end):\n",
    "            end_list.append(i)\n",
    "\n",
    "    # 비어있는 데이터프레임을 생성 \n",
    "    result = pd.DataFrame()\n",
    "\n",
    "    for i in end_list:\n",
    "        if (_end == \".csv\"):\n",
    "            df = pd.read_csv(_path + i)\n",
    "        elif (_end == \".json\"):\n",
    "            df = pd.read_json(_path + i)\n",
    "        elif (_end == \".xlsx\") | (_end == '.xls'):\n",
    "            df = pd.read_excel(_path + i)\n",
    "        result = pd.concat([result, df], axis=0, ignore_index=True)\n",
    "\n",
    "    return result"
   ]
  },
  {
   "cell_type": "code",
   "execution_count": 77,
   "metadata": {},
   "outputs": [
    {
     "name": "stdout",
     "output_type": "stream",
     "text": [
      "<class 'pandas.core.frame.DataFrame'>\n",
      "RangeIndex: 83819 entries, 0 to 83818\n",
      "Data columns (total 21 columns):\n",
      " #   Column             Non-Null Count  Dtype  \n",
      "---  ------             --------------  -----  \n",
      " 0   nid                83819 non-null  int64  \n",
      " 1   title              83819 non-null  object \n",
      " 2   url                83819 non-null  object \n",
      " 3   dept_nm_lvl_1      83819 non-null  object \n",
      " 4   dept_nm_lvl_2      83819 non-null  object \n",
      " 5   dept_nm_lvl_3      67930 non-null  object \n",
      " 6   dept_nm_lvl_4      24831 non-null  object \n",
      " 7   dept_nm_lvl_5      1473 non-null   object \n",
      " 8   exec_yr            83819 non-null  int64  \n",
      " 9   exec_month         83819 non-null  int64  \n",
      " 10  expense_budget     60524 non-null  float64\n",
      " 11  expense_execution  60524 non-null  float64\n",
      " 12  category           980 non-null    object \n",
      " 13  dept_nm_full       83819 non-null  object \n",
      " 14  exec_dt            83819 non-null  object \n",
      " 15  exec_loc           83185 non-null  object \n",
      " 16  exec_purpose       83819 non-null  object \n",
      " 17  target_nm          83467 non-null  object \n",
      " 18  payment_method     83819 non-null  object \n",
      " 19  exec_amount        83819 non-null  int64  \n",
      " 20  bimok              18427 non-null  object \n",
      "dtypes: float64(2), int64(4), object(15)\n",
      "memory usage: 13.4+ MB\n"
     ]
    }
   ],
   "source": [
    "# 함수 호출 \n",
    "list_data('../csv/2021', 'csv').info()"
   ]
  },
  {
   "cell_type": "code",
   "execution_count": 49,
   "metadata": {},
   "outputs": [
    {
     "data": {
      "text/plain": [
       "'1'"
      ]
     },
     "execution_count": 49,
     "metadata": {},
     "output_type": "execute_result"
    }
   ],
   "source": [
    "# 문자형 데이터의 마지막 글자를 출력하려면?\n",
    "test = \"test1\"\n",
    "# 마지막의 1을 출력하려면?\n",
    "test[-1]"
   ]
  },
  {
   "cell_type": "code",
   "execution_count": 61,
   "metadata": {},
   "outputs": [
    {
     "name": "stdout",
     "output_type": "stream",
     "text": [
      "['202101_expense_list.csv', '202102_expense_list.csv', '202103_expense_list.csv', '202104_expense_list.csv', '202105_expense_list.csv', '202106_expense_list.csv', '202107_expense_list.csv', '202108_expense_list.csv', '202109_expense_list.csv', '202110_expense_list.csv', '202111_expense_list.csv', '202112_expense_list.csv']\n"
     ]
    }
   ],
   "source": [
    "# 2021 폴더에서 특정 확장자만 리스트화 \n",
    "\n",
    "file_list = os.listdir(\"../csv/2021\")\n",
    "file_list\n",
    "\n",
    "# 비어있는 리스트 생성\n",
    "csv_list = []\n",
    "\n",
    "for i in file_list:\n",
    "    if i.endswith('.csv'):\n",
    "        csv_list.append(i)\n",
    "\n",
    "print(csv_list)\n"
   ]
  },
  {
   "cell_type": "code",
   "execution_count": null,
   "metadata": {},
   "outputs": [],
   "source": [
    "\n",
    "# '.'의 위치를 검색 후 '.'이후의 문자열을 출력\n",
    "file_list[0][file_list[0].find('.')+1:]\n",
    "\n",
    "# '.'을 기준으로 나눠주고 마지막에 있는 원소를 출력\n",
    "file_list[1].split(\".\")[-1]\n",
    "\n",
    "# 특정 문자열이 문자열의 마지막과 같은가 비교하는 함수\n",
    "file_list[2].endswith(\".xlsx\")\n"
   ]
  },
  {
   "cell_type": "code",
   "execution_count": 62,
   "metadata": {},
   "outputs": [],
   "source": [
    "def test(_path, _end):\n",
    "    file_list = os.listdir(_path)\n",
    "\n",
    "    # _end의 값과 같은 확장자만 새로운 리스트 생성\n",
    "\n",
    "    # 비어있는 리스트 변수 생성\n",
    "    end_list = []\n",
    "    # file_list 반복하여 해당하는 확장자만 end_list에 추가\n",
    "    for i in file_list:\n",
    "        if i.endswith(_end):\n",
    "            end_list.append(i)\n",
    "    return end_list\n"
   ]
  },
  {
   "cell_type": "code",
   "execution_count": 67,
   "metadata": {},
   "outputs": [
    {
     "data": {
      "text/plain": [
       "[]"
      ]
     },
     "execution_count": 67,
     "metadata": {},
     "output_type": "execute_result"
    }
   ],
   "source": [
    "test('../csv/2021', '.exe')"
   ]
  }
 ],
 "metadata": {
  "kernelspec": {
   "display_name": "Python 3",
   "language": "python",
   "name": "python3"
  },
  "language_info": {
   "codemirror_mode": {
    "name": "ipython",
    "version": 3
   },
   "file_extension": ".py",
   "mimetype": "text/x-python",
   "name": "python",
   "nbconvert_exporter": "python",
   "pygments_lexer": "ipython3",
   "version": "3.11.0"
  },
  "orig_nbformat": 4
 },
 "nbformat": 4,
 "nbformat_minor": 2
}
