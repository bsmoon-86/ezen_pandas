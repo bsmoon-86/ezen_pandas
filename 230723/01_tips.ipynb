{
 "cells": [
  {
   "cell_type": "code",
   "execution_count": null,
   "metadata": {},
   "outputs": [],
   "source": [
    "!pip install seaborn"
   ]
  },
  {
   "cell_type": "code",
   "execution_count": 2,
   "metadata": {},
   "outputs": [],
   "source": [
    "import pandas as pd\n",
    "import seaborn as sns"
   ]
  },
  {
   "cell_type": "code",
   "execution_count": null,
   "metadata": {},
   "outputs": [],
   "source": [
    "# tips 데이터셋 로드 \n",
    "tips = sns.load_dataset('tips')\n",
    "tips"
   ]
  },
  {
   "cell_type": "markdown",
   "metadata": {},
   "source": [
    "# 문제\n",
    "1. 컬럼의 이름 변경 = ['총금액', '팁', '성별', '흡연여부', '요일', '시간', '인원']\n",
    "2. '팁의 비율' 새로운 컬럼을 생성\n",
    "    - (팁 / (총금액 - 팁)) * 100\n",
    "3. '인원', '성별'을 기준으로 그룹화 하여 팁의 비율의 평균 값 출력\n",
    "4. 해당하는 그룹 데이터를 바형 그래프로 시각화하여 표시\n"
   ]
  },
  {
   "cell_type": "code",
   "execution_count": 5,
   "metadata": {},
   "outputs": [],
   "source": [
    "# 시각화 라이브러리 로드 \n",
    "import matplotlib.pyplot as plt\n",
    "# os 정보를 불러오는 라이브러리\n",
    "import platform"
   ]
  },
  {
   "cell_type": "code",
   "execution_count": 6,
   "metadata": {},
   "outputs": [],
   "source": [
    "# 그래프의 한글 깨짐 방지\n",
    "if platform.system() == 'Darwin':\n",
    "    plt.rc('font', family = 'AppleGothic')\n",
    "else :\n",
    "    plt.rc('font', family = 'Malgun Gothic')"
   ]
  },
  {
   "cell_type": "code",
   "execution_count": 7,
   "metadata": {},
   "outputs": [
    {
     "data": {
      "text/html": [
       "<div>\n",
       "<style scoped>\n",
       "    .dataframe tbody tr th:only-of-type {\n",
       "        vertical-align: middle;\n",
       "    }\n",
       "\n",
       "    .dataframe tbody tr th {\n",
       "        vertical-align: top;\n",
       "    }\n",
       "\n",
       "    .dataframe thead th {\n",
       "        text-align: right;\n",
       "    }\n",
       "</style>\n",
       "<table border=\"1\" class=\"dataframe\">\n",
       "  <thead>\n",
       "    <tr style=\"text-align: right;\">\n",
       "      <th></th>\n",
       "      <th>총금액</th>\n",
       "      <th>팁</th>\n",
       "      <th>성별</th>\n",
       "      <th>흡연여부</th>\n",
       "      <th>요일</th>\n",
       "      <th>시간</th>\n",
       "      <th>인원</th>\n",
       "    </tr>\n",
       "  </thead>\n",
       "  <tbody>\n",
       "    <tr>\n",
       "      <th>0</th>\n",
       "      <td>16.99</td>\n",
       "      <td>1.01</td>\n",
       "      <td>Female</td>\n",
       "      <td>No</td>\n",
       "      <td>Sun</td>\n",
       "      <td>Dinner</td>\n",
       "      <td>2</td>\n",
       "    </tr>\n",
       "  </tbody>\n",
       "</table>\n",
       "</div>"
      ],
      "text/plain": [
       "     총금액     팁      성별 흡연여부   요일      시간  인원\n",
       "0  16.99  1.01  Female   No  Sun  Dinner   2"
      ]
     },
     "execution_count": 7,
     "metadata": {},
     "output_type": "execute_result"
    }
   ],
   "source": [
    "df = tips.copy()\n",
    "# 컬럼의 이름을 변경 \n",
    "df.columns = ['총금액', '팁', '성별', '흡연여부', '요일', '시간', '인원']\n",
    "\n",
    "df.head(1)"
   ]
  },
  {
   "cell_type": "code",
   "execution_count": 9,
   "metadata": {},
   "outputs": [],
   "source": [
    "# 팁의 비율 이라는 파생변수 생성\n",
    "# (팁 / (총금액 -팁)) * 100\n",
    "df['팁의 비율'] = (df['팁'] / (df['총금액'] - df['팁'])) * 100"
   ]
  },
  {
   "cell_type": "code",
   "execution_count": 10,
   "metadata": {},
   "outputs": [
    {
     "data": {
      "text/html": [
       "<div>\n",
       "<style scoped>\n",
       "    .dataframe tbody tr th:only-of-type {\n",
       "        vertical-align: middle;\n",
       "    }\n",
       "\n",
       "    .dataframe tbody tr th {\n",
       "        vertical-align: top;\n",
       "    }\n",
       "\n",
       "    .dataframe thead th {\n",
       "        text-align: right;\n",
       "    }\n",
       "</style>\n",
       "<table border=\"1\" class=\"dataframe\">\n",
       "  <thead>\n",
       "    <tr style=\"text-align: right;\">\n",
       "      <th></th>\n",
       "      <th>총금액</th>\n",
       "      <th>팁</th>\n",
       "      <th>성별</th>\n",
       "      <th>흡연여부</th>\n",
       "      <th>요일</th>\n",
       "      <th>시간</th>\n",
       "      <th>인원</th>\n",
       "      <th>팁의 비율</th>\n",
       "    </tr>\n",
       "  </thead>\n",
       "  <tbody>\n",
       "    <tr>\n",
       "      <th>0</th>\n",
       "      <td>16.99</td>\n",
       "      <td>1.01</td>\n",
       "      <td>Female</td>\n",
       "      <td>No</td>\n",
       "      <td>Sun</td>\n",
       "      <td>Dinner</td>\n",
       "      <td>2</td>\n",
       "      <td>6.320401</td>\n",
       "    </tr>\n",
       "    <tr>\n",
       "      <th>1</th>\n",
       "      <td>10.34</td>\n",
       "      <td>1.66</td>\n",
       "      <td>Male</td>\n",
       "      <td>No</td>\n",
       "      <td>Sun</td>\n",
       "      <td>Dinner</td>\n",
       "      <td>3</td>\n",
       "      <td>19.124424</td>\n",
       "    </tr>\n",
       "    <tr>\n",
       "      <th>2</th>\n",
       "      <td>21.01</td>\n",
       "      <td>3.50</td>\n",
       "      <td>Male</td>\n",
       "      <td>No</td>\n",
       "      <td>Sun</td>\n",
       "      <td>Dinner</td>\n",
       "      <td>3</td>\n",
       "      <td>19.988578</td>\n",
       "    </tr>\n",
       "  </tbody>\n",
       "</table>\n",
       "</div>"
      ],
      "text/plain": [
       "     총금액     팁      성별 흡연여부   요일      시간  인원      팁의 비율\n",
       "0  16.99  1.01  Female   No  Sun  Dinner   2   6.320401\n",
       "1  10.34  1.66    Male   No  Sun  Dinner   3  19.124424\n",
       "2  21.01  3.50    Male   No  Sun  Dinner   3  19.988578"
      ]
     },
     "execution_count": 10,
     "metadata": {},
     "output_type": "execute_result"
    }
   ],
   "source": [
    "df.head(3)"
   ]
  },
  {
   "cell_type": "code",
   "execution_count": 12,
   "metadata": {},
   "outputs": [],
   "source": [
    "# 팁의 비율을 소수점 3번째 자리에서 반올림\n",
    "# 반올림 함수 : round(소수점 자리수)\n",
    "df['팁의 비율'] = df['팁의 비율'].round(2)"
   ]
  },
  {
   "cell_type": "code",
   "execution_count": 19,
   "metadata": {},
   "outputs": [],
   "source": [
    "# '인원', '성별'을 기준으로 그룹화하여 팁의 비율의 평균을 출력\n",
    "group_data = df[['인원', '성별', '팁의 비율']].groupby(['인원', '성별']).mean()"
   ]
  },
  {
   "cell_type": "code",
   "execution_count": 22,
   "metadata": {},
   "outputs": [
    {
     "data": {
      "text/plain": [
       "MultiIndex([(1,   'Male'),\n",
       "            (1, 'Female'),\n",
       "            (2,   'Male'),\n",
       "            (2, 'Female'),\n",
       "            (3,   'Male'),\n",
       "            (3, 'Female'),\n",
       "            (4,   'Male'),\n",
       "            (4, 'Female'),\n",
       "            (5,   'Male'),\n",
       "            (5, 'Female'),\n",
       "            (6,   'Male'),\n",
       "            (6, 'Female')],\n",
       "           names=['인원', '성별'])"
      ]
     },
     "execution_count": 22,
     "metadata": {},
     "output_type": "execute_result"
    }
   ],
   "source": [
    "# x축의 값들은 index의 값을 대체하기 위해 index를 출력\n",
    "group_data.index"
   ]
  },
  {
   "cell_type": "code",
   "execution_count": 26,
   "metadata": {},
   "outputs": [
    {
     "data": {
      "image/png": "[encoded data removed]",
      "text/plain": [
       "<Figure size 1200x800 with 1 Axes>"
      ]
     },
     "metadata": {},
     "output_type": "display_data"
    }
   ],
   "source": [
    "# 바형 그래프 시각화\n",
    "\n",
    "x = list(range(len(group_data)))\n",
    "y = group_data['팁의 비율']\n",
    "plt.figure(figsize=(12, 8))\n",
    "plt.barh(x, y)\n",
    "# x축의 값들을 다른 값으로 대체\n",
    "plt.yticks(x, group_data.index)\n",
    "\n",
    "plt.show()"
   ]
  },
  {
   "cell_type": "code",
   "execution_count": 33,
   "metadata": {},
   "outputs": [],
   "source": [
    "# pivot_table을 이용하여 그룹화\n",
    "pivot_data =  pd.pivot_table(\n",
    "    df, # pivot_table의 기준 데이터프레임\n",
    "    index = '성별', \n",
    "    columns = '인원', \n",
    "    values = ['팁의 비율'], \n",
    "    aggfunc= 'mean'\n",
    ")"
   ]
  },
  {
   "cell_type": "code",
   "execution_count": 34,
   "metadata": {},
   "outputs": [
    {
     "data": {
      "text/plain": [
       "<Axes: xlabel='성별'>"
      ]
     },
     "execution_count": 34,
     "metadata": {},
     "output_type": "execute_result"
    },
    {
     "data": {
      "image/png": "[encoded data removed]",
      "text/plain": [
       "<Figure size 640x480 with 1 Axes>"
      ]
     },
     "metadata": {},
     "output_type": "display_data"
    }
   ],
   "source": [
    "# 시각화\n",
    "pivot_data.plot.bar()"
   ]
  },
  {
   "cell_type": "code",
   "execution_count": null,
   "metadata": {},
   "outputs": [],
   "source": []
  }
 ],
 "metadata": {
  "kernelspec": {
   "display_name": "Python 3",
   "language": "python",
   "name": "python3"
  },
  "language_info": {
   "codemirror_mode": {
    "name": "ipython",
    "version": 3
   },
   "file_extension": ".py",
   "mimetype": "text/x-python",
   "name": "python",
   "nbconvert_exporter": "python",
   "pygments_lexer": "ipython3",
   "version": "3.11.0"
  },
  "orig_nbformat": 4
 },
 "nbformat": 4,
 "nbformat_minor": 2
}
