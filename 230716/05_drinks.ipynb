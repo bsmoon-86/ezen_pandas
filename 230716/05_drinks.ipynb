{
 "cells": [
  {
   "cell_type": "markdown",
   "metadata": {},
   "source": [
    "# 연습문제\n",
    "1. csv폴더 안에 있는 drinks.csv 파일 로드 \n",
    "2. 데이터프레임의 정보를 출력\n",
    "3. 컬럼별 결측치의 개수를 확인\n",
    "4. continent 컬럼에 결측치가 존재 -> 결측치를 'OT' 문자열로 대체\n",
    "5. 컬럼명 변경 = ['국가', '맥주 소비량', '위스키 소비량', '와인 소비량', '리터당 알콜 농도', '대륙']\n",
    "6. 대륙을 기준으로 그룹화한 뒤 위스키 소비량의 평균 값을 출력"
   ]
  },
  {
   "cell_type": "code",
   "execution_count": null,
   "metadata": {},
   "outputs": [],
   "source": [
    "import pandas as pd"
   ]
  },
  {
   "cell_type": "code",
   "execution_count": null,
   "metadata": {},
   "outputs": [],
   "source": [
    "# drinks.csv 파일 로드 \n",
    "drinks = pd.read_csv('../csv/drinks.csv')\n",
    "drinks.head(2)"
   ]
  },
  {
   "cell_type": "code",
   "execution_count": null,
   "metadata": {},
   "outputs": [],
   "source": [
    "df = drinks.copy()"
   ]
  },
  {
   "cell_type": "code",
   "execution_count": null,
   "metadata": {},
   "outputs": [],
   "source": [
    "# 데이터프레임의 정보 출력\n",
    "df.info()"
   ]
  },
  {
   "cell_type": "code",
   "execution_count": null,
   "metadata": {},
   "outputs": [],
   "source": [
    "# 컬럼별 결측치의 수를 출력\n",
    "df.isna().sum()"
   ]
  },
  {
   "cell_type": "code",
   "execution_count": null,
   "metadata": {},
   "outputs": [],
   "source": [
    "# continent 컬럼의 결측치를 'OT' 대체\n",
    "df['continent'] = df['continent'].fillna('OT')"
   ]
  },
  {
   "cell_type": "code",
   "execution_count": null,
   "metadata": {},
   "outputs": [],
   "source": [
    "# 컬럼의 이름을 변경\n",
    "df.columns = ['국가', '맥주 소비량', '위스키 소비량', '와인 소비량', '리터당 알콜 농도', '대륙']\n",
    "df.head(1)"
   ]
  },
  {
   "cell_type": "code",
   "execution_count": null,
   "metadata": {},
   "outputs": [],
   "source": [
    "# 대륙별 위스키의 평균량 출력\n",
    "df[['대륙', '위스키 소비량']].groupby('대륙').mean()"
   ]
  },
  {
   "cell_type": "code",
   "execution_count": null,
   "metadata": {},
   "outputs": [],
   "source": [
    "# 대륙별 위스키 소비량의 평균, 최소, 최대, 합계를 출력\n",
    "group_data = df[['대륙', '위스키 소비량']].groupby('대륙').agg(['mean', 'min', 'max', 'sum'])"
   ]
  },
  {
   "cell_type": "code",
   "execution_count": null,
   "metadata": {},
   "outputs": [],
   "source": [
    "group_data"
   ]
  },
  {
   "cell_type": "code",
   "execution_count": null,
   "metadata": {},
   "outputs": [],
   "source": [
    "dict = {\n",
    "    '위스키 소비량' : {\n",
    "        'mean' : 10, \n",
    "        'min' : 0, \n",
    "        'max' : 50, \n",
    "        'sum' : 100\n",
    "    }\n",
    "}"
   ]
  },
  {
   "cell_type": "code",
   "execution_count": null,
   "metadata": {},
   "outputs": [],
   "source": [
    "print(dict['위스키 소비량']['max'])"
   ]
  },
  {
   "cell_type": "code",
   "execution_count": null,
   "metadata": {},
   "outputs": [],
   "source": [
    "group_data['위스키 소비량']['mean']"
   ]
  },
  {
   "cell_type": "markdown",
   "metadata": {},
   "source": [
    "1. 리터당 알콜 농도 컬럼의 평균 값보다 높은 대륙들은 어디인가?\n",
    "2. 국가별 술 소비량 대비 알콜 비율 이라는 새로운 컬럼을 추가 \n",
    "    - 총 술 소비량 컬럼 생성\n",
    "    - (리터당 알콜 농도 / 총 술 소비량) * 100 -> 국가별 술 소비량 대비 알콜 비율\n",
    "    - 결측치가 나온다면 0으로 대체\n",
    "3. 가장 독한 술을 먹는 나라는 어디인가?\n",
    "4. 우리 나라는 그 중에 몇 위인가?"
   ]
  },
  {
   "cell_type": "code",
   "execution_count": null,
   "metadata": {},
   "outputs": [],
   "source": [
    "# 리터당 알콜 농도의 평균 값을 출력\n",
    "total_mean = df['리터당 알콜 농도'].mean()"
   ]
  },
  {
   "cell_type": "code",
   "execution_count": null,
   "metadata": {},
   "outputs": [],
   "source": [
    "# 대륙별 리터당 알콜 농도의 평균 데이터를 출력\n",
    "group_data2 = df[['대륙', '리터당 알콜 농도']].groupby('대륙').mean()"
   ]
  },
  {
   "cell_type": "code",
   "execution_count": null,
   "metadata": {},
   "outputs": [],
   "source": [
    "# group_data2에서 total_mean보다 높은 데이터만 출력\n",
    "group_data2.loc[group_data2['리터당 알콜 농도'] > total_mean]"
   ]
  },
  {
   "cell_type": "code",
   "execution_count": 28,
   "metadata": {},
   "outputs": [],
   "source": [
    "# 총 술 소비량 컬럼을 생성\n",
    "# 맥주 소비량 + 위스키 소비량 + 와인 소비량 -> 총 술 소비량\n",
    "df['총 술 소비량'] = \\\n",
    "      df['맥주 소비량'] + df['위스키 소비량'] + df['와인 소비량']"
   ]
  },
  {
   "cell_type": "code",
   "execution_count": 29,
   "metadata": {},
   "outputs": [
    {
     "data": {
      "text/html": [
       "<div>\n",
       "<style scoped>\n",
       "    .dataframe tbody tr th:only-of-type {\n",
       "        vertical-align: middle;\n",
       "    }\n",
       "\n",
       "    .dataframe tbody tr th {\n",
       "        vertical-align: top;\n",
       "    }\n",
       "\n",
       "    .dataframe thead th {\n",
       "        text-align: right;\n",
       "    }\n",
       "</style>\n",
       "<table border=\"1\" class=\"dataframe\">\n",
       "  <thead>\n",
       "    <tr style=\"text-align: right;\">\n",
       "      <th></th>\n",
       "      <th>국가</th>\n",
       "      <th>맥주 소비량</th>\n",
       "      <th>위스키 소비량</th>\n",
       "      <th>와인 소비량</th>\n",
       "      <th>리터당 알콜 농도</th>\n",
       "      <th>대륙</th>\n",
       "      <th>총 술 소비량</th>\n",
       "    </tr>\n",
       "  </thead>\n",
       "  <tbody>\n",
       "    <tr>\n",
       "      <th>0</th>\n",
       "      <td>Afghanistan</td>\n",
       "      <td>0</td>\n",
       "      <td>0</td>\n",
       "      <td>0</td>\n",
       "      <td>0.0</td>\n",
       "      <td>AS</td>\n",
       "      <td>0</td>\n",
       "    </tr>\n",
       "    <tr>\n",
       "      <th>1</th>\n",
       "      <td>Albania</td>\n",
       "      <td>89</td>\n",
       "      <td>132</td>\n",
       "      <td>54</td>\n",
       "      <td>4.9</td>\n",
       "      <td>EU</td>\n",
       "      <td>275</td>\n",
       "    </tr>\n",
       "  </tbody>\n",
       "</table>\n",
       "</div>"
      ],
      "text/plain": [
       "            국가  맥주 소비량  위스키 소비량  와인 소비량  리터당 알콜 농도  대륙  총 술 소비량\n",
       "0  Afghanistan       0        0       0        0.0  AS        0\n",
       "1      Albania      89      132      54        4.9  EU      275"
      ]
     },
     "execution_count": 29,
     "metadata": {},
     "output_type": "execute_result"
    }
   ],
   "source": [
    "df.head(2)"
   ]
  },
  {
   "cell_type": "code",
   "execution_count": 31,
   "metadata": {},
   "outputs": [],
   "source": [
    "# 술 소비량 대비 알콜 비율 컬럼을 생성\n",
    "# (리터당 알콜 농도 / 총 술 소비량) * 100\n",
    "# 총 술 소비량이 0인 경우는 결측치로 출력\n",
    "# 결측치는 0으로 대체\n",
    "df['술 소비량 대비 알콜 비율'] = \\\n",
    "      (df['리터당 알콜 농도'] / df['총 술 소비량']) * 100"
   ]
  },
  {
   "cell_type": "code",
   "execution_count": null,
   "metadata": {},
   "outputs": [],
   "source": [
    "df.isna().sum()"
   ]
  },
  {
   "cell_type": "code",
   "execution_count": 35,
   "metadata": {},
   "outputs": [],
   "source": [
    "# 결측치가 하나의 컬럼에만 존재함으로 해당 컬럼의 결측치를 0으로 채울때\n",
    "# 스리즈의 형태로 결측치를 채우는 방법, 데이터프레임에 결측치를 채우는 방법\n",
    "# 두 방법 모두 사용 가능\n",
    "df = df.fillna(0)"
   ]
  },
  {
   "cell_type": "code",
   "execution_count": 37,
   "metadata": {},
   "outputs": [
    {
     "data": {
      "text/plain": [
       "국가                 Zimbabwe\n",
       "술 소비량 대비 알콜 비율    26.666667\n",
       "dtype: object"
      ]
     },
     "execution_count": 37,
     "metadata": {},
     "output_type": "execute_result"
    }
   ],
   "source": [
    "# 가장 독한술을 먹는 나라는 어디인가?\n",
    "# df[['국가', '술 소비량 대비 알콜 비율']].max()"
   ]
  },
  {
   "cell_type": "code",
   "execution_count": 47,
   "metadata": {},
   "outputs": [],
   "source": [
    "# 술 소비량 대비 알콜 비율을 기준으로 내림차순 정렬\n",
    "\n",
    "# df.sort_values(\n",
    "#     '술 소비량 대비 알콜 비율', \n",
    "#     ascending= False\n",
    "#     ).reset_index()\n",
    "\n",
    "df_rank = df.sort_values(\n",
    "    '술 소비량 대비 알콜 비율', \n",
    "    ascending= False, \n",
    "    ignore_index= True\n",
    "    )"
   ]
  },
  {
   "cell_type": "code",
   "execution_count": null,
   "metadata": {},
   "outputs": [],
   "source": [
    "df_rank.head(10)"
   ]
  },
  {
   "cell_type": "code",
   "execution_count": 54,
   "metadata": {},
   "outputs": [
    {
     "data": {
      "text/plain": [
       "5.93939393939394"
      ]
     },
     "execution_count": 54,
     "metadata": {},
     "output_type": "execute_result"
    }
   ],
   "source": [
    "# 우리 나라('South Korea')의 정보를 출력\n",
    "# df.loc[행의 조건식, 열의 조건식]\n",
    "df_rank.loc[\n",
    "    df_rank['국가'] == \"South Korea\", '술 소비량 대비 알콜 비율'\n",
    "    ].values[0]"
   ]
  },
  {
   "cell_type": "code",
   "execution_count": 50,
   "metadata": {},
   "outputs": [],
   "source": [
    "import matplotlib.pyplot as plt"
   ]
  },
  {
   "cell_type": "code",
   "execution_count": 51,
   "metadata": {},
   "outputs": [
    {
     "name": "stdout",
     "output_type": "stream",
     "text": [
      "1\n"
     ]
    }
   ],
   "source": [
    "_list = ['a', 'b', 'c', 'd']\n",
    "# 배열에서 위치를 출력하는 함수 index()\n",
    "print(_list.index('b'))"
   ]
  },
  {
   "cell_type": "code",
   "execution_count": 79,
   "metadata": {},
   "outputs": [
    {
     "data": {
      "image/png": "[encoded data removed]",
      "text/plain": [
       "<Figure size 1200x800 with 1 Axes>"
      ]
     },
     "metadata": {},
     "output_type": "display_data"
    }
   ],
   "source": [
    "# 시각화 \n",
    "# 우리나라를 그래프에 표시 \n",
    "x = list(range(len(df_rank))) # 0 to 192\n",
    "y = df_rank['술 소비량 대비 알콜 비율']\n",
    "\n",
    "# 국가 리스트 생성\n",
    "country_list = df_rank['국가'].tolist()\n",
    "\n",
    "# 국가 리스트에서 한국의 위치를 출력\n",
    "korea_rank = country_list.index('South Korea')\n",
    "# 한국의 술 소비량 대비 알콜 비율 데이터를 변수에 대입\n",
    "korea_alcohol_rate = df_rank.loc[\n",
    "    df_rank['국가'] == \"South Korea\", '술 소비량 대비 알콜 비율'\n",
    "    ].values[0]\n",
    "\n",
    "# 그래프 사이즈 변경\n",
    "plt.figure(figsize=(12, 8))\n",
    "\n",
    "# 막대 그래프 생성\n",
    "bar_graph = plt.bar(x, y)\n",
    "\n",
    "# 한국의 막대의 색을 변경\n",
    "bar_graph[korea_rank].set_color('r')\n",
    "\n",
    "# 그래프에 글씨와 화살표를 추가\n",
    "plt.annotate(\n",
    "    'South Korea : '+ str(korea_rank + 1), \n",
    "    color = 'r',\n",
    "    fontsize = 30,\n",
    "    xy = (korea_rank, korea_alcohol_rate),  # 화살표가 가르키는 위치\n",
    "    xytext = (korea_rank + 10, korea_alcohol_rate + 3), # 텍스트 위치 (화살표의 시작 지점)\n",
    "    arrowprops = {\n",
    "        'facecolor' : 'r', # 화살표 내부의 색 지정\n",
    "        'edgecolor' : 'b',  # 선의 색깔\n",
    "        'headwidth' : 10, # 화살표 머리의 너비\n",
    "        'headlength' : 10, # 화살표 머리의 길이\n",
    "        'width' : 3,        # 화살표의 너비\n",
    "        'shrink' : 0.01     # 화살표랑 문자의 거리\n",
    "        }\n",
    ")\n",
    "\n",
    "plt.show()"
   ]
  },
  {
   "cell_type": "code",
   "execution_count": null,
   "metadata": {},
   "outputs": [],
   "source": []
  }
 ],
 "metadata": {
  "kernelspec": {
   "display_name": "Python 3",
   "language": "python",
   "name": "python3"
  },
  "language_info": {
   "codemirror_mode": {
    "name": "ipython",
    "version": 3
   },
   "file_extension": ".py",
   "mimetype": "text/x-python",
   "name": "python",
   "nbconvert_exporter": "python",
   "pygments_lexer": "ipython3",
   "version": "3.11.0"
  },
  "orig_nbformat": 4
 },
 "nbformat": 4,
 "nbformat_minor": 2
}
