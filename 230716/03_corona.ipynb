{
 "cells": [
  {
   "cell_type": "code",
   "execution_count": null,
   "metadata": {},
   "outputs": [],
   "source": [
    "# 라이브러리 로드 \n",
    "import pandas as pd"
   ]
  },
  {
   "cell_type": "code",
   "execution_count": null,
   "metadata": {},
   "outputs": [],
   "source": [
    "# corona.csv 파일을 로드 \n",
    "# 상위 폴더 이동 -> csv 하위 폴더 이동 -> corona.csv\n",
    "corona = pd.read_csv('../csv/corona.csv')"
   ]
  },
  {
   "cell_type": "code",
   "execution_count": null,
   "metadata": {},
   "outputs": [],
   "source": [
    "corona.head(1)"
   ]
  },
  {
   "cell_type": "code",
   "execution_count": null,
   "metadata": {},
   "outputs": [],
   "source": [
    "# 특정 컬럼의 삭제\n",
    "# drop(조건, axis=?)\n",
    "# axis는 행, 열의 기준을 지정\n",
    "# inplace 매개변수가 존재 : 기준이되는 데이터프레임을 변경할것인가 지정 (기본값은 false)\n",
    "\n",
    "corona.drop([\"Unnamed: 0\"], axis=1, inplace = True)  \n",
    "# corona = coroan.drop(['Unnamed: 0'], axis=1)"
   ]
  },
  {
   "cell_type": "code",
   "execution_count": null,
   "metadata": {},
   "outputs": [],
   "source": [
    "df = corona.copy()"
   ]
  },
  {
   "cell_type": "code",
   "execution_count": null,
   "metadata": {},
   "outputs": [],
   "source": [
    "df"
   ]
  },
  {
   "cell_type": "code",
   "execution_count": null,
   "metadata": {},
   "outputs": [],
   "source": [
    "# 컬럼의 이름을 변경 \n",
    "# 영문 컬럼의 이름을 한글로 변경\n",
    "df.columns = [\"등록일시\", \"총사망자\", \"총확진자\", '게시글번호', \n",
    "              \"기준일\", \"기준시간\", \"수정일시\", '누적의심자', '누적확진자']"
   ]
  },
  {
   "cell_type": "code",
   "execution_count": null,
   "metadata": {},
   "outputs": [],
   "source": [
    "df.head(3)"
   ]
  },
  {
   "cell_type": "code",
   "execution_count": null,
   "metadata": {},
   "outputs": [],
   "source": [
    "# 데이터프레임에서 특정 컬럼을 기준으로 정렬을 변경\n",
    "# sort_values([기준이 되는 컬럼], acsending = bool, inplace= bool)\n",
    "# ascending 매개변수의 값이 True(기본값)이면 오름차순, False이면 내림차순 정렬\n",
    "# inpalce는 기준이 되는 데이터를 변경 할 것인가 지정 (기본값은 False)\n",
    "\n",
    "\n",
    "df.sort_values(['등록일시'], ascending = True, inplace = True)\n",
    "# df = df.sort_values(['등록일시'], ascending = True)"
   ]
  },
  {
   "cell_type": "code",
   "execution_count": null,
   "metadata": {},
   "outputs": [],
   "source": [
    "df.head(3)"
   ]
  },
  {
   "cell_type": "code",
   "execution_count": null,
   "metadata": {},
   "outputs": [],
   "source": [
    "df.drop(['level_0'], axis=1, inplace=True)"
   ]
  },
  {
   "cell_type": "code",
   "execution_count": null,
   "metadata": {},
   "outputs": [],
   "source": [
    "# 인덱스의 값을 초기화\n",
    "# reset_index(drop = bool, inplace = bool)\n",
    "# drop의 기본값은 False, True로 변경하면 기존의 인덱스를 삭제\n",
    "# df.reset_index(drop = True, inplace = True)\n",
    "df = df.reset_index().drop(['index'], axis=1)"
   ]
  },
  {
   "cell_type": "code",
   "execution_count": null,
   "metadata": {},
   "outputs": [],
   "source": [
    "df"
   ]
  },
  {
   "cell_type": "code",
   "execution_count": null,
   "metadata": {},
   "outputs": [],
   "source": [
    "# 데이터프레임의 정보를 확인\n",
    "# 데이터프레임에서 결측치가 존재하는가?\n",
    "# 결측치가 존재한다면서 컬럼별 결측치의 개수를 몇개인가?\n",
    "\n",
    "print(df.info())\n",
    "\n",
    "print(df.isna().sum())"
   ]
  },
  {
   "cell_type": "code",
   "execution_count": null,
   "metadata": {},
   "outputs": [],
   "source": [
    "# 누적의심자, 누적확진자의 결측치를 전의 데이터로 채우는 작업\n",
    "df['누적의심자'] = df['누적의심자'].fillna(method='ffill')"
   ]
  },
  {
   "cell_type": "code",
   "execution_count": null,
   "metadata": {},
   "outputs": [],
   "source": [
    "df['누적확진자'] = df['누적확진자'].fillna(method='ffill')"
   ]
  },
  {
   "cell_type": "code",
   "execution_count": null,
   "metadata": {},
   "outputs": [],
   "source": [
    "# 특정 컬럼이나 특정 인덱스의 값을 변경하는 함수 \n",
    "# rename(index = {'before':'after'}, columns={'before':'after'})\n",
    "df.rename(columns={'누적확진자' : '누적확진율'}, inplace=True)"
   ]
  },
  {
   "cell_type": "code",
   "execution_count": null,
   "metadata": {},
   "outputs": [],
   "source": [
    "df.head()"
   ]
  },
  {
   "cell_type": "code",
   "execution_count": null,
   "metadata": {},
   "outputs": [],
   "source": [
    "# shift(n)\n",
    "# 컬럼을 n만큼 이동하여 새로운 스리즈의 형태 데이터를 생성\n",
    "(df['총확진자'] - df['총확진자'].shift(1)).fillna(0)"
   ]
  },
  {
   "cell_type": "code",
   "execution_count": null,
   "metadata": {},
   "outputs": [],
   "source": [
    "# '일일확진자'라는 새로운 컬럼을 생성 \n",
    "df['일일확진자'] = (df['총확진자'] - df['총확진자'].shift(1)).fillna(0)"
   ]
  },
  {
   "cell_type": "code",
   "execution_count": null,
   "metadata": {},
   "outputs": [],
   "source": [
    "df.head(3)"
   ]
  },
  {
   "cell_type": "code",
   "execution_count": null,
   "metadata": {},
   "outputs": [],
   "source": [
    "# 일일사망자 라는 컬럼을 생성\n",
    "(df['총사망자'] - df['총사망자'].shift(1)).fillna(0)"
   ]
  },
  {
   "cell_type": "code",
   "execution_count": null,
   "metadata": {},
   "outputs": [],
   "source": [
    "# diff(n)\n",
    "# 해당하는 컬럼에서 n만큼 이동한 데이터와의 차이를 출력\n",
    "# n은 1이 기본값\n",
    "df['일일사망자'] = df['총사망자'].diff().fillna(0)"
   ]
  },
  {
   "cell_type": "code",
   "execution_count": null,
   "metadata": {},
   "outputs": [],
   "source": [
    "df.head(3)"
   ]
  },
  {
   "cell_type": "code",
   "execution_count": null,
   "metadata": {},
   "outputs": [],
   "source": [
    "# 일일확진자가 음수인 경우?\n",
    "df.loc[df['일일확진자'] < 0]"
   ]
  },
  {
   "cell_type": "code",
   "execution_count": null,
   "metadata": {},
   "outputs": [],
   "source": [
    "# 인덱스가 444번부터 448번까지의 데이터를 출력\n",
    "df.iloc[444:449]"
   ]
  },
  {
   "cell_type": "code",
   "execution_count": null,
   "metadata": {},
   "outputs": [],
   "source": [
    "# 인덱스가 446인 데이터가 문제가 있는 데이터 확인\n",
    "# 인덱스가 446인 데이터를 삭제\n",
    "df.drop(446, axis=0, inplace=True)"
   ]
  },
  {
   "cell_type": "code",
   "execution_count": null,
   "metadata": {},
   "outputs": [],
   "source": [
    "df['일일사망자'] = df['총사망자'].diff().fillna(0)\n",
    "df['일일확진자'] = (df['총확진자'] - df['총확진자'].shift(1)).fillna(0)"
   ]
  },
  {
   "cell_type": "code",
   "execution_count": null,
   "metadata": {},
   "outputs": [],
   "source": [
    "df.loc[df['일일확진자'] < 0]"
   ]
  },
  {
   "cell_type": "code",
   "execution_count": null,
   "metadata": {},
   "outputs": [],
   "source": [
    "df2 = corona.copy()"
   ]
  },
  {
   "cell_type": "code",
   "execution_count": null,
   "metadata": {},
   "outputs": [],
   "source": [
    "# 특정 컬럼의 데이터의 형태를 시계열 변경\n",
    "df2.info()\n"
   ]
  },
  {
   "cell_type": "code",
   "execution_count": null,
   "metadata": {},
   "outputs": [],
   "source": [
    "# 데이터를 시계열로 변경하는 함수\n",
    "# pd.to_datetime(스리즈형태의 데이터, format= 데이터의 형태) \n",
    "\n",
    "df2['createDt'] = pd.to_datetime(df2['createDt'])"
   ]
  },
  {
   "cell_type": "code",
   "execution_count": null,
   "metadata": {},
   "outputs": [],
   "source": [
    "df2['createDt'].value_counts()"
   ]
  },
  {
   "cell_type": "code",
   "execution_count": null,
   "metadata": {},
   "outputs": [],
   "source": [
    "df2.loc[df2['createDt'] == \"2021-05-30\"]"
   ]
  },
  {
   "cell_type": "code",
   "execution_count": null,
   "metadata": {},
   "outputs": [],
   "source": []
  }
 ],
 "metadata": {
  "kernelspec": {
   "display_name": "Python 3",
   "language": "python",
   "name": "python3"
  },
  "language_info": {
   "codemirror_mode": {
    "name": "ipython",
    "version": 3
   },
   "file_extension": ".py",
   "mimetype": "text/x-python",
   "name": "python",
   "nbconvert_exporter": "python",
   "pygments_lexer": "ipython3",
   "version": "3.11.0"
  },
  "orig_nbformat": 4
 },
 "nbformat": 4,
 "nbformat_minor": 2
}
