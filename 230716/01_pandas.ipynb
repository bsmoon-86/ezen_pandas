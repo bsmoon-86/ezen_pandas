{
 "cells": [
  {
   "cell_type": "code",
   "execution_count": 1,
   "metadata": {},
   "outputs": [],
   "source": [
    "# pandas 라이브러리 로드 \n",
    "# import 라이브러리명 as 별칭\n",
    "import pandas as pd"
   ]
  },
  {
   "cell_type": "code",
   "execution_count": 2,
   "metadata": {},
   "outputs": [
    {
     "name": "stdout",
     "output_type": "stream",
     "text": [
      "아메리카노    5000\n",
      "카페라떼     6000\n",
      "카페모카     6500\n",
      "카푸치노     6500\n",
      "dtype: int64\n"
     ]
    }
   ],
   "source": [
    "# 스리즈 형태의 데이터를 생성 ( 1차원 데이터 )\n",
    "pd_series = pd.Series(\n",
    "    [5000, 6000, 6500, 6500],\n",
    "    index = ['아메리카노', '카페라떼', '카페모카', '카푸치노']\n",
    ")\n",
    "\n",
    "print(pd_series)"
   ]
  },
  {
   "cell_type": "code",
   "execution_count": 3,
   "metadata": {},
   "outputs": [
    {
     "name": "stdout",
     "output_type": "stream",
     "text": [
      "스리즈 형태의 데이터에서 index의 값은 Index(['아메리카노', '카페라떼', '카페모카', '카푸치노'], dtype='object')\n",
      "스리즈 형태의 데이터에서 value의 값은 [5000 6000 6500 6500]\n"
     ]
    }
   ],
   "source": [
    "# 스리즈 형태의 데이터에서 index의 값과 values값은 따로 출력이 가능\n",
    "print('스리즈 형태의 데이터에서 index의 값은', pd_series.index)\n",
    "print('스리즈 형태의 데이터에서 value의 값은', pd_series.values)"
   ]
  },
  {
   "cell_type": "code",
   "execution_count": 4,
   "metadata": {},
   "outputs": [
    {
     "name": "stdout",
     "output_type": "stream",
     "text": [
      "   A  B  C\n",
      "a  1  2  3\n",
      "b  4  5  6\n",
      "c  7  8  9\n"
     ]
    }
   ],
   "source": [
    "# 데이터프레임 생성 ( 2차원 데이터 )\n",
    "_value = [[1,2,3], [4,5,6], [7,8,9]]        # 2차원 배열\n",
    "_index = ['a', 'b', 'c']\n",
    "_column = ['A', 'B', 'C']\n",
    "\n",
    "df = pd.DataFrame(_value, index = _index, columns= _column)\n",
    "\n",
    "print(df)"
   ]
  },
  {
   "cell_type": "code",
   "execution_count": 5,
   "metadata": {},
   "outputs": [
    {
     "name": "stdout",
     "output_type": "stream",
     "text": [
      "데이터프레임의 index Index(['a', 'b', 'c'], dtype='object')\n",
      "데이터프레임의 column Index(['A', 'B', 'C'], dtype='object')\n",
      "데이터프레임의 value [[1 2 3]\n",
      " [4 5 6]\n",
      " [7 8 9]]\n"
     ]
    }
   ],
   "source": [
    "# 데이터프레임의 index, column, value 값을 따로 출력\n",
    "print('데이터프레임의 index', df.index)\n",
    "print('데이터프레임의 column', df.columns)\n",
    "print('데이터프레임의 value', df.values)"
   ]
  },
  {
   "cell_type": "code",
   "execution_count": 6,
   "metadata": {},
   "outputs": [
    {
     "name": "stdout",
     "output_type": "stream",
     "text": [
      "{'name': ['test', 'test2', 'test3'], 'age': [20, 30, 40], 'phone': ['01012345678', '01098765432', '01011112222']}\n"
     ]
    }
   ],
   "source": [
    "# 딕셔너리 형태의 데이터를 가지고 데이터프레임을 생성\n",
    "_value = {\n",
    "    'name' : ['test', 'test2', 'test3'], \n",
    "    'age' : [20, 30, 40], \n",
    "    'phone' : ['01012345678', '01098765432', '01011112222']\n",
    "}\n",
    "\n",
    "print(_value)"
   ]
  },
  {
   "cell_type": "code",
   "execution_count": 8,
   "metadata": {},
   "outputs": [
    {
     "name": "stdout",
     "output_type": "stream",
     "text": [
      "test2\n"
     ]
    }
   ],
   "source": [
    "# test2라는 value의 값만 출력하려면?\n",
    "print(_value['name'][1])"
   ]
  },
  {
   "cell_type": "code",
   "execution_count": 9,
   "metadata": {},
   "outputs": [
    {
     "name": "stdout",
     "output_type": "stream",
     "text": [
      "    name  age        phone\n",
      "0   test   20  01012345678\n",
      "1  test2   30  01098765432\n",
      "2  test3   40  01011112222\n"
     ]
    }
   ],
   "source": [
    "# _value를 가지고 데이터프레임 생성\n",
    "df2 = pd.DataFrame(_value)\n",
    "print(df2)"
   ]
  },
  {
   "cell_type": "code",
   "execution_count": 10,
   "metadata": {},
   "outputs": [
    {
     "name": "stdout",
     "output_type": "stream",
     "text": [
      "[{'name': 'test', 'age': 20, 'phone': '01012345678'}, {'name': 'test2', 'age': 30, 'phone': '01098765432'}, {'name': 'test3', 'age': 40, 'phone': '01011112222'}]\n"
     ]
    }
   ],
   "source": [
    "# DB에서 데이터를 로드 하는 경우 데이터의 형태\n",
    "# [{}, {}, {}, {}, ....]\n",
    "\n",
    "_value = [\n",
    "    {\n",
    "        'name' : 'test', \n",
    "        'age' : 20, \n",
    "        'phone' : '01012345678'\n",
    "    }, \n",
    "    {\n",
    "        'name' : 'test2', \n",
    "        'age' : 30, \n",
    "        'phone' : '01098765432'\n",
    "    }, \n",
    "    {\n",
    "        'name' : 'test3', \n",
    "        'age' : 40, \n",
    "        'phone' : '01011112222'\n",
    "    }\n",
    "]\n",
    "print(_value)"
   ]
  },
  {
   "cell_type": "code",
   "execution_count": 11,
   "metadata": {},
   "outputs": [
    {
     "name": "stdout",
     "output_type": "stream",
     "text": [
      "    name  age        phone\n",
      "0   test   20  01012345678\n",
      "1  test2   30  01098765432\n",
      "2  test3   40  01011112222\n"
     ]
    }
   ],
   "source": [
    "df3 = pd.DataFrame(_value)\n",
    "print(df3)"
   ]
  },
  {
   "cell_type": "code",
   "execution_count": 12,
   "metadata": {},
   "outputs": [
    {
     "name": "stdout",
     "output_type": "stream",
     "text": [
      "0     test\n",
      "1    test2\n",
      "2    test3\n",
      "Name: name, dtype: object\n"
     ]
    }
   ],
   "source": [
    "# 하나의 컬럼의 데이터만 확인\n",
    "print(df3['name'])"
   ]
  },
  {
   "cell_type": "code",
   "execution_count": 13,
   "metadata": {},
   "outputs": [
    {
     "name": "stdout",
     "output_type": "stream",
     "text": [
      "0     test\n",
      "1    test2\n",
      "2    test3\n",
      "Name: name, dtype: object\n"
     ]
    }
   ],
   "source": [
    "print(df3.name)"
   ]
  },
  {
   "cell_type": "code",
   "execution_count": 18,
   "metadata": {},
   "outputs": [
    {
     "name": "stdout",
     "output_type": "stream",
     "text": [
      "    name   1       ph one\n",
      "0   test  20  01012345678\n",
      "1  test2  30  01098765432\n",
      "2  test3  40  01011112222\n"
     ]
    }
   ],
   "source": [
    "# 컬럼의 이름을 변경 \n",
    "df3.columns = ['name', 1, 'ph one']\n",
    "print(df3)"
   ]
  },
  {
   "cell_type": "code",
   "execution_count": 17,
   "metadata": {},
   "outputs": [
    {
     "name": "stdout",
     "output_type": "stream",
     "text": [
      "0    20\n",
      "1    30\n",
      "2    40\n",
      "Name: 1, dtype: int64\n"
     ]
    }
   ],
   "source": [
    "print(df3[1])"
   ]
  },
  {
   "cell_type": "code",
   "execution_count": 21,
   "metadata": {},
   "outputs": [
    {
     "name": "stdout",
     "output_type": "stream",
     "text": [
      "0    01012345678\n",
      "1    01098765432\n",
      "2    01011112222\n",
      "Name: ph one, dtype: object\n"
     ]
    }
   ],
   "source": [
    "print(df3['ph one'])"
   ]
  }
 ],
 "metadata": {
  "kernelspec": {
   "display_name": "Python 3",
   "language": "python",
   "name": "python3"
  },
  "language_info": {
   "codemirror_mode": {
    "name": "ipython",
    "version": 3
   },
   "file_extension": ".py",
   "mimetype": "text/x-python",
   "name": "python",
   "nbconvert_exporter": "python",
   "pygments_lexer": "ipython3",
   "version": "3.11.0"
  },
  "orig_nbformat": 4
 },
 "nbformat": 4,
 "nbformat_minor": 2
}
