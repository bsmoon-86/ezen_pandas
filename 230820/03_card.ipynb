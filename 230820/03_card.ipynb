{
 "cells": [
  {
   "cell_type": "code",
   "execution_count": null,
   "metadata": {},
   "outputs": [],
   "source": [
    "import pandas as pd\n",
    "import matplotlib.pyplot as plt"
   ]
  },
  {
   "cell_type": "markdown",
   "metadata": {},
   "source": [
    "### 예제 \n",
    "1. test_csv 폴더에 있는 '오프라인.csv' 로드 \n",
    "2. 컬럼의 이름을 ['기준년월', '업종', '성별', '연령대', '이용건수', '이용금액'] 변경\n",
    "3. 기준년월 컬럼의 데이터를 시계열로 변경\n",
    "4. 성별컬럼이 1,2,9로 이루어져있다 \n",
    "    - 1은 '남자'로 변경\n",
    "    - 2는 '여자'로 변경\n",
    "    - 9는 '무응답'으로 변경\n",
    "    - 그 외의 숫자는 '-'\n",
    "5. 남, 여 성별을 기준으로 연도별 건당 이용금액의 평균이 몇인지 출력 & 시각화\n",
    "    - 건당이용금액이라는 파생변수를 생성\n",
    "    - 연도라는 파생변수 생성\n",
    "    - 성별, 연도로 그룹화 -> 건당이용금액의 평균을 그룹 연산"
   ]
  },
  {
   "cell_type": "code",
   "execution_count": null,
   "metadata": {},
   "outputs": [],
   "source": [
    "df  = pd.read_csv('../test_csv/오프라인.csv', encoding='cp949')\n",
    "df.head()"
   ]
  },
  {
   "cell_type": "code",
   "execution_count": null,
   "metadata": {},
   "outputs": [],
   "source": [
    "# 컬럼의 이름을 변경하시오\n",
    "# 전체 컬럼의 이름을 변경하는 경우\n",
    "df.columns = ['기준년월', '업종', '성별', '연령대', '이용건수', '이용금액']\n",
    "df.head(1)"
   ]
  },
  {
   "cell_type": "code",
   "execution_count": null,
   "metadata": {},
   "outputs": [],
   "source": [
    "df2 = df.rename(\n",
    "    {'기준년월' : '년월', \n",
    "     '업종' : '장소'}, \n",
    "    axis=1\n",
    ")"
   ]
  },
  {
   "cell_type": "code",
   "execution_count": null,
   "metadata": {},
   "outputs": [],
   "source": [
    "df.head(2)"
   ]
  },
  {
   "cell_type": "code",
   "execution_count": null,
   "metadata": {},
   "outputs": [],
   "source": [
    "# 기준년월의 데이터를 시계열 데이터로 변경\n",
    "# to_datetime(변경할 데이터, format=\"변경할 데이터의 형태\")\n",
    "df['기준년월'] = pd.to_datetime(df['기준년월'], format='%Y%m')"
   ]
  },
  {
   "cell_type": "code",
   "execution_count": null,
   "metadata": {},
   "outputs": [],
   "source": [
    "df.info()"
   ]
  },
  {
   "cell_type": "code",
   "execution_count": null,
   "metadata": {},
   "outputs": [],
   "source": [
    "df['연령대'].value_counts()"
   ]
  },
  {
   "cell_type": "code",
   "execution_count": null,
   "metadata": {},
   "outputs": [],
   "source": [
    "# 성별 데이터의 개수 출력\n",
    "df['성별'].value_counts()"
   ]
  },
  {
   "cell_type": "code",
   "execution_count": null,
   "metadata": {},
   "outputs": [],
   "source": [
    "# 결측치 확인\n",
    "df.isna().sum()"
   ]
  },
  {
   "cell_type": "code",
   "execution_count": null,
   "metadata": {},
   "outputs": [],
   "source": [
    "# 1은 남자, 2는 여자 9는 무응답 그 외의 숫자가 있다면 '-'\n",
    "\n",
    "# case1 (apply() + 일반함수)\n",
    "\n",
    "def change(x):\n",
    "    # x가 1인 경우\n",
    "    # if x == 1:\n",
    "    #     result = '남자'\n",
    "    # elif x == 2:\n",
    "    #     result = '여자'\n",
    "    # elif x == 9:\n",
    "    #     result = '무응답'\n",
    "    # else:\n",
    "    #     result = '-'\n",
    "    # return result\n",
    "    result = '-'\n",
    "    if x == 1:\n",
    "        result = '남자'\n",
    "    if x == 2:\n",
    "        result = '여자'\n",
    "    if x == 9:\n",
    "        result = '무응답'\n",
    "    return result\n",
    "\n",
    "df['성별'].apply(change)"
   ]
  },
  {
   "cell_type": "code",
   "execution_count": null,
   "metadata": {},
   "outputs": [],
   "source": [
    "# case2 (apply() + lambda함수)\n",
    "# if문을 한줄로 표현 (참일때의값 if 조건식 else 거짓일때의값)\n",
    "df['성별'].apply(\n",
    "    lambda x : '여자' if x == 2 else (\n",
    "        '남자' if x == 1 else (\n",
    "            '무응답' if x == 9 else '-'\n",
    "        )\n",
    "    )\n",
    ")"
   ]
  },
  {
   "cell_type": "code",
   "execution_count": null,
   "metadata": {},
   "outputs": [],
   "source": [
    "df.index"
   ]
  },
  {
   "cell_type": "code",
   "execution_count": null,
   "metadata": {},
   "outputs": [],
   "source": [
    "# case3 (for문)\n",
    "\n",
    "# 비어있는 리스트 생성\n",
    "gender_data = []\n",
    "\n",
    "for i in df.index:\n",
    "    flag = df.loc[i, '성별']\n",
    "    # 인덱스의 위치에 성별의 데이터가 1이라면\n",
    "    if flag == 1:\n",
    "        result = '남자'\n",
    "    elif flag == 2:\n",
    "        result = '여자'\n",
    "    elif flag == 9 :\n",
    "        result = '무응답'\n",
    "    else : \n",
    "        result = '-'\n",
    "    gender_data.append(result)\n",
    "\n",
    "pd.Series(gender_data)"
   ]
  },
  {
   "cell_type": "code",
   "execution_count": null,
   "metadata": {},
   "outputs": [],
   "source": [
    "# case4 (replace())\n",
    "# 스리즈에 데이터에서 replace함수가 존재\n",
    "\n",
    "# 문자열에서 replace 사용하는 경우\n",
    "a = 'Hello World'\n",
    "a.replace('Hello', 'Hi')"
   ]
  },
  {
   "cell_type": "code",
   "execution_count": null,
   "metadata": {},
   "outputs": [],
   "source": [
    "df['업종'].value_counts()"
   ]
  },
  {
   "cell_type": "code",
   "execution_count": null,
   "metadata": {},
   "outputs": [],
   "source": [
    "df2.loc[0, '성별'] = 5\n",
    "df2"
   ]
  },
  {
   "cell_type": "code",
   "execution_count": null,
   "metadata": {},
   "outputs": [],
   "source": [
    "df2['성별'].replace({\n",
    "    1 : '남자', \n",
    "    2 : '여자', \n",
    "    9 : '무응답'\n",
    "}).apply(lambda x : x if x in ['남자', '여자', '무응답'] else '-')"
   ]
  },
  {
   "cell_type": "code",
   "execution_count": null,
   "metadata": {},
   "outputs": [],
   "source": [
    "# case5 (loc[]를 이용하여 데이터를 변경)\n",
    "\n",
    "# loc[]를 이용해서 성별이 1인 데이터만 출력하려면?\n",
    "\n",
    "# 조건\n",
    "df['성별'] == 1\n",
    "# loc[인덱스의 조건, 컬럼의 조건]를 이용하여 필터 성별 데이터만 출력\n",
    "df.loc[df['성별'] == 1, '성별'] = '남자'\n",
    "df.loc[df['성별'] == 2, '성별'] = '여자'\n",
    "df.loc[df['성별'] == 9, '성별'] = '무응답'"
   ]
  },
  {
   "cell_type": "code",
   "execution_count": null,
   "metadata": {},
   "outputs": [],
   "source": [
    "df['성별'].value_counts()"
   ]
  },
  {
   "cell_type": "code",
   "execution_count": null,
   "metadata": {},
   "outputs": [],
   "source": [
    "# 건당이용금액 -> 이용금액 / 이용건수\n",
    "df['건당이용금액'] = \\\n",
    "     (df['이용금액'] / df['이용건수']).round(0).astype('int')"
   ]
  },
  {
   "cell_type": "code",
   "execution_count": null,
   "metadata": {},
   "outputs": [],
   "source": [
    "# 연도 -> 기준년월에서 년만 추출\n",
    "df['연도'] = df['기준년월'].dt.strftime('%Y')"
   ]
  },
  {
   "cell_type": "code",
   "execution_count": null,
   "metadata": {},
   "outputs": [],
   "source": [
    "df.head()"
   ]
  },
  {
   "cell_type": "code",
   "execution_count": null,
   "metadata": {},
   "outputs": [],
   "source": [
    "# 성별과 연도를 기준으로 그룹화하여 건당이용금액의 평균을 출력\n",
    "group_data = \\\n",
    "df[['성별', '연도' ,'건당이용금액']].groupby(['성별', '연도']).mean()"
   ]
  },
  {
   "cell_type": "code",
   "execution_count": null,
   "metadata": {},
   "outputs": [],
   "source": [
    "test = group_data.sum()"
   ]
  },
  {
   "cell_type": "code",
   "execution_count": null,
   "metadata": {},
   "outputs": [],
   "source": [
    "# 스리즈를 데이터프레임으로 변경\n",
    "test = test.to_frame()\n"
   ]
  },
  {
   "cell_type": "code",
   "execution_count": null,
   "metadata": {},
   "outputs": [],
   "source": [
    "# 행과 열의 위치를 변경\n",
    "# test.transpose()\n",
    "test = test.T"
   ]
  },
  {
   "cell_type": "code",
   "execution_count": null,
   "metadata": {},
   "outputs": [],
   "source": [
    "pd.concat([group_data, test], axis=0)"
   ]
  },
  {
   "cell_type": "code",
   "execution_count": null,
   "metadata": {},
   "outputs": [],
   "source": [
    "import platform"
   ]
  },
  {
   "cell_type": "code",
   "execution_count": null,
   "metadata": {},
   "outputs": [],
   "source": [
    "if platform.system() == 'Darwin':\n",
    "    plt.rc('font', family='AppleGothic')\n",
    "else:\n",
    "    plt.rc('font', family='Malgun Gothic')"
   ]
  },
  {
   "cell_type": "code",
   "execution_count": null,
   "metadata": {},
   "outputs": [],
   "source": [
    "group_data.plot.bar()"
   ]
  },
  {
   "cell_type": "code",
   "execution_count": null,
   "metadata": {},
   "outputs": [],
   "source": [
    "pivot_data = pd.pivot_table(\n",
    "    df, \n",
    "    index = '연도', \n",
    "    columns = '성별', \n",
    "    aggfunc = 'sum', \n",
    "    values = '이용건수'\n",
    ")"
   ]
  },
  {
   "cell_type": "code",
   "execution_count": null,
   "metadata": {},
   "outputs": [],
   "source": [
    "pivot_data.plot.bar()"
   ]
  },
  {
   "cell_type": "markdown",
   "metadata": {},
   "source": [
    "### 온라인 카드 매출과 오프라인 카드 매출을 비교\n",
    "1. 오프라인 데이터를 기준년월별로 그룹화하여 이용금액의 합계를 출력\n",
    "2. 온라인 데이터를 기준년월별로 그룹화하여 이용금액의 합계를 출력\n",
    "    - test_csv에 있는 온라인.csv 로드 \n",
    "    - 컬럼의 이름 변경 -> ['기준년월', '성별', '연령대', '이용건수', '이용금액']\n",
    "    - 기준년월을 시계열 데이터로 변경\n",
    "    - 기준년월로 그룹화를 하여 이용금액의 합계를 그룹 연산\n",
    "3. 두개의 이용금액 데이터를 plot그래프로 하나의 그래프를 출력"
   ]
  },
  {
   "cell_type": "code",
   "execution_count": null,
   "metadata": {},
   "outputs": [],
   "source": [
    "# 오프라인 데이터를 기준년월 별 이용금액의 합계를 출력\n",
    "df[['기준년월', '이용금액']].groupby('기준년월').sum()"
   ]
  },
  {
   "cell_type": "code",
   "execution_count": null,
   "metadata": {},
   "outputs": [],
   "source": [
    "offline = pd.pivot_table(\n",
    "    df, \n",
    "    index='기준년월', \n",
    "    aggfunc='sum', \n",
    "    values='이용건수'\n",
    ")"
   ]
  },
  {
   "cell_type": "code",
   "execution_count": null,
   "metadata": {},
   "outputs": [],
   "source": [
    "# 온라인데이터로드 \n",
    "df2 = pd.read_csv(\"../test_csv/온라인.csv\", encoding='cp949')\n",
    "df2.head()"
   ]
  },
  {
   "cell_type": "code",
   "execution_count": null,
   "metadata": {},
   "outputs": [],
   "source": [
    "# 컬럼의 이름을 변경 \n",
    "df2.rename(\n",
    "    {\n",
    "        'crym' : '기준년월', \n",
    "        'ma_fem_dc' : '성별', \n",
    "        'agegrp_dc' : '연령대', \n",
    "        'tco_btc_u_ct' : '이용건수', \n",
    "        'tco_btc_u_am' : '이용금액'\n",
    "    }, \n",
    "    axis = 1, \n",
    "    inplace=True\n",
    ")"
   ]
  },
  {
   "cell_type": "code",
   "execution_count": null,
   "metadata": {},
   "outputs": [],
   "source": [
    "# 기준년월 데이터를 시계열로 변경\n",
    "df2['기준년월'] = pd.to_datetime(df2['기준년월'], format='%Y%m')"
   ]
  },
  {
   "cell_type": "code",
   "execution_count": null,
   "metadata": {},
   "outputs": [],
   "source": [
    "online = pd.pivot_table(\n",
    "    df2, \n",
    "    index = '기준년월', \n",
    "    aggfunc='sum', \n",
    "    values='이용건수'\n",
    ")"
   ]
  },
  {
   "cell_type": "code",
   "execution_count": null,
   "metadata": {},
   "outputs": [],
   "source": [
    "offline"
   ]
  },
  {
   "cell_type": "code",
   "execution_count": null,
   "metadata": {},
   "outputs": [],
   "source": [
    "# 그래프 시각화\n",
    "\n",
    "# 데이터의 x축\n",
    "x = offline.index\n",
    "# y축 offline\n",
    "y_off = offline['이용건수']\n",
    "# y축 online \n",
    "y_on = online['이용건수']\n",
    "\n",
    "plt.figure(figsize=(16, 8))\n",
    "# grid 추가\n",
    "plt.grid(True, axis='both')\n",
    "# offline데이터를 그래프에 삽입\n",
    "plt.plot(x, y_off, label='오프라인')\n",
    "# online데이터를 그래프에 삽입\n",
    "plt.plot(x, y_on, label='온라인')\n",
    "# 범례 추가\n",
    "plt.legend()\n",
    "\n",
    "plt.show()"
   ]
  },
  {
   "cell_type": "code",
   "execution_count": null,
   "metadata": {},
   "outputs": [],
   "source": [
    "# 두개의 데이터프레임을 결합(union결합)\n",
    "group_data = pd.concat([offline, online], axis=1)"
   ]
  },
  {
   "cell_type": "code",
   "execution_count": null,
   "metadata": {},
   "outputs": [],
   "source": [
    "group_data.plot()"
   ]
  },
  {
   "cell_type": "markdown",
   "metadata": {},
   "source": [
    "### 데이터프레임 결합\n",
    "1. offline data(df)와 online data(df2) 두개의 데이터프레임을 결합\n",
    "2. df2에는 업종이라는 컬럼이 존재하지 않는다\n",
    "    - df2에 업종 컬럼을 추가하고 데이터는 '온라인' 대입\n",
    "3. 두 개의 데이터프레임을 단순한 행 결합(union결합)\n",
    "4. 기준년월, 업종을 기준으로 그룹화하여 이용금액의 합계를 출력&시각화\n",
    "5. 연령대별, 업종을 기준으로 그룹화하여 이용금액의 평균을 출력&시각화"
   ]
  },
  {
   "cell_type": "code",
   "execution_count": null,
   "metadata": {},
   "outputs": [],
   "source": [
    "# df2에 업종이라는 새로운 컬럼을 추가 \n",
    "df2['업종'] = '온라인'\n",
    "df2.head(2)"
   ]
  },
  {
   "cell_type": "code",
   "execution_count": null,
   "metadata": {},
   "outputs": [],
   "source": [
    "total_df = pd.concat([df, df2], axis=0, ignore_index=True)"
   ]
  },
  {
   "cell_type": "code",
   "execution_count": null,
   "metadata": {},
   "outputs": [],
   "source": [
    "total_df"
   ]
  },
  {
   "cell_type": "code",
   "execution_count": null,
   "metadata": {},
   "outputs": [],
   "source": [
    "# 기준년월, 업종을 기준으로 그룹화하여 이용금액의 합계를 출력\n",
    "pivot_data = pd.pivot_table(\n",
    "    total_df, \n",
    "    index = '기준년월', \n",
    "    columns = '업종',\n",
    "    aggfunc= 'sum', \n",
    "    values = '이용금액'\n",
    ")"
   ]
  },
  {
   "cell_type": "code",
   "execution_count": null,
   "metadata": {},
   "outputs": [],
   "source": [
    "pivot_data.plot()"
   ]
  },
  {
   "cell_type": "code",
   "execution_count": 72,
   "metadata": {},
   "outputs": [
    {
     "data": {
      "text/plain": [
       "Index(['백화점', '슈퍼마켓', '온라인', '편의점', '할인점'], dtype='object', name='업종')"
      ]
     },
     "execution_count": 72,
     "metadata": {},
     "output_type": "execute_result"
    }
   ],
   "source": [
    "pivot_data.columns"
   ]
  },
  {
   "cell_type": "code",
   "execution_count": null,
   "metadata": {},
   "outputs": [],
   "source": [
    "# 데이터를 시각화\n",
    "plt.figure(figsize=(14, 8))\n",
    "plt.grid(True, axis='y')\n",
    "for col in pivot_data.columns:\n",
    "    # col에 데이터는? -> columns의 name이 대입\n",
    "    plt.plot(pivot_data[col], label=col)\n",
    "plt.legend()\n",
    "plt.show()"
   ]
  },
  {
   "cell_type": "code",
   "execution_count": 77,
   "metadata": {},
   "outputs": [],
   "source": [
    "group_data = total_df[['기준년월', '업종', '이용금액']].groupby(['기준년월', '업종']).sum()"
   ]
  },
  {
   "cell_type": "code",
   "execution_count": null,
   "metadata": {},
   "outputs": [],
   "source": [
    "group_data.unstack().plot()"
   ]
  },
  {
   "cell_type": "code",
   "execution_count": 86,
   "metadata": {},
   "outputs": [],
   "source": [
    "pivot_data2 = pd.pivot_table(\n",
    "    total_df, \n",
    "    index = '업종', \n",
    "    columns = '연령대', \n",
    "    aggfunc= 'sum', \n",
    "    values = '이용금액'\n",
    ")"
   ]
  },
  {
   "cell_type": "code",
   "execution_count": 87,
   "metadata": {},
   "outputs": [
    {
     "data": {
      "text/plain": [
       "<Axes: xlabel='업종'>"
      ]
     },
     "execution_count": 87,
     "metadata": {},
     "output_type": "execute_result"
    },
    {
     "data": {
      "image/png": "[encoded data removed]",
      "text/plain": [
       "<Figure size 640x480 with 1 Axes>"
      ]
     },
     "metadata": {},
     "output_type": "display_data"
    }
   ],
   "source": [
    "pivot_data2.plot.bar()"
   ]
  },
  {
   "cell_type": "code",
   "execution_count": 1,
   "metadata": {},
   "outputs": [],
   "source": [
    "import sys"
   ]
  },
  {
   "cell_type": "code",
   "execution_count": 2,
   "metadata": {},
   "outputs": [
    {
     "data": {
      "text/plain": [
       "['c:\\\\Users\\\\EZEN\\\\Documents\\\\GitHub\\\\ezen_pandas\\\\230820',\n",
       " 'c:\\\\Users\\\\EZEN\\\\AppData\\\\Local\\\\Programs\\\\Python\\\\Python311\\\\python311.zip',\n",
       " 'c:\\\\Users\\\\EZEN\\\\AppData\\\\Local\\\\Programs\\\\Python\\\\Python311\\\\DLLs',\n",
       " 'c:\\\\Users\\\\EZEN\\\\AppData\\\\Local\\\\Programs\\\\Python\\\\Python311\\\\Lib',\n",
       " 'c:\\\\Users\\\\EZEN\\\\AppData\\\\Local\\\\Programs\\\\Python\\\\Python311',\n",
       " '',\n",
       " 'C:\\\\Users\\\\EZEN\\\\AppData\\\\Roaming\\\\Python\\\\Python311\\\\site-packages',\n",
       " 'C:\\\\Users\\\\EZEN\\\\AppData\\\\Roaming\\\\Python\\\\Python311\\\\site-packages\\\\win32',\n",
       " 'C:\\\\Users\\\\EZEN\\\\AppData\\\\Roaming\\\\Python\\\\Python311\\\\site-packages\\\\win32\\\\lib',\n",
       " 'C:\\\\Users\\\\EZEN\\\\AppData\\\\Roaming\\\\Python\\\\Python311\\\\site-packages\\\\Pythonwin',\n",
       " 'c:\\\\Users\\\\EZEN\\\\AppData\\\\Local\\\\Programs\\\\Python\\\\Python311\\\\Lib\\\\site-packages',\n",
       " 'C:\\\\Users\\\\EZEN\\\\Documents\\\\GitHub\\\\ezen_pandas\\\\reperence']"
      ]
     },
     "execution_count": 2,
     "metadata": {},
     "output_type": "execute_result"
    }
   ],
   "source": [
    "sys.path"
   ]
  },
  {
   "cell_type": "code",
   "execution_count": null,
   "metadata": {},
   "outputs": [],
   "source": []
  }
 ],
 "metadata": {
  "kernelspec": {
   "display_name": "Python 3",
   "language": "python",
   "name": "python3"
  },
  "language_info": {
   "codemirror_mode": {
    "name": "ipython",
    "version": 3
   },
   "file_extension": ".py",
   "mimetype": "text/x-python",
   "name": "python",
   "nbconvert_exporter": "python",
   "pygments_lexer": "ipython3",
   "version": "3.11.4"
  },
  "orig_nbformat": 4
 },
 "nbformat": 4,
 "nbformat_minor": 2
}
