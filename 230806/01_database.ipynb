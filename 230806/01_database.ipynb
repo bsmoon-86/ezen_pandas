{
 "cells": [
  {
   "cell_type": "markdown",
   "metadata": {},
   "source": [
    "### mysql과 python 연동\n",
    "1. 라이브러리 설치 \n",
    "2. sql 서버의 정보를 등록\n",
    "3. sql 서버에 접속 \n",
    "4. sql 쿼리문을 이용하여 데이터를 CRUD작업"
   ]
  },
  {
   "cell_type": "code",
   "execution_count": null,
   "metadata": {},
   "outputs": [],
   "source": [
    "# 라이브러리 설치 \n",
    "!pip install pymysql"
   ]
  },
  {
   "cell_type": "code",
   "execution_count": null,
   "metadata": {},
   "outputs": [],
   "source": [
    "!pip install pandas\n",
    "!pip install matplotlib"
   ]
  },
  {
   "cell_type": "code",
   "execution_count": null,
   "metadata": {},
   "outputs": [],
   "source": [
    "# 라이브러리 로드 \n",
    "import pymysql"
   ]
  },
  {
   "cell_type": "code",
   "execution_count": null,
   "metadata": {},
   "outputs": [],
   "source": [
    "import pandas as pd"
   ]
  },
  {
   "cell_type": "code",
   "execution_count": null,
   "metadata": {},
   "outputs": [],
   "source": [
    "# sql 서버의 정보를 변수에 대입 \n",
    "_db = pymysql.connect(\n",
    "    user = 'root', \n",
    "    password = '1234', \n",
    "    # host = '172.16.133.45',\n",
    "    host = 'localhost' ,\n",
    "    db = 'ezen', \n",
    "    port = 3306\n",
    ")"
   ]
  },
  {
   "cell_type": "code",
   "execution_count": null,
   "metadata": {},
   "outputs": [],
   "source": [
    "# cursor 생성\n",
    "# sql 쿼리문을 실행 시키기 위한 필수 변수\n",
    "# Dictcursor는 sql 쿼리문을 실행하고 나서 결과값을 딕셔너리 형태로 받기 위한 설정\n",
    "cursor = _db.cursor(pymysql.cursors.DictCursor)"
   ]
  },
  {
   "cell_type": "code",
   "execution_count": null,
   "metadata": {},
   "outputs": [],
   "source": [
    "# sql 쿼리문을 변수로 저장\n",
    "sql = \"\"\"\n",
    "    SELECT \n",
    "    * \n",
    "    FROM \n",
    "    user\n",
    "\"\"\"\n",
    "\n",
    "# sql 쿼리문을 서버에 질의\n",
    "cursor.execute(sql)"
   ]
  },
  {
   "cell_type": "code",
   "execution_count": null,
   "metadata": {},
   "outputs": [],
   "source": [
    "result = cursor.fetchall()\n",
    "result"
   ]
  },
  {
   "cell_type": "code",
   "execution_count": null,
   "metadata": {},
   "outputs": [],
   "source": [
    "pd.DataFrame(result)"
   ]
  },
  {
   "cell_type": "code",
   "execution_count": null,
   "metadata": {},
   "outputs": [],
   "source": [
    "### insert \n",
    "sql = \"\"\"\n",
    "    INSERT INTO\n",
    "    user \n",
    "    VALUES \n",
    "    ('test3', '111111', '3')\n",
    "\"\"\"\n",
    "\n",
    "cursor.execute(sql)"
   ]
  },
  {
   "cell_type": "code",
   "execution_count": null,
   "metadata": {},
   "outputs": [],
   "source": [
    "_db.commit()"
   ]
  },
  {
   "cell_type": "markdown",
   "metadata": {},
   "source": [
    "### sql 함수화\n",
    "1. 첫번째 함수\n",
    "    - 매개변수 1개(sql 쿼리문)\n",
    "    - sql 쿼리문을 실행하고 결과를 데이터프레임으로 리턴\n",
    "2. 두 번째 함수\n",
    "    - 매개변수 1개(sql 쿼리문)\n",
    "    - sql 쿼리문을 실행하고 데이터베이스를 변경 \n",
    "3. 세 번째 함수\n",
    "    - 1번 함수와 2번 함수를 하나의 함수에서 실행이 될 수 있도록 생성"
   ]
  },
  {
   "cell_type": "code",
   "execution_count": null,
   "metadata": {},
   "outputs": [],
   "source": [
    "def sql_select(sql):\n",
    "    # 커서를 이용하여 sql을 실행\n",
    "    cursor.execute(sql)\n",
    "    # 쿼리문에 대한 결과를 데이터프레임으로 변경\n",
    "    result = cursor.fetchall()\n",
    "    df = pd.DataFrame(result)\n",
    "    return df"
   ]
  },
  {
   "cell_type": "code",
   "execution_count": null,
   "metadata": {},
   "outputs": [],
   "source": [
    "sql = \"\"\"\n",
    "    SELECT \n",
    "    * \n",
    "    FROM \n",
    "    user\n",
    "\"\"\"\n",
    "\n",
    "sql_select(sql)"
   ]
  },
  {
   "cell_type": "code",
   "execution_count": null,
   "metadata": {},
   "outputs": [],
   "source": [
    "def sql_cud(sql, value):\n",
    "    # 커서를 이용하여 쿼리문을 실행\n",
    "    cursor.execute(sql, value)\n",
    "    # 데이터베이스를 변경 \n",
    "    _db.commit()\n",
    "    return \"sql 변경 완료\""
   ]
  },
  {
   "cell_type": "code",
   "execution_count": null,
   "metadata": {},
   "outputs": [],
   "source": [
    "sql = \"\"\"\n",
    "    INSERT INTO \n",
    "    user \n",
    "    VALUES \n",
    "    (%s, %s, %s)\n",
    "\"\"\"\n",
    "\n",
    "values = [\"test5\", \"1234\", \"1\"]\n",
    "\n",
    "sql_cud(sql, values)"
   ]
  },
  {
   "cell_type": "code",
   "execution_count": null,
   "metadata": {},
   "outputs": [],
   "source": [
    "sql = \"\"\"\n",
    "    insert into \n",
    "    user_select \n",
    "    values \n",
    "    (%s, %s)\n",
    "\"\"\"\n",
    "\n",
    "sql2 = \"select * from user\"\n",
    "\n",
    "# 문자열을 찾는 함수\n",
    "print(sql.find('select'))\n",
    "print(sql2.find('select'))\n"
   ]
  },
  {
   "cell_type": "code",
   "execution_count": null,
   "metadata": {},
   "outputs": [],
   "source": [
    "sql2.strip().upper().startswith('SELECT')"
   ]
  },
  {
   "cell_type": "code",
   "execution_count": null,
   "metadata": {},
   "outputs": [],
   "source": [
    "def _sql(sql, value=[]):\n",
    "    cursor.execute(sql, value)\n",
    "    if sql.strip().upper().startswith('SELECT'):\n",
    "        result = cursor.fetchall()\n",
    "        df = pd.DataFrame(result)\n",
    "        return df\n",
    "    else:\n",
    "        _db.commit()\n",
    "        return \"sql 변경 완료\""
   ]
  },
  {
   "cell_type": "code",
   "execution_count": null,
   "metadata": {},
   "outputs": [],
   "source": [
    "sql = \"\"\"\n",
    "    select \n",
    "    * \n",
    "    from \n",
    "    user\n",
    "\"\"\"\n",
    "\n",
    "_sql(sql)"
   ]
  },
  {
   "cell_type": "code",
   "execution_count": 41,
   "metadata": {},
   "outputs": [
    {
     "data": {
      "text/plain": [
       "'sql 변경 완료'"
      ]
     },
     "execution_count": 41,
     "metadata": {},
     "output_type": "execute_result"
    }
   ],
   "source": [
    "sql = \"\"\"\n",
    "    delete \n",
    "    from \n",
    "    user \n",
    "    where \n",
    "    id = %s\n",
    "\"\"\"\n",
    "\n",
    "values = ['test5']\n",
    "\n",
    "_sql(sql, values)"
   ]
  },
  {
   "cell_type": "markdown",
   "metadata": {},
   "source": [
    "### sql 함수를 클래스로 변경 "
   ]
  },
  {
   "cell_type": "code",
   "execution_count": 42,
   "metadata": {},
   "outputs": [],
   "source": [
    "class Database:\n",
    "    # 생성자 함수 생성\n",
    "    # DB 서버에 대한 정보를 입력\n",
    "    def __init__(self, _host, _user, _pass, _db, _port):\n",
    "        # db라는 변수 생성 (sql 서버에 접속을 하는 변수)\n",
    "        self.db = pymysql.connect(\n",
    "            user = _user, \n",
    "            password = _pass, \n",
    "            host = _host, \n",
    "            db = _db, \n",
    "            port = _port\n",
    "        )\n",
    "        # cursor 변수 생성\n",
    "        self.cursor = self.db.cursor(pymysql.cursors.DictCursor)\n",
    "    \n",
    "    # 쿼리문을 실행하여 결과를 리턴해주거나 데이터베이스를 변경하는 함수\n",
    "    def query(self, sql, value = []):\n",
    "        self.cursor.execute(sql, value)\n",
    "        \n",
    "        if sql.strip().upper().startswith('SELECT'):\n",
    "            result = self.cursor.fetchall() \n",
    "            result = pd.DataFrame(result)\n",
    "        else:\n",
    "            self.db.commit()\n",
    "            result = \"Query OK\"\n",
    "        \n",
    "        return result\n",
    "    \n",
    "    # sql 서버와의 접속을 종료\n",
    "    def sql_close(self):\n",
    "        self.db.close()"
   ]
  },
  {
   "cell_type": "code",
   "execution_count": 43,
   "metadata": {},
   "outputs": [],
   "source": [
    "# 클래스 생성\n",
    "test_sql = Database(\n",
    "    'localhost', \n",
    "    # '172.16.133.45'\n",
    "    'root', \n",
    "    '1234', \n",
    "    'ezen', \n",
    "    3306\n",
    ")"
   ]
  },
  {
   "cell_type": "code",
   "execution_count": 46,
   "metadata": {},
   "outputs": [
    {
     "data": {
      "text/html": [
       "<div>\n",
       "<style scoped>\n",
       "    .dataframe tbody tr th:only-of-type {\n",
       "        vertical-align: middle;\n",
       "    }\n",
       "\n",
       "    .dataframe tbody tr th {\n",
       "        vertical-align: top;\n",
       "    }\n",
       "\n",
       "    .dataframe thead th {\n",
       "        text-align: right;\n",
       "    }\n",
       "</style>\n",
       "<table border=\"1\" class=\"dataframe\">\n",
       "  <thead>\n",
       "    <tr style=\"text-align: right;\">\n",
       "      <th></th>\n",
       "      <th>id</th>\n",
       "      <th>password</th>\n",
       "      <th>no</th>\n",
       "    </tr>\n",
       "  </thead>\n",
       "  <tbody>\n",
       "    <tr>\n",
       "      <th>0</th>\n",
       "      <td>asd</td>\n",
       "      <td>12345</td>\n",
       "      <td></td>\n",
       "    </tr>\n",
       "    <tr>\n",
       "      <th>1</th>\n",
       "      <td>test</td>\n",
       "      <td>1234</td>\n",
       "      <td></td>\n",
       "    </tr>\n",
       "    <tr>\n",
       "      <th>2</th>\n",
       "      <td>test2</td>\n",
       "      <td>9999</td>\n",
       "      <td></td>\n",
       "    </tr>\n",
       "    <tr>\n",
       "      <th>3</th>\n",
       "      <td>test3</td>\n",
       "      <td>111111</td>\n",
       "      <td>3</td>\n",
       "    </tr>\n",
       "    <tr>\n",
       "      <th>4</th>\n",
       "      <td>test4</td>\n",
       "      <td>1111</td>\n",
       "      <td>10</td>\n",
       "    </tr>\n",
       "  </tbody>\n",
       "</table>\n",
       "</div>"
      ],
      "text/plain": [
       "      id password  no\n",
       "0    asd    12345    \n",
       "1   test     1234    \n",
       "2  test2     9999    \n",
       "3  test3   111111   3\n",
       "4  test4     1111  10"
      ]
     },
     "execution_count": 46,
     "metadata": {},
     "output_type": "execute_result"
    }
   ],
   "source": [
    "sql = \"\"\"\n",
    "    select \n",
    "    * \n",
    "    from \n",
    "    user\n",
    "\"\"\"\n",
    "\n",
    "test_sql.query(sql)"
   ]
  },
  {
   "cell_type": "code",
   "execution_count": 45,
   "metadata": {},
   "outputs": [
    {
     "data": {
      "text/plain": [
       "'Query OK'"
      ]
     },
     "execution_count": 45,
     "metadata": {},
     "output_type": "execute_result"
    }
   ],
   "source": [
    "_id = input(\"id를 입력하시오\")\n",
    "_pass = input('패스워드를 입력하시오')\n",
    "sql = \"\"\"\n",
    "    update \n",
    "    user \n",
    "    set \n",
    "    password = %s\n",
    "    where \n",
    "    id = %s\n",
    "\"\"\"\n",
    "\n",
    "value = [_pass, _id]\n",
    "\n",
    "test_sql.query(sql, value)"
   ]
  },
  {
   "cell_type": "code",
   "execution_count": 47,
   "metadata": {},
   "outputs": [],
   "source": [
    "import sql_mod as sm"
   ]
  },
  {
   "cell_type": "code",
   "execution_count": 48,
   "metadata": {},
   "outputs": [],
   "source": [
    "# 클래스 생성\n",
    "mod_sql = sm.Database(\n",
    "    # \"172.16.133.45\",\n",
    "    'localhost', \n",
    "    # 'root2',\n",
    "    'root', \n",
    "    '1234', \n",
    "    'ezen', \n",
    "    3306\n",
    ")"
   ]
  },
  {
   "cell_type": "code",
   "execution_count": 49,
   "metadata": {},
   "outputs": [
    {
     "data": {
      "text/html": [
       "<div>\n",
       "<style scoped>\n",
       "    .dataframe tbody tr th:only-of-type {\n",
       "        vertical-align: middle;\n",
       "    }\n",
       "\n",
       "    .dataframe tbody tr th {\n",
       "        vertical-align: top;\n",
       "    }\n",
       "\n",
       "    .dataframe thead th {\n",
       "        text-align: right;\n",
       "    }\n",
       "</style>\n",
       "<table border=\"1\" class=\"dataframe\">\n",
       "  <thead>\n",
       "    <tr style=\"text-align: right;\">\n",
       "      <th></th>\n",
       "      <th>id</th>\n",
       "      <th>name</th>\n",
       "      <th>adr</th>\n",
       "      <th>phone</th>\n",
       "    </tr>\n",
       "  </thead>\n",
       "  <tbody>\n",
       "    <tr>\n",
       "      <th>0</th>\n",
       "      <td>test</td>\n",
       "      <td>kim</td>\n",
       "      <td>None</td>\n",
       "      <td>None</td>\n",
       "    </tr>\n",
       "    <tr>\n",
       "      <th>1</th>\n",
       "      <td>test2</td>\n",
       "      <td>park</td>\n",
       "      <td>Seoul</td>\n",
       "      <td>01012345678</td>\n",
       "    </tr>\n",
       "    <tr>\n",
       "      <th>2</th>\n",
       "      <td>asd</td>\n",
       "      <td>Lee</td>\n",
       "      <td>bundong</td>\n",
       "      <td>01078945623</td>\n",
       "    </tr>\n",
       "  </tbody>\n",
       "</table>\n",
       "</div>"
      ],
      "text/plain": [
       "      id  name      adr        phone\n",
       "0   test   kim     None         None\n",
       "1  test2  park    Seoul  01012345678\n",
       "2    asd   Lee  bundong  01078945623"
      ]
     },
     "execution_count": 49,
     "metadata": {},
     "output_type": "execute_result"
    }
   ],
   "source": [
    "sql = \"\"\"\n",
    "    select \n",
    "    * \n",
    "    from \n",
    "    user_info\n",
    "\"\"\"\n",
    "\n",
    "mod_sql.query(sql)"
   ]
  },
  {
   "cell_type": "code",
   "execution_count": 50,
   "metadata": {},
   "outputs": [],
   "source": [
    "mod_sql2 = sm.Database(\n",
    "    '172.16.133.45', \n",
    "    \"root2\", \n",
    "    \"1234\", \n",
    "    \"ezen\", \n",
    "    3306\n",
    ")"
   ]
  },
  {
   "cell_type": "code",
   "execution_count": 51,
   "metadata": {},
   "outputs": [
    {
     "data": {
      "text/html": [
       "<div>\n",
       "<style scoped>\n",
       "    .dataframe tbody tr th:only-of-type {\n",
       "        vertical-align: middle;\n",
       "    }\n",
       "\n",
       "    .dataframe tbody tr th {\n",
       "        vertical-align: top;\n",
       "    }\n",
       "\n",
       "    .dataframe thead th {\n",
       "        text-align: right;\n",
       "    }\n",
       "</style>\n",
       "<table border=\"1\" class=\"dataframe\">\n",
       "  <thead>\n",
       "    <tr style=\"text-align: right;\">\n",
       "      <th></th>\n",
       "      <th>id</th>\n",
       "      <th>name</th>\n",
       "      <th>adr</th>\n",
       "      <th>phone</th>\n",
       "    </tr>\n",
       "  </thead>\n",
       "  <tbody>\n",
       "    <tr>\n",
       "      <th>0</th>\n",
       "      <td>test</td>\n",
       "      <td>kim</td>\n",
       "      <td>None</td>\n",
       "      <td>None</td>\n",
       "    </tr>\n",
       "    <tr>\n",
       "      <th>1</th>\n",
       "      <td>test2</td>\n",
       "      <td>park</td>\n",
       "      <td>Seoul</td>\n",
       "      <td>01012345678</td>\n",
       "    </tr>\n",
       "    <tr>\n",
       "      <th>2</th>\n",
       "      <td>asd</td>\n",
       "      <td>Lee</td>\n",
       "      <td>bundong</td>\n",
       "      <td>01078945623</td>\n",
       "    </tr>\n",
       "  </tbody>\n",
       "</table>\n",
       "</div>"
      ],
      "text/plain": [
       "      id  name      adr        phone\n",
       "0   test   kim     None         None\n",
       "1  test2  park    Seoul  01012345678\n",
       "2    asd   Lee  bundong  01078945623"
      ]
     },
     "execution_count": 51,
     "metadata": {},
     "output_type": "execute_result"
    }
   ],
   "source": [
    "mod_sql2.query(sql)"
   ]
  },
  {
   "cell_type": "code",
   "execution_count": 52,
   "metadata": {},
   "outputs": [
    {
     "data": {
      "text/html": [
       "<div>\n",
       "<style scoped>\n",
       "    .dataframe tbody tr th:only-of-type {\n",
       "        vertical-align: middle;\n",
       "    }\n",
       "\n",
       "    .dataframe tbody tr th {\n",
       "        vertical-align: top;\n",
       "    }\n",
       "\n",
       "    .dataframe thead th {\n",
       "        text-align: right;\n",
       "    }\n",
       "</style>\n",
       "<table border=\"1\" class=\"dataframe\">\n",
       "  <thead>\n",
       "    <tr style=\"text-align: right;\">\n",
       "      <th></th>\n",
       "      <th>id</th>\n",
       "      <th>name</th>\n",
       "      <th>adr</th>\n",
       "      <th>phone</th>\n",
       "    </tr>\n",
       "  </thead>\n",
       "  <tbody>\n",
       "    <tr>\n",
       "      <th>0</th>\n",
       "      <td>test</td>\n",
       "      <td>kim</td>\n",
       "      <td>None</td>\n",
       "      <td>None</td>\n",
       "    </tr>\n",
       "    <tr>\n",
       "      <th>1</th>\n",
       "      <td>test2</td>\n",
       "      <td>park</td>\n",
       "      <td>Seoul</td>\n",
       "      <td>01012345678</td>\n",
       "    </tr>\n",
       "    <tr>\n",
       "      <th>2</th>\n",
       "      <td>asd</td>\n",
       "      <td>Lee</td>\n",
       "      <td>bundong</td>\n",
       "      <td>01078945623</td>\n",
       "    </tr>\n",
       "  </tbody>\n",
       "</table>\n",
       "</div>"
      ],
      "text/plain": [
       "      id  name      adr        phone\n",
       "0   test   kim     None         None\n",
       "1  test2  park    Seoul  01012345678\n",
       "2    asd   Lee  bundong  01078945623"
      ]
     },
     "execution_count": 52,
     "metadata": {},
     "output_type": "execute_result"
    }
   ],
   "source": [
    "mod_sql.query(sql)"
   ]
  },
  {
   "cell_type": "code",
   "execution_count": null,
   "metadata": {},
   "outputs": [],
   "source": []
  }
 ],
 "metadata": {
  "kernelspec": {
   "display_name": "Python 3",
   "language": "python",
   "name": "python3"
  },
  "language_info": {
   "codemirror_mode": {
    "name": "ipython",
    "version": 3
   },
   "file_extension": ".py",
   "mimetype": "text/x-python",
   "name": "python",
   "nbconvert_exporter": "python",
   "pygments_lexer": "ipython3",
   "version": "3.11.4"
  },
  "orig_nbformat": 4
 },
 "nbformat": 4,
 "nbformat_minor": 2
}
