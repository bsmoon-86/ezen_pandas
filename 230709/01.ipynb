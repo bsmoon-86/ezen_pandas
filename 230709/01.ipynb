{
 "cells": [
  {
   "cell_type": "code",
   "execution_count": null,
   "metadata": {},
   "outputs": [],
   "source": [
    "# 주석\n",
    "# 주석의 의미는 코드를 설명\n",
    "a = 10\n",
    "b = \"test\"\n",
    "\n",
    "print(a)\n",
    "print(type(a))\n",
    "print(b)\n",
    "print(type(b))"
   ]
  },
  {
   "cell_type": "code",
   "execution_count": null,
   "metadata": {},
   "outputs": [],
   "source": [
    "# bool 형태의 데이터를 생성\n",
    "a = True\n",
    "print(type(a))"
   ]
  },
  {
   "cell_type": "code",
   "execution_count": null,
   "metadata": {},
   "outputs": [],
   "source": [
    "# 산술연산자\n",
    "# 기본적인 사칙연산\n",
    "a = 7\n",
    "b = 3\n",
    "\n",
    "print(a+b, a-b, a*b, a/b, a//b, a%b, a**b)"
   ]
  },
  {
   "cell_type": "code",
   "execution_count": null,
   "metadata": {},
   "outputs": [],
   "source": [
    "# 산술연산자의 우선 순위 \n",
    "c = 2\n",
    "print( a+b/c )\n",
    "print( (a+b)/c )"
   ]
  },
  {
   "cell_type": "code",
   "execution_count": null,
   "metadata": {},
   "outputs": [],
   "source": [
    "# 대입연산자\n",
    "# += , -=, *=, /=, //=, %=, *=\n",
    "a += 5          # a = a + 5\n",
    "print(a)        # 12\n",
    "a -= 3          # a = a - 3\n",
    "print(a)        # 9"
   ]
  },
  {
   "cell_type": "code",
   "execution_count": null,
   "metadata": {},
   "outputs": [],
   "source": [
    "print(a + 3)    # 12\n",
    "print(a)        # ?"
   ]
  },
  {
   "cell_type": "code",
   "execution_count": null,
   "metadata": {},
   "outputs": [],
   "source": [
    "print(a)    # 9\n",
    "a = a + 3\n",
    "print(a)    # 12"
   ]
  },
  {
   "cell_type": "markdown",
   "metadata": {},
   "source": [
    "# if문\n",
    "- 조건식을 기준으로 참인 경우 실행 할 코드와 거짓인 경우 실행 할 코드를 작성"
   ]
  },
  {
   "cell_type": "code",
   "execution_count": null,
   "metadata": {},
   "outputs": [],
   "source": [
    "# if문\n",
    "a = 11\n",
    "\n",
    "if a < 10 :\n",
    "    print('a는 10보다 작다')"
   ]
  },
  {
   "cell_type": "code",
   "execution_count": null,
   "metadata": {},
   "outputs": [],
   "source": [
    "# if ~ else 문\n",
    "a = 20\n",
    "\n",
    "if a < 10 :\n",
    "    # 조건식이 참인 경우 실행이 되는 부분\n",
    "    print('a는 10보다 작다')\n",
    "else :\n",
    "    # 조건식이 거짓인 경우 실행이 되는 부분\n",
    "    print('a는 10보다 크거나 같다')"
   ]
  },
  {
   "cell_type": "code",
   "execution_count": null,
   "metadata": {},
   "outputs": [],
   "source": [
    "# 조건식이 여러개인 경우 if문\n",
    "# input함수는 유저가 입력할 수 있는 창을 새로 만들어준다.\n",
    "score = int(input(\"점수를 입력하시오 : \"))\n",
    "print(score)\n",
    "\n",
    "if score >= 90 :\n",
    "    print('A학점')\n",
    "elif score >= 80 :\n",
    "    print('B학점')\n",
    "elif score >= 70 :\n",
    "    print('C학점')\n",
    "else :\n",
    "    print('F학점')\n",
    "\n",
    "print('프로그램 종료')"
   ]
  },
  {
   "cell_type": "markdown",
   "metadata": {},
   "source": [
    "# 반복문 \n",
    "- for문\n",
    "    - 리스트의 항목의 갯수만큼 반복 실행 \n",
    "- while문\n",
    "    - 해당하는 조건식이 거짓이 될 때까지 반복 실행"
   ]
  },
  {
   "cell_type": "code",
   "execution_count": null,
   "metadata": {},
   "outputs": [],
   "source": [
    "# range(시작값, 종료값, 증가값)\n",
    "a = range(0, 10, 1)\n",
    "print(a)\n",
    "print(list(a))"
   ]
  },
  {
   "cell_type": "code",
   "execution_count": null,
   "metadata": {},
   "outputs": [],
   "source": [
    "# for문\n",
    "for i in range(0, 5, 1):\n",
    "    print(i, '번째 반복')"
   ]
  },
  {
   "cell_type": "code",
   "execution_count": null,
   "metadata": {},
   "outputs": [],
   "source": [
    "for i in range(5):\n",
    "    print(i, \"번째 반복\")"
   ]
  },
  {
   "cell_type": "code",
   "execution_count": 18,
   "metadata": {},
   "outputs": [
    {
     "name": "stdout",
     "output_type": "stream",
     "text": [
      "1\n",
      "5\n",
      "9\n",
      "11\n"
     ]
    }
   ],
   "source": [
    "list_a = [1,5,9,11]\n",
    "\n",
    "for i in list_a:\n",
    "    print(i)"
   ]
  },
  {
   "cell_type": "code",
   "execution_count": 20,
   "metadata": {},
   "outputs": [
    {
     "name": "stdout",
     "output_type": "stream",
     "text": [
      "1\n",
      "3\n",
      "6\n",
      "10\n",
      "15\n",
      "21\n",
      "28\n",
      "36\n",
      "45\n",
      "55\n"
     ]
    }
   ],
   "source": [
    "# 1부터 10까지의 합계\n",
    "\n",
    "# 합계라는 초기값을 변수로 생성\n",
    "result = 0\n",
    "\n",
    "for i in range(1, 11, 1):\n",
    "    # 합계 라는 변수에 i값을 더하고 합계 변수에 대입\n",
    "    result = result + i\n",
    "    # result += i\n",
    "\n",
    "    print(result)"
   ]
  },
  {
   "cell_type": "code",
   "execution_count": null,
   "metadata": {},
   "outputs": [],
   "source": [
    "# 다중 for문 \n",
    "for i in range(1, 5, 1):\n",
    "    for j in range(1, 5, 1):\n",
    "        print(i, j)"
   ]
  },
  {
   "cell_type": "code",
   "execution_count": null,
   "metadata": {},
   "outputs": [],
   "source": [
    "# 구구단 생성\n",
    "for i in range(2, 10, 1):\n",
    "    print(i, '단')\n",
    "    for j in range(1, 10, 1):\n",
    "        print(i, \"X\", j, \"=\", i*j)"
   ]
  },
  {
   "cell_type": "code",
   "execution_count": 23,
   "metadata": {},
   "outputs": [
    {
     "name": "stdout",
     "output_type": "stream",
     "text": [
      "408\n"
     ]
    }
   ],
   "source": [
    "# for문 예제\n",
    "# 1부터 50까지의 숫자중에 3의 배수의 합계를 구하시오\n",
    "\n",
    "# 합계라는 초기값을 지정\n",
    "result = 0\n",
    "# for문 1부터 50까지 반복문 생성\n",
    "for i in range(1, 51, 1):\n",
    "    # 3의 배수(3으로 나눴을 때 나머지가 0인 경우)인 경우\n",
    "    if i % 3 == 0:\n",
    "        # 합계에 해당하는 값을 더해준다\n",
    "        result += i\n",
    "        # result = result + i \n",
    "# 합계의 값을 print()\n",
    "print(result)"
   ]
  },
  {
   "cell_type": "code",
   "execution_count": 25,
   "metadata": {},
   "outputs": [
    {
     "name": "stdout",
     "output_type": "stream",
     "text": [
      "2550\n",
      "2550\n"
     ]
    }
   ],
   "source": [
    "# 1부터 100까지의 숫자 중에 \n",
    "# 짝수의 합계 구하시오\n",
    "\n",
    "\n",
    "# 합계라는 초기 변수 생성\n",
    "result = 0\n",
    "# 1부터 100까지 반복문 생성\n",
    "for i in range(1, 101, 1):\n",
    "    # 짝수인 경우\n",
    "    if i % 2 == 0:\n",
    "        # 짝수의 값을 합계에 더해준다\n",
    "        result += i\n",
    "# 합계를 출력\n",
    "print(result)\n",
    "\n",
    "result = 0 \n",
    "for i in range(2, 101, 2):\n",
    "    result += i\n",
    "print(result)"
   ]
  },
  {
   "cell_type": "code",
   "execution_count": null,
   "metadata": {},
   "outputs": [],
   "source": [
    "# 두개의 주사위의 합이 5이상인 경우를 출력하시오\n",
    "\n",
    "# for문 생성 1번 주사위의 경우의 수만큼 반복\n",
    "for i in range(1, 7, 1):\n",
    "    # for문 생성 2번 주사위의 경우의 수 만큼 반복\n",
    "    for j in range(1, 7, 1):\n",
    "        # if문 두개의 주사위의 합계가 5 이상인 경우\n",
    "        if i + j >= 5:\n",
    "            # 해당하는 주사위들의 값을 출력\n",
    "            print(i, j)"
   ]
  },
  {
   "cell_type": "code",
   "execution_count": 28,
   "metadata": {},
   "outputs": [
    {
     "name": "stdout",
     "output_type": "stream",
     "text": [
      "1\n",
      "2\n",
      "3\n",
      "4\n",
      "5\n"
     ]
    }
   ],
   "source": [
    "# while문\n",
    "\n",
    "# 시작 값을 지정\n",
    "i = 0\n",
    "\n",
    "# while문 시작\n",
    "while i < 5:\n",
    "    i += 1\n",
    "    print(i)"
   ]
  },
  {
   "cell_type": "code",
   "execution_count": 30,
   "metadata": {},
   "outputs": [
    {
     "name": "stdout",
     "output_type": "stream",
     "text": [
      "65\n"
     ]
    }
   ],
   "source": [
    "# 1부터 10까지의 합계 while문으로 구현\n",
    "\n",
    "# 합계라는 변수를 생성\n",
    "result = 0\n",
    "# 시작 값을 생성\n",
    "i = 1\n",
    "\n",
    "# while문 생성\n",
    "while i < 11:\n",
    "    # 합계 변수에 i값을 더해준다\n",
    "    result += i\n",
    "    # i값을 1씩 증가\n",
    "    i += 1\n",
    "\n",
    "print(result)"
   ]
  },
  {
   "cell_type": "code",
   "execution_count": 32,
   "metadata": {},
   "outputs": [
    {
     "name": "stdout",
     "output_type": "stream",
     "text": [
      "1 번째 반복\n",
      "2 번째 반복\n",
      "3 번째 반복\n",
      "4 번째 반복\n",
      "5 번째 반복\n"
     ]
    }
   ],
   "source": [
    "# break문\n",
    "# 반복문을 강제로 종료\n",
    "for i in range(1, 101, 1):\n",
    "    print(i, '번째 반복')\n",
    "    # i가 5인 경우\n",
    "    if i == 5 :\n",
    "        break"
   ]
  },
  {
   "cell_type": "code",
   "execution_count": 33,
   "metadata": {},
   "outputs": [
    {
     "name": "stdout",
     "output_type": "stream",
     "text": [
      "37 703\n"
     ]
    }
   ],
   "source": [
    "# 예제문제 \n",
    "# for문을 이용하여 1부터 100까지의 합계를 구하는데 \n",
    "# 합계가 700이 넘어가는 순간에 i값과 합계의 값을 출력하시오\n",
    "\n",
    "# 합계라는 변수를 하나 생성\n",
    "result = 0\n",
    "# 반복문 for문 생성 1부터 100까지 반복\n",
    "for i in range(1, 101, 1):\n",
    "    # 합계에 i의 값을 더해준다\n",
    "    result += i\n",
    "    # 합계가 700이상인 경우\n",
    "    if result >= 700:\n",
    "        # 반복문을 종료\n",
    "        break\n",
    "# i의 값과 합계의 값을 출력\n",
    "print(i, result)"
   ]
  },
  {
   "cell_type": "code",
   "execution_count": 35,
   "metadata": {},
   "outputs": [
    {
     "name": "stdout",
     "output_type": "stream",
     "text": [
      "37 702\n"
     ]
    }
   ],
   "source": [
    "# while문으로 구성\n",
    "\n",
    "# 합계 변수를 생성\n",
    "result = 0\n",
    "# 시작 값을 지정\n",
    "i = 1\n",
    "\n",
    "# while문 생성\n",
    "while i <= 100:\n",
    "    # 1\n",
    "    result += i     \n",
    "    # 2         \n",
    "    if result >= 700:\n",
    "        break       \n",
    "    # 3\n",
    "    i += 1 \n",
    "\n",
    "print(i, result)"
   ]
  },
  {
   "cell_type": "code",
   "execution_count": 38,
   "metadata": {},
   "outputs": [
    {
     "name": "stdout",
     "output_type": "stream",
     "text": [
      "4 번째 반복\n",
      "5 번째 반복\n",
      "6 번째 반복\n",
      "7 번째 반복\n",
      "8 번째 반복\n",
      "9 번째 반복\n"
     ]
    }
   ],
   "source": [
    "# continue문\n",
    "for i in range(1, 10, 1):\n",
    "    if i <= 3:\n",
    "        continue\n",
    "    print(i, '번째 반복')"
   ]
  },
  {
   "cell_type": "code",
   "execution_count": 40,
   "metadata": {},
   "outputs": [
    {
     "name": "stdout",
     "output_type": "stream",
     "text": [
      "40 420\n"
     ]
    }
   ],
   "source": [
    "# 1부터 100까지의 짝수의 합계\n",
    "# continue문을 이용하여 짝수의 합계\n",
    "# 합계가 400이 넘어갈때 i의 값과 합계를 출력\n",
    "\n",
    "# 합계라는 변수를 생성\n",
    "result = 0\n",
    "# 반복문을 이용하여 1부터 100까지 반복\n",
    "for i in range(1, 101, 1) :   \n",
    "    # 짝수인 경우\n",
    "    if i % 2 == 0:\n",
    "        # 합계에 더해준다\n",
    "        # result += i\n",
    "        result = result + i\n",
    "    # 짝수가 아닌 경우\n",
    "    else :\n",
    "        # 반복문으로 돌아간다.\n",
    "        continue\n",
    "    # 합계가 400 이상인 경우\n",
    "    if result >= 400:\n",
    "        # 반복문을 종료한다\n",
    "        break\n",
    "# i의 값과 합계를 출력\n",
    "print(i, result)"
   ]
  },
  {
   "cell_type": "code",
   "execution_count": 41,
   "metadata": {},
   "outputs": [
    {
     "name": "stdout",
     "output_type": "stream",
     "text": [
      "40 420\n"
     ]
    }
   ],
   "source": [
    "result = 0 \n",
    "\n",
    "for i in range(101):\n",
    "    if i % 2 != 0:\n",
    "        continue\n",
    "    result += i\n",
    "    if result >= 400:\n",
    "        break\n",
    "\n",
    "print(i, result)"
   ]
  },
  {
   "cell_type": "code",
   "execution_count": 44,
   "metadata": {},
   "outputs": [
    {
     "name": "stdout",
     "output_type": "stream",
     "text": [
      "40 420\n"
     ]
    }
   ],
   "source": [
    "# while문\n",
    "\n",
    "# 합계 변수를 생성\n",
    "result = 0\n",
    "# 시작값 변수를 생성\n",
    "i = 1\n",
    "\n",
    "# while문 생성\n",
    "while i <= 100:\n",
    "    # 홀수 일때 반복으로 돌아온다\n",
    "    if i % 2 != 0:\n",
    "        i += 1\n",
    "        continue\n",
    "    result += i\n",
    "    # 합계가 400이 넘어가면\n",
    "    if result >= 400:\n",
    "        break\n",
    "    # 증가값\n",
    "    i += 1\n",
    "\n",
    "print(i, result)"
   ]
  },
  {
   "cell_type": "markdown",
   "metadata": {},
   "source": [
    "# 튜플, 리스트, 딕셔너리"
   ]
  },
  {
   "cell_type": "code",
   "execution_count": 45,
   "metadata": {},
   "outputs": [
    {
     "name": "stdout",
     "output_type": "stream",
     "text": [
      "(1, 'Hello')\n",
      "(3, 3.14)\n"
     ]
    }
   ],
   "source": [
    "# 튜플\n",
    "# 원소들을 다수를 가지는 변수\n",
    "# 수정이 불가능\n",
    "a = (1, \"Hello\")\n",
    "b = (3, 3.14)\n",
    "print(a)\n",
    "print(b)"
   ]
  },
  {
   "cell_type": "code",
   "execution_count": 46,
   "metadata": {},
   "outputs": [
    {
     "name": "stdout",
     "output_type": "stream",
     "text": [
      "(1, 'Hello', 3, 3.14)\n"
     ]
    }
   ],
   "source": [
    "# 튜플의 합\n",
    "c = a + b\n",
    "print(c)"
   ]
  },
  {
   "cell_type": "code",
   "execution_count": 47,
   "metadata": {},
   "outputs": [
    {
     "name": "stdout",
     "output_type": "stream",
     "text": [
      "(1, 'Hello', 1, 'Hello', 1, 'Hello')\n"
     ]
    }
   ],
   "source": [
    "d = a * 3       # d = a + a + a\n",
    "print(d)"
   ]
  },
  {
   "cell_type": "code",
   "execution_count": 49,
   "metadata": {},
   "outputs": [
    {
     "name": "stdout",
     "output_type": "stream",
     "text": [
      "1\n"
     ]
    }
   ],
   "source": [
    "# 튜플 인덱싱\n",
    "e = a[0]\n",
    "print(e)"
   ]
  },
  {
   "cell_type": "code",
   "execution_count": 50,
   "metadata": {},
   "outputs": [],
   "source": [
    "a = (10, 20, 30, 40)"
   ]
  },
  {
   "cell_type": "code",
   "execution_count": 51,
   "metadata": {},
   "outputs": [
    {
     "name": "stdout",
     "output_type": "stream",
     "text": [
      "(20, 30)\n"
     ]
    }
   ],
   "source": [
    "# 두 번째 항목부터 네 번째 항목 전까지 출력\n",
    "print(a[1:3])"
   ]
  },
  {
   "cell_type": "code",
   "execution_count": 54,
   "metadata": {},
   "outputs": [
    {
     "name": "stdout",
     "output_type": "stream",
     "text": [
      "(30, 40)\n",
      "(30, 40)\n"
     ]
    }
   ],
   "source": [
    "# 30, 40을 출력하려면?\n",
    "print(a[2:])\n",
    "print(a[2:5])"
   ]
  },
  {
   "cell_type": "code",
   "execution_count": 56,
   "metadata": {},
   "outputs": [
    {
     "name": "stdout",
     "output_type": "stream",
     "text": [
      "(10, 20)\n",
      "(10, 20)\n"
     ]
    }
   ],
   "source": [
    "# 10, 20만 출력하려면\n",
    "print(a[:2])\n",
    "print(a[0:2])"
   ]
  },
  {
   "cell_type": "code",
   "execution_count": 57,
   "metadata": {},
   "outputs": [],
   "source": [
    "# list 형태의 데이터\n",
    "a = [20, 10, 50, 22]\n",
    "b = [10, 20, 30, 40]"
   ]
  },
  {
   "cell_type": "code",
   "execution_count": 58,
   "metadata": {},
   "outputs": [
    {
     "name": "stdout",
     "output_type": "stream",
     "text": [
      "[10, 20, 22, 50]\n"
     ]
    }
   ],
   "source": [
    "# sort() -> 리스트의 항목들을 오름차순으로 정렬\n",
    "a.sort()\n",
    "print(a)"
   ]
  },
  {
   "cell_type": "code",
   "execution_count": 59,
   "metadata": {},
   "outputs": [
    {
     "name": "stdout",
     "output_type": "stream",
     "text": [
      "[40, 30, 20, 10]\n"
     ]
    }
   ],
   "source": [
    "# reverse() -> 순서를 역순으로 변경\n",
    "b.reverse()\n",
    "print(b)"
   ]
  },
  {
   "cell_type": "code",
   "execution_count": 60,
   "metadata": {},
   "outputs": [
    {
     "name": "stdout",
     "output_type": "stream",
     "text": [
      "[10, 20, 22, 50, 80]\n"
     ]
    }
   ],
   "source": [
    "# append() -> 리스트의 마지막에 항목을 추가 \n",
    "a.append(80)\n",
    "print(a)"
   ]
  },
  {
   "cell_type": "code",
   "execution_count": 61,
   "metadata": {},
   "outputs": [
    {
     "name": "stdout",
     "output_type": "stream",
     "text": [
      "[10, 20, 22, 50]\n"
     ]
    }
   ],
   "source": [
    "# pop() -> 리스트의 마지막의 항목을 삭제\n",
    "a.pop()\n",
    "print(a)"
   ]
  },
  {
   "cell_type": "code",
   "execution_count": 62,
   "metadata": {},
   "outputs": [
    {
     "name": "stdout",
     "output_type": "stream",
     "text": [
      "[20, 22, 50]\n"
     ]
    }
   ],
   "source": [
    "# del -> 삭제 할때 사용하는 함수\n",
    "del a[0]\n",
    "print(a)"
   ]
  },
  {
   "cell_type": "code",
   "execution_count": 63,
   "metadata": {},
   "outputs": [
    {
     "name": "stdout",
     "output_type": "stream",
     "text": [
      "3\n",
      "4\n"
     ]
    }
   ],
   "source": [
    "# len() -> 데이터의 길이를 출력하는 함수\n",
    "print(len(a))\n",
    "print(len(b))"
   ]
  },
  {
   "cell_type": "code",
   "execution_count": 64,
   "metadata": {},
   "outputs": [
    {
     "name": "stdout",
     "output_type": "stream",
     "text": [
      "[]\n",
      "[10]\n"
     ]
    }
   ],
   "source": [
    "# 리스트의 특징 \n",
    "# 리스트는 0개 이상으로 생성이 가능\n",
    "\n",
    "# 비어있는 리스트를 생성\n",
    "a = []\n",
    "print(a)\n",
    "a.append(10)\n",
    "print(a)"
   ]
  },
  {
   "cell_type": "code",
   "execution_count": 65,
   "metadata": {},
   "outputs": [
    {
     "name": "stdout",
     "output_type": "stream",
     "text": [
      "[(1, 6), (2, 5), (3, 4), (4, 3), (5, 2), (6, 1)]\n"
     ]
    }
   ],
   "source": [
    "# 두개의 주사위를 굴려서 두 주사위의 합이 7인 경우의 수를 \n",
    "# 리스트에 추가하여 리스트를 출력하라\n",
    "\n",
    "# 비어있는 리스트를 생성\n",
    "result = []\n",
    "# 첫 번째 주사위의 경우의 수 (반복문 생성)\n",
    "for i in range(1, 7, 1):    \n",
    "    # 두 번째 주사위의 경우의 수 (반복문 생성)\n",
    "    for j in range(1, 7, 1):\n",
    "        # 두 주사위의 합계가 7인 경우\n",
    "        if i + j == 7 :\n",
    "            # 비어있는 리스트에 두 주사위의 값을 튜플의 형태로 추가\n",
    "            result.append( (i, j) )\n",
    "# 리스트를 출력\n",
    "print(result)"
   ]
  },
  {
   "cell_type": "code",
   "execution_count": 66,
   "metadata": {},
   "outputs": [],
   "source": [
    "# 딕셔너리 \n",
    "# 사전형 데이터 \n",
    "# {key1 : value1, key2 : value2, ...}\n",
    "\n",
    "dict = {\n",
    "    \"name\" : \"test\", \n",
    "    \"age\" : 20, \n",
    "    \"phone\" : \"01012345678\"\n",
    "}"
   ]
  },
  {
   "cell_type": "code",
   "execution_count": 67,
   "metadata": {},
   "outputs": [
    {
     "name": "stdout",
     "output_type": "stream",
     "text": [
      "{'name': 'test', 'age': 20, 'phone': '01012345678'}\n"
     ]
    }
   ],
   "source": [
    "print(dict)"
   ]
  },
  {
   "cell_type": "code",
   "execution_count": 68,
   "metadata": {},
   "outputs": [
    {
     "name": "stdout",
     "output_type": "stream",
     "text": [
      "test\n"
     ]
    }
   ],
   "source": [
    "print(dict['name'])"
   ]
  },
  {
   "cell_type": "code",
   "execution_count": 70,
   "metadata": {},
   "outputs": [],
   "source": [
    "# 새로운 키 : 벨류 를 추가한다\n",
    "dict['area'] = 'seoul'"
   ]
  },
  {
   "cell_type": "code",
   "execution_count": 71,
   "metadata": {},
   "outputs": [
    {
     "name": "stdout",
     "output_type": "stream",
     "text": [
      "{'name': 'test', 'age': 20, 'phone': '01012345678', 'area': 'seoul'}\n"
     ]
    }
   ],
   "source": [
    "print(dict)"
   ]
  },
  {
   "cell_type": "code",
   "execution_count": 72,
   "metadata": {},
   "outputs": [],
   "source": [
    "# 존재하는 키값의 벨류를 수정\n",
    "dict['age'] = 30"
   ]
  },
  {
   "cell_type": "code",
   "execution_count": 73,
   "metadata": {},
   "outputs": [
    {
     "name": "stdout",
     "output_type": "stream",
     "text": [
      "{'name': 'test', 'age': 30, 'phone': '01012345678', 'area': 'seoul'}\n"
     ]
    }
   ],
   "source": [
    "print(dict)"
   ]
  },
  {
   "cell_type": "code",
   "execution_count": 75,
   "metadata": {},
   "outputs": [
    {
     "name": "stdout",
     "output_type": "stream",
     "text": [
      "dict_keys(['name', 'age', 'phone', 'area'])\n"
     ]
    }
   ],
   "source": [
    "# 해당하는 딕셔너리 데이터에서 key 값만 출력하려면?\n",
    "print(dict.keys())"
   ]
  },
  {
   "cell_type": "code",
   "execution_count": 76,
   "metadata": {},
   "outputs": [
    {
     "name": "stdout",
     "output_type": "stream",
     "text": [
      "dict_values(['test', 30, '01012345678', 'seoul'])\n"
     ]
    }
   ],
   "source": [
    "# 해당하는 딕셔너리 데이터에서 value 값만 출력하려면?\n",
    "print(dict.values())"
   ]
  },
  {
   "cell_type": "code",
   "execution_count": 77,
   "metadata": {},
   "outputs": [
    {
     "name": "stdout",
     "output_type": "stream",
     "text": [
      "dict_items([('name', 'test'), ('age', 30), ('phone', '01012345678'), ('area', 'seoul')])\n"
     ]
    }
   ],
   "source": [
    "# [(키, 벨류), ...]\n",
    "print(dict.items())"
   ]
  },
  {
   "cell_type": "code",
   "execution_count": 78,
   "metadata": {},
   "outputs": [],
   "source": [
    "# Database에서 데이터를 로드할때의 데이터의 형태\n",
    "# [{}, {}, {}, ...]\n",
    "test_data = [\n",
    "    {\n",
    "        \"name\" : \"test\", \n",
    "        \"age\" : 20\n",
    "    }, \n",
    "    {\n",
    "        \"name\" : \"test2\", \n",
    "        \"age\" : 30\n",
    "    }, \n",
    "    {\n",
    "        \"name\" : \"test3\", \n",
    "        \"age\" : 40\n",
    "    }\n",
    "]"
   ]
  },
  {
   "cell_type": "code",
   "execution_count": 79,
   "metadata": {},
   "outputs": [
    {
     "name": "stdout",
     "output_type": "stream",
     "text": [
      "[{'name': 'test', 'age': 20}, {'name': 'test2', 'age': 30}, {'name': 'test3', 'age': 40}]\n"
     ]
    }
   ],
   "source": [
    "print(test_data)"
   ]
  },
  {
   "cell_type": "code",
   "execution_count": 81,
   "metadata": {},
   "outputs": [
    {
     "name": "stdout",
     "output_type": "stream",
     "text": [
      "{'name': 'test2', 'age': 30}\n",
      "test2\n"
     ]
    }
   ],
   "source": [
    "# test_data에서 test2라는 항목을 추출하려면?\n",
    "\n",
    "# [] 없애는 작업 -> test2가 존재하는 {}형태의 데이터의 위치를 추출\n",
    "print(test_data[1])\n",
    "# {} 없애는 작업 -> test2가 존재하는 key값을 호출한다\n",
    "print(test_data[1]['name'])"
   ]
  },
  {
   "cell_type": "code",
   "execution_count": 82,
   "metadata": {},
   "outputs": [
    {
     "name": "stdout",
     "output_type": "stream",
     "text": [
      "[20, 30, 40]\n"
     ]
    }
   ],
   "source": [
    "# test_data에서 나이의 값들만 모아서 새로운 리스트 생성\n",
    "\n",
    "# 비어있는 리스트를 하나 생성\n",
    "result = []\n",
    "\n",
    "result.append(test_data[0]['age'])\n",
    "result.append(test_data[1]['age'])\n",
    "result.append(test_data[2]['age'])\n",
    "\n",
    "print(result)"
   ]
  },
  {
   "cell_type": "code",
   "execution_count": 84,
   "metadata": {},
   "outputs": [
    {
     "name": "stdout",
     "output_type": "stream",
     "text": [
      "[20, 30, 40]\n"
     ]
    }
   ],
   "source": [
    "# for문을 이용하여 작성\n",
    "result = []\n",
    "\n",
    "for i in range(0, len(test_data), 1):\n",
    "    result.append(test_data[i]['age'])\n",
    "\n",
    "print(result)"
   ]
  },
  {
   "cell_type": "code",
   "execution_count": 87,
   "metadata": {},
   "outputs": [
    {
     "name": "stdout",
     "output_type": "stream",
     "text": [
      "[20, 30, 40]\n"
     ]
    }
   ],
   "source": [
    "result = []\n",
    "\n",
    "for i in test_data:\n",
    "    # print(i['age'])\n",
    "    result.append(i['age'])\n",
    "\n",
    "print(result)"
   ]
  },
  {
   "cell_type": "code",
   "execution_count": null,
   "metadata": {},
   "outputs": [],
   "source": []
  }
 ],
 "metadata": {
  "kernelspec": {
   "display_name": "Python 3",
   "language": "python",
   "name": "python3"
  },
  "language_info": {
   "codemirror_mode": {
    "name": "ipython",
    "version": 3
   },
   "file_extension": ".py",
   "mimetype": "text/x-python",
   "name": "python",
   "nbconvert_exporter": "python",
   "pygments_lexer": "ipython3",
   "version": "3.11.0"
  },
  "orig_nbformat": 4
 },
 "nbformat": 4,
 "nbformat_minor": 2
}
