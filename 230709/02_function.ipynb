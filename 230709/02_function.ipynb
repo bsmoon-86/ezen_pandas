{
 "cells": [
  {
   "cell_type": "code",
   "execution_count": 1,
   "metadata": {},
   "outputs": [
    {
     "name": "stdout",
     "output_type": "stream",
     "text": [
      "HELLO WORLD\n",
      "hello world\n"
     ]
    }
   ],
   "source": [
    "# python에서 제공하는 문자열 내장 함수\n",
    "\n",
    "# 모든 문자열을 대문자로 변경, 소문자로 변경\n",
    "# upper(), lower()\n",
    "\n",
    "text = \"Hello World\"\n",
    "print(text.upper())\n",
    "print(text.lower())"
   ]
  },
  {
   "cell_type": "code",
   "execution_count": 3,
   "metadata": {},
   "outputs": [
    {
     "data": {
      "text/plain": [
       "'   Hello World   '"
      ]
     },
     "execution_count": 3,
     "metadata": {},
     "output_type": "execute_result"
    }
   ],
   "source": [
    "# 공백을 제거하는 함수 \n",
    "# strip() : 양쪽의 공백을 제거 \n",
    "# lstrip() : 왼쪽의 공백을 제거\n",
    "# rstrip() : 오른쪽의 공백을 제거 \n",
    "text = \"   Hello World   \"\n",
    "text"
   ]
  },
  {
   "cell_type": "code",
   "execution_count": 4,
   "metadata": {},
   "outputs": [
    {
     "data": {
      "text/plain": [
       "'Hello World'"
      ]
     },
     "execution_count": 4,
     "metadata": {},
     "output_type": "execute_result"
    }
   ],
   "source": [
    "# 양쪽의 공백을 제거 \n",
    "text.strip()"
   ]
  },
  {
   "cell_type": "code",
   "execution_count": 5,
   "metadata": {},
   "outputs": [
    {
     "data": {
      "text/plain": [
       "'Hello World   '"
      ]
     },
     "execution_count": 5,
     "metadata": {},
     "output_type": "execute_result"
    }
   ],
   "source": [
    "# 왼쪽의 공백만 제거 \n",
    "text.lstrip()"
   ]
  },
  {
   "cell_type": "code",
   "execution_count": 6,
   "metadata": {},
   "outputs": [
    {
     "data": {
      "text/plain": [
       "'   Hello World'"
      ]
     },
     "execution_count": 6,
     "metadata": {},
     "output_type": "execute_result"
    }
   ],
   "source": [
    "# 오른쪽의 공백만 제거 \n",
    "text.rstrip()"
   ]
  },
  {
   "cell_type": "code",
   "execution_count": 8,
   "metadata": {},
   "outputs": [],
   "source": [
    "# 선택한 문자열을 다른 값으로 치환해주는 함수\n",
    "# replace({선택할 문자열}, {변경할 문자열})\n",
    "text = text.replace(\"Hello\", \"Hi\")"
   ]
  },
  {
   "cell_type": "code",
   "execution_count": 9,
   "metadata": {},
   "outputs": [
    {
     "data": {
      "text/plain": [
       "'HiWorld'"
      ]
     },
     "execution_count": 9,
     "metadata": {},
     "output_type": "execute_result"
    }
   ],
   "source": [
    "# replace() 함수를 이용하여 공백을 삭제\n",
    "text.replace(\" \", \"\")"
   ]
  },
  {
   "cell_type": "code",
   "execution_count": 11,
   "metadata": {},
   "outputs": [
    {
     "data": {
      "text/plain": [
       "['a,b,c,d,e']"
      ]
     },
     "execution_count": 11,
     "metadata": {},
     "output_type": "execute_result"
    }
   ],
   "source": [
    "# 특정한 문자열을 이용하여 데이터를 나눠주는 함수\n",
    "# split({특정한 문자열})\n",
    "a = \"a,b,c,d,e\"\n",
    "\n",
    "a.split()"
   ]
  },
  {
   "cell_type": "markdown",
   "metadata": {},
   "source": [
    "# 함수\n",
    "- 어떠한 입력 값을 가지고 작업을 실행하고 결과물을 출력한다. "
   ]
  },
  {
   "cell_type": "code",
   "execution_count": 12,
   "metadata": {},
   "outputs": [],
   "source": [
    "# 매개변수가 존재하지 않는 함수 생성\n",
    "# 매개변수가 존재하지 않으면 함수는 같은 행동을 반복\n",
    "def func_1():\n",
    "    result = \"Hello\"\n",
    "    return result"
   ]
  },
  {
   "cell_type": "code",
   "execution_count": 13,
   "metadata": {},
   "outputs": [
    {
     "name": "stdout",
     "output_type": "stream",
     "text": [
      "Hello\n",
      "Hello\n",
      "Hello\n"
     ]
    }
   ],
   "source": [
    "print(func_1())\n",
    "print(func_1())\n",
    "print(func_1())"
   ]
  },
  {
   "cell_type": "code",
   "execution_count": 14,
   "metadata": {},
   "outputs": [],
   "source": [
    "# 매개변수가 존재하는 함수 생성\n",
    "def func_2(a, b):\n",
    "    result = a + b\n",
    "    return result"
   ]
  },
  {
   "cell_type": "code",
   "execution_count": 15,
   "metadata": {},
   "outputs": [
    {
     "name": "stdout",
     "output_type": "stream",
     "text": [
      "13\n",
      "4\n"
     ]
    }
   ],
   "source": [
    "print(func_2(5, 8))\n",
    "print(func_2(1, 3))"
   ]
  },
  {
   "cell_type": "code",
   "execution_count": 17,
   "metadata": {},
   "outputs": [
    {
     "ename": "TypeError",
     "evalue": "func_2() missing 1 required positional argument: 'b'",
     "output_type": "error",
     "traceback": [
      "\u001b[1;31m---------------------------------------------------------------------------\u001b[0m",
      "\u001b[1;31mTypeError\u001b[0m                                 Traceback (most recent call last)",
      "Cell \u001b[1;32mIn[17], line 2\u001b[0m\n\u001b[0;32m      1\u001b[0m \u001b[39m# 매개변수가 2개인데 인자 값을 1개만 적는 경우\u001b[39;00m\n\u001b[1;32m----> 2\u001b[0m \u001b[39mprint\u001b[39m(func_2(\u001b[39m10\u001b[39;49m))\n",
      "\u001b[1;31mTypeError\u001b[0m: func_2() missing 1 required positional argument: 'b'"
     ]
    }
   ],
   "source": [
    "# 매개변수가 2개인데 인자 값을 1개만 적는 경우\n",
    "print(func_2(10))"
   ]
  },
  {
   "cell_type": "code",
   "execution_count": 18,
   "metadata": {},
   "outputs": [
    {
     "ename": "TypeError",
     "evalue": "func_2() takes 2 positional arguments but 3 were given",
     "output_type": "error",
     "traceback": [
      "\u001b[1;31m---------------------------------------------------------------------------\u001b[0m",
      "\u001b[1;31mTypeError\u001b[0m                                 Traceback (most recent call last)",
      "Cell \u001b[1;32mIn[18], line 2\u001b[0m\n\u001b[0;32m      1\u001b[0m \u001b[39m# 인자값이 매개변수가 많은 경우\u001b[39;00m\n\u001b[1;32m----> 2\u001b[0m \u001b[39mprint\u001b[39m(func_2(\u001b[39m10\u001b[39;49m, \u001b[39m3\u001b[39;49m, \u001b[39m7\u001b[39;49m))\n",
      "\u001b[1;31mTypeError\u001b[0m: func_2() takes 2 positional arguments but 3 were given"
     ]
    }
   ],
   "source": [
    "# 인자값이 매개변수가 많은 경우\n",
    "print(func_2(10, 3, 7))"
   ]
  },
  {
   "cell_type": "code",
   "execution_count": 19,
   "metadata": {},
   "outputs": [],
   "source": [
    "# 매개변수에 기본 값을 지정하여 함수를 생성\n",
    "def func_3(a, b=3):       \n",
    "    # a라는 매개변수는 함수를 호출 시 필수로 넣어야되는 부분\n",
    "    # b라는 매개변수는 함수를 호출 시 옵션으로 넣어야되는 부분\n",
    "    result = a + b\n",
    "    return result\n"
   ]
  },
  {
   "cell_type": "code",
   "execution_count": 20,
   "metadata": {},
   "outputs": [
    {
     "name": "stdout",
     "output_type": "stream",
     "text": [
      "5\n",
      "7\n"
     ]
    }
   ],
   "source": [
    "# func_3에 a매개변수에 2라는 데이터를 삽입\n",
    "print(func_3(2))\n",
    "# func_3에 a매개변수에 2라는 데이터를 삽입\n",
    "# b매개변수에 5라는 데이터를 삽입\n",
    "print(func_3(2, 5))"
   ]
  },
  {
   "cell_type": "code",
   "execution_count": 21,
   "metadata": {},
   "outputs": [
    {
     "ename": "TypeError",
     "evalue": "func_3() missing 1 required positional argument: 'a'",
     "output_type": "error",
     "traceback": [
      "\u001b[1;31m---------------------------------------------------------------------------\u001b[0m",
      "\u001b[1;31mTypeError\u001b[0m                                 Traceback (most recent call last)",
      "Cell \u001b[1;32mIn[21], line 1\u001b[0m\n\u001b[1;32m----> 1\u001b[0m \u001b[39mprint\u001b[39m(func_3())\n",
      "\u001b[1;31mTypeError\u001b[0m: func_3() missing 1 required positional argument: 'a'"
     ]
    }
   ],
   "source": [
    "print(func_3())"
   ]
  },
  {
   "cell_type": "code",
   "execution_count": 22,
   "metadata": {},
   "outputs": [
    {
     "name": "stdout",
     "output_type": "stream",
     "text": [
      "25\n",
      "32\n"
     ]
    }
   ],
   "source": [
    "def func_4(a, b):\n",
    "    result  = a ** b\n",
    "    return result\n",
    "\n",
    "print(func_4(5, 2))\n",
    "print(func_4(b=5, a=2))"
   ]
  },
  {
   "cell_type": "code",
   "execution_count": 25,
   "metadata": {},
   "outputs": [
    {
     "name": "stdout",
     "output_type": "stream",
     "text": [
      "55\n",
      "3081\n",
      "0\n"
     ]
    }
   ],
   "source": [
    "# 예제문제 \n",
    "# 함수를 하나 생성 ( 매개변수 2개(x, y) )\n",
    "# 함수 내에서 실행이 되는 코드 \n",
    "    # x부터 y까지의 합계를 만들어서 리턴\n",
    "\n",
    "# 함수를 생성\n",
    "def func_5(x, y):\n",
    "    # 합계라는 변수를 생성\n",
    "    result = 0\n",
    "    # for문/while문을 이용하여 x부터 y까지 반복하는 반복문 생성\n",
    "    for i in range(x, y+1, 1):\n",
    "        # i값을 합계에 더해준다\n",
    "        result += i\n",
    "    # 합계를 리턴\n",
    "    return result\n",
    "# 함수를 호출하여 출력\n",
    "print(func_5(1, 10))\n",
    "print(func_5(1, 78))\n",
    "print(func_5(10, 1))"
   ]
  },
  {
   "cell_type": "code",
   "execution_count": 26,
   "metadata": {},
   "outputs": [
    {
     "name": "stdout",
     "output_type": "stream",
     "text": [
      "55\n",
      "55\n"
     ]
    }
   ],
   "source": [
    "def func_6(x, y):\n",
    "    # 합계 변수를 생성\n",
    "    result = 0\n",
    "    # x가 y보다 작은 경우\n",
    "    if x < y:\n",
    "        for i in range(x, y+1, 1):\n",
    "            result += i\n",
    "    else :\n",
    "    # x가 y보다 크거나 같은 경우\n",
    "        for i in range(y, x+1, 1):\n",
    "            result += i\n",
    "    return result\n",
    "\n",
    "print(func_6(1, 10))\n",
    "print(func_6(10, 1))"
   ]
  },
  {
   "cell_type": "code",
   "execution_count": 27,
   "metadata": {},
   "outputs": [
    {
     "name": "stdout",
     "output_type": "stream",
     "text": [
      "55\n",
      "55\n"
     ]
    }
   ],
   "source": [
    "def func_7(x, y):\n",
    "    result = 0\n",
    "    for i in range(min(x, y), max(x, y)+1, 1):\n",
    "        result += i\n",
    "    return result\n",
    "\n",
    "print(func_7(1, 10))\n",
    "print(func_7(10, 1))"
   ]
  },
  {
   "cell_type": "code",
   "execution_count": 30,
   "metadata": {},
   "outputs": [
    {
     "name": "stdout",
     "output_type": "stream",
     "text": [
      "15\n",
      "6\n",
      "55\n"
     ]
    }
   ],
   "source": [
    "# 인자의 개수가 가변인 경우 함수를 생성\n",
    "# 들어오는 인자 값들의 합계를 구하는 함수\n",
    "def func_8(*args):\n",
    "    # 합계라는 변수를 생성\n",
    "    result = 0\n",
    "    for i in args:\n",
    "        result += i\n",
    "    return result\n",
    "\n",
    "print(func_8(1,2,3,4,5))\n",
    "print(func_8(1,5))\n",
    "print(func_8(1,2,3,4,5,6,7,8,9,10))"
   ]
  },
  {
   "cell_type": "code",
   "execution_count": 33,
   "metadata": {},
   "outputs": [
    {
     "name": "stdout",
     "output_type": "stream",
     "text": [
      "[1, 4, 9, 16]\n"
     ]
    }
   ],
   "source": [
    "# 배열 데이터에서 각각의 원소들의 값들을 제곱하여 새로운 배열을 생성하는 함수\n",
    "\n",
    "a = [1,2,3,4]\n",
    "\n",
    "# 함수를 생성 (매개변수는 1개)\n",
    "def func_10(x):\n",
    "    # 비어있는 리스트(result)를 생성\n",
    "    result = []\n",
    "    # x의 길이만큼 반복을 하는 반복문을 생성\n",
    "    for i in range(0, len(x), 1):\n",
    "    # for i in x:\n",
    "        # 항목 하나를 선택하여 제곱한 뒤 비어있는 리스트에 추가 \n",
    "        result.append(x[i] ** 2)\n",
    "        # result.append(i ** 2)\n",
    "    # result를 리턴\n",
    "    return result\n",
    "\n",
    "# 함수를 호출\n",
    "print(func_10(a))"
   ]
  },
  {
   "cell_type": "code",
   "execution_count": 34,
   "metadata": {},
   "outputs": [
    {
     "name": "stdout",
     "output_type": "stream",
     "text": [
      "[1, 4, 9, 16]\n"
     ]
    }
   ],
   "source": [
    "# map 함수를 이용\n",
    "a = [1,2,3,4]\n",
    "\n",
    "def func_11(x):\n",
    "    result = x ** 2\n",
    "    return result\n",
    "\n",
    "result = [] \n",
    "\n",
    "for i in a:\n",
    "    result.append(func_11(i))\n",
    "print(result)"
   ]
  },
  {
   "cell_type": "code",
   "execution_count": 36,
   "metadata": {},
   "outputs": [
    {
     "data": {
      "text/plain": [
       "[1, 4, 9, 16]"
      ]
     },
     "execution_count": 36,
     "metadata": {},
     "output_type": "execute_result"
    }
   ],
   "source": [
    "# map(호출할 함수명, 리스트명)\n",
    "list(map(func_11, a))"
   ]
  },
  {
   "cell_type": "code",
   "execution_count": 37,
   "metadata": {},
   "outputs": [
    {
     "data": {
      "text/plain": [
       "[1, 4, 9, 16]"
      ]
     },
     "execution_count": 37,
     "metadata": {},
     "output_type": "execute_result"
    }
   ],
   "source": [
    "# 람다 함수\n",
    "# 함수를 생성함과 동시에 호출\n",
    "\n",
    "list(map(lambda x : x **2 , a))"
   ]
  },
  {
   "cell_type": "markdown",
   "metadata": {},
   "source": [
    "# 변수의 종류\n",
    "1. 전역 변수\n",
    "    - 어디서든 사용할 수 있는 변수\n",
    "    - 함수 내부에서나 함수 밖에서나 사용이 가능하다. \n",
    "2. 지역 변수\n",
    "    - 해당하는 지역에서만 사용이 가능한 변수\n",
    "    - 함수 내부, 클래스 안에서 생성한 변수\n",
    "    - 해당하는 지역에서 벗어나면 사용이 불가능\n",
    "3. 매개 변수\n",
    "    - 함수를 생성할 때 사용하는 변수의 이름\n",
    "    - 해당하는 함수에서만 사용이 가능하다. "
   ]
  },
  {
   "cell_type": "code",
   "execution_count": 38,
   "metadata": {},
   "outputs": [
    {
     "name": "stdout",
     "output_type": "stream",
     "text": [
      "10\n"
     ]
    }
   ],
   "source": [
    "# 전역변수를 생성\n",
    "a = 10\n",
    "print(a)"
   ]
  },
  {
   "cell_type": "code",
   "execution_count": 39,
   "metadata": {},
   "outputs": [
    {
     "name": "stdout",
     "output_type": "stream",
     "text": [
      "10\n"
     ]
    }
   ],
   "source": [
    "# 전역 변수는 함수 안에서든 밖에서든 어디든지 사용이 가능하다.\n",
    "def func_12():\n",
    "    print(a)\n",
    "\n",
    "func_12()"
   ]
  },
  {
   "cell_type": "code",
   "execution_count": 44,
   "metadata": {},
   "outputs": [
    {
     "name": "stdout",
     "output_type": "stream",
     "text": [
      "10\n",
      "100\n",
      "100\n"
     ]
    }
   ],
   "source": [
    "# 지역 변수 생성\n",
    "def func_13(x):\n",
    "    print(x)\n",
    "    func_res = x ** 2\n",
    "    print(func_res)\n",
    "    return func_res\n",
    "\n",
    "print(func_13(a))\n"
   ]
  },
  {
   "cell_type": "code",
   "execution_count": null,
   "metadata": {},
   "outputs": [],
   "source": []
  }
 ],
 "metadata": {
  "kernelspec": {
   "display_name": "Python 3",
   "language": "python",
   "name": "python3"
  },
  "language_info": {
   "codemirror_mode": {
    "name": "ipython",
    "version": 3
   },
   "file_extension": ".py",
   "mimetype": "text/x-python",
   "name": "python",
   "nbconvert_exporter": "python",
   "pygments_lexer": "ipython3",
   "version": "3.11.0"
  },
  "orig_nbformat": 4
 },
 "nbformat": 4,
 "nbformat_minor": 2
}
